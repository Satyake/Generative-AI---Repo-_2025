{
 "cells": [
  {
   "cell_type": "code",
   "execution_count": 18,
   "id": "a81b25b3-15df-40e4-bac4-3c4088c0f9bf",
   "metadata": {
    "tags": []
   },
   "outputs": [
    {
     "name": "stdout",
     "output_type": "stream",
     "text": [
      "\u001b[33mWARNING: Running pip as the 'root' user can result in broken permissions and conflicting behaviour with the system package manager. It is recommended to use a virtual environment instead: https://pip.pypa.io/warnings/venv\u001b[0m\u001b[33m\n",
      "\u001b[0m"
     ]
    }
   ],
   "source": [
    "!pip install -q chromadb langchain_huggingface langchain-openai langchain-text-splitters langchain-community langchain_chroma"
   ]
  },
  {
   "cell_type": "code",
   "execution_count": 24,
   "id": "9e5ad5d2-42dd-4b2c-9cf7-c12873bb95f2",
   "metadata": {
    "tags": []
   },
   "outputs": [
    {
     "data": {
      "text/plain": [
       "True"
      ]
     },
     "execution_count": 24,
     "metadata": {},
     "output_type": "execute_result"
    }
   ],
   "source": [
    "#build sample vector db\n",
    "from langchain_chroma import Chroma\n",
    "from langchain_community.document_loaders import TextLoader\n",
    "from langchain_text_splitters import RecursiveCharacterTextSplitter\n",
    "from langchain_huggingface import HuggingFaceEmbeddings\n",
    "import os \n",
    "from dotenv import load_dotenv\n",
    "load_dotenv()"
   ]
  },
  {
   "cell_type": "code",
   "execution_count": 25,
   "id": "1bb846b9-6e20-4505-b306-00f1fc06d2e9",
   "metadata": {
    "tags": []
   },
   "outputs": [],
   "source": [
    "os.environ['HF_TOKEN']=os.getenv('HF_TOKEN')"
   ]
  },
  {
   "cell_type": "code",
   "execution_count": 26,
   "id": "d6fa16b9-4f86-486d-a9bc-79bcee80466d",
   "metadata": {
    "tags": []
   },
   "outputs": [],
   "source": [
    "loader=TextLoader('speech.txt')\n",
    "data=loader.load()"
   ]
  },
  {
   "cell_type": "code",
   "execution_count": 30,
   "id": "65981ab1-e4a1-460f-9d36-fd1eb4853140",
   "metadata": {
    "tags": []
   },
   "outputs": [],
   "source": [
    "#split\n",
    "text_splitter=RecursiveCharacterTextSplitter(\n",
    "    chunk_size=500, chunk_overlap=10)\n",
    "splits=text_splitter.split_documents(data)"
   ]
  },
  {
   "cell_type": "code",
   "execution_count": 31,
   "id": "e1ebd686-5ffe-4d6e-97a1-54d5d63c4dd3",
   "metadata": {
    "tags": []
   },
   "outputs": [
    {
     "data": {
      "application/vnd.jupyter.widget-view+json": {
       "model_id": "71ef5a96874d4f02bb3791aa51a4009e",
       "version_major": 2,
       "version_minor": 0
      },
      "text/plain": [
       "model.safetensors:   0%|          | 0.00/90.9M [00:00<?, ?B/s]"
      ]
     },
     "metadata": {},
     "output_type": "display_data"
    },
    {
     "data": {
      "application/vnd.jupyter.widget-view+json": {
       "model_id": "fa53d00f541c42c192a654a9b816bba8",
       "version_major": 2,
       "version_minor": 0
      },
      "text/plain": [
       "tokenizer_config.json:   0%|          | 0.00/350 [00:00<?, ?B/s]"
      ]
     },
     "metadata": {},
     "output_type": "display_data"
    },
    {
     "data": {
      "application/vnd.jupyter.widget-view+json": {
       "model_id": "eded19c7675d4f6ebceaf82be1a4cb4a",
       "version_major": 2,
       "version_minor": 0
      },
      "text/plain": [
       "vocab.txt:   0%|          | 0.00/232k [00:00<?, ?B/s]"
      ]
     },
     "metadata": {},
     "output_type": "display_data"
    },
    {
     "data": {
      "application/vnd.jupyter.widget-view+json": {
       "model_id": "21dec63c1fcc4ff7b56ea3bd90d37b73",
       "version_major": 2,
       "version_minor": 0
      },
      "text/plain": [
       "tokenizer.json:   0%|          | 0.00/466k [00:00<?, ?B/s]"
      ]
     },
     "metadata": {},
     "output_type": "display_data"
    },
    {
     "data": {
      "application/vnd.jupyter.widget-view+json": {
       "model_id": "0e8151c14ce54def8ffe5403b27f2ea4",
       "version_major": 2,
       "version_minor": 0
      },
      "text/plain": [
       "special_tokens_map.json:   0%|          | 0.00/112 [00:00<?, ?B/s]"
      ]
     },
     "metadata": {},
     "output_type": "display_data"
    },
    {
     "data": {
      "application/vnd.jupyter.widget-view+json": {
       "model_id": "c30b5e0cf9224c1bb5f38ab01e9563f6",
       "version_major": 2,
       "version_minor": 0
      },
      "text/plain": [
       "1_Pooling/config.json:   0%|          | 0.00/190 [00:00<?, ?B/s]"
      ]
     },
     "metadata": {},
     "output_type": "display_data"
    }
   ],
   "source": [
    "embed=HuggingFaceEmbeddings(model_name=\"all-MiniLM-L6-v2\")"
   ]
  },
  {
   "cell_type": "code",
   "execution_count": 32,
   "id": "3f5baad9-51bc-4117-9ff2-9085e54b039d",
   "metadata": {
    "tags": []
   },
   "outputs": [],
   "source": [
    "vectordb=Chroma.from_documents(splits, embed)"
   ]
  },
  {
   "cell_type": "code",
   "execution_count": 33,
   "id": "1cfc9c7a-4099-499a-9b59-52cd214bd51f",
   "metadata": {
    "tags": []
   },
   "outputs": [
    {
     "data": {
      "text/plain": [
       "<langchain_chroma.vectorstores.Chroma at 0x7f033729ddd0>"
      ]
     },
     "execution_count": 33,
     "metadata": {},
     "output_type": "execute_result"
    }
   ],
   "source": [
    "vectordb"
   ]
  },
  {
   "cell_type": "code",
   "execution_count": 34,
   "id": "294607be-790c-4a36-868d-1e0f4f20f8fd",
   "metadata": {
    "tags": []
   },
   "outputs": [],
   "source": [
    "#query\n",
    "\n",
    "query=\"What does the speaker believe is the main reason for entering the war?\"\n",
    "docs=vectordb.similarity_search(query)"
   ]
  },
  {
   "cell_type": "code",
   "execution_count": 36,
   "id": "c6588715-2ffb-4655-b1a7-f5aad6dbcfe9",
   "metadata": {
    "tags": []
   },
   "outputs": [
    {
     "data": {
      "text/plain": [
       "'While normally used to facilitate communication with others, people may also use speech without the intent to communicate. Speech may nevertheless express emotions or desires; people talk to themselves sometimes in acts that are a development of what some psychologists (e.g., Lev Vygotsky) have maintained is the use of silent speech in an interior monologue to vivify and organize cognition, sometimes in the momentary adoption of a dual persona as self addressing self as though addressing'"
      ]
     },
     "execution_count": 36,
     "metadata": {},
     "output_type": "execute_result"
    }
   ],
   "source": [
    "docs[0].page_content"
   ]
  },
  {
   "cell_type": "code",
   "execution_count": 37,
   "id": "22641b46-4ae8-4b43-b6ae-e0f904c2add3",
   "metadata": {
    "tags": []
   },
   "outputs": [],
   "source": [
    "#save local \n",
    "vectordb=Chroma.from_documents(splits, embed, persist_directory='./chroma_db')"
   ]
  },
  {
   "cell_type": "code",
   "execution_count": 39,
   "id": "035343ea-ec61-4b73-8397-fc2d7b3335c4",
   "metadata": {
    "tags": []
   },
   "outputs": [],
   "source": [
    "db2=Chroma(persist_directory='./chroma_db', embedding_function=embed)"
   ]
  },
  {
   "cell_type": "code",
   "execution_count": 40,
   "id": "8aade411-a674-4c10-9d06-a4c859e5de36",
   "metadata": {
    "tags": []
   },
   "outputs": [],
   "source": [
    "#retriever\n",
    "retriever=vectordb.as_retriever()"
   ]
  },
  {
   "cell_type": "code",
   "execution_count": 41,
   "id": "0fde0869-e943-4689-8352-2a3b36ad9e9d",
   "metadata": {
    "tags": []
   },
   "outputs": [
    {
     "data": {
      "text/plain": [
       "Document(id='0305dcbd-c6f1-42d5-896a-03b6001006f4', metadata={'source': 'speech.txt'}, page_content='While normally used to facilitate communication with others, people may also use speech without the intent to communicate. Speech may nevertheless express emotions or desires; people talk to themselves sometimes in acts that are a development of what some psychologists (e.g., Lev Vygotsky) have maintained is the use of silent speech in an interior monologue to vivify and organize cognition, sometimes in the momentary adoption of a dual persona as self addressing self as though addressing')"
      ]
     },
     "execution_count": 41,
     "metadata": {},
     "output_type": "execute_result"
    }
   ],
   "source": [
    "retriever.invoke(query)[0]"
   ]
  },
  {
   "cell_type": "code",
   "execution_count": null,
   "id": "1c89c9d2-8f0f-4231-9dae-c3394cd8593b",
   "metadata": {},
   "outputs": [],
   "source": []
  }
 ],
 "metadata": {
  "kernelspec": {
   "display_name": "Python 3 (ipykernel)",
   "language": "python",
   "name": "python3"
  },
  "language_info": {
   "codemirror_mode": {
    "name": "ipython",
    "version": 3
   },
   "file_extension": ".py",
   "mimetype": "text/x-python",
   "name": "python",
   "nbconvert_exporter": "python",
   "pygments_lexer": "ipython3",
   "version": "3.11.7"
  }
 },
 "nbformat": 4,
 "nbformat_minor": 5
}
