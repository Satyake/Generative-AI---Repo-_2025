{
 "cells": [
  {
   "cell_type": "code",
   "execution_count": 1,
   "id": "2d230f5d-a533-4440-bb0d-143f680a944a",
   "metadata": {
    "tags": []
   },
   "outputs": [
    {
     "name": "stdout",
     "output_type": "stream",
     "text": [
      "\u001b[31mERROR: pip's dependency resolver does not currently take into account all the packages that are installed. This behaviour is the source of the following dependency conflicts.\n",
      "deepspeed 0.10.3 requires pydantic<2.0.0, but you have pydantic 2.10.6 which is incompatible.\n",
      "gradient 2.0.6 requires attrs<=19, but you have attrs 23.1.0 which is incompatible.\n",
      "gradient 2.0.6 requires marshmallow<3.0, but you have marshmallow 3.26.1 which is incompatible.\n",
      "gradient 2.0.6 requires PyYAML==5.*, but you have pyyaml 6.0.2 which is incompatible.\u001b[0m\u001b[31m\n",
      "\u001b[0m\u001b[33mWARNING: Running pip as the 'root' user can result in broken permissions and conflicting behaviour with the system package manager. It is recommended to use a virtual environment instead: https://pip.pypa.io/warnings/venv\u001b[0m\u001b[33m\n",
      "\u001b[0m"
     ]
    }
   ],
   "source": [
    "!pip install -q  langchain_experimental lamini"
   ]
  },
  {
   "cell_type": "code",
   "execution_count": null,
   "id": "a9c399d2-e98e-404b-bbb6-84102b7f7c5a",
   "metadata": {},
   "outputs": [],
   "source": []
  },
  {
   "cell_type": "code",
   "execution_count": 7,
   "id": "6dd4c925-3e6a-4754-8f5d-892efbf66fb1",
   "metadata": {
    "tags": []
   },
   "outputs": [],
   "source": [
    "def get_data():\n",
    "    data = [\n",
    "    {\n",
    "        \"input\": \"What is Overwatch?\",\n",
    "        \"output\": \"Overwatch is a team-based first-person shooter developed by Blizzard Entertainment, where players choose from a roster of unique heroes and compete in objective-based matches.\"\n",
    "    },\n",
    "    {\n",
    "        \"input\": \"How many players are on a team in Overwatch?\",\n",
    "        \"output\": \"In Overwatch 2, each team consists of 5 players, reduced from 6 in the original game.\"\n",
    "    },\n",
    "    {\n",
    "        \"input\": \"Who is Tracer in Overwatch?\",\n",
    "        \"output\": \"Tracer is a fast-moving damage hero known for her speed, blink ability, and time-reversing recall. She's one of the most iconic characters in Overwatch.\"\n",
    "    },\n",
    "    {\n",
    "        \"input\": \"What role does Reinhardt play?\",\n",
    "        \"output\": \"Reinhardt is a tank hero in Overwatch. He carries a massive shield to protect his team and wields a rocket-powered hammer for close combat.\"\n",
    "    },\n",
    "    {\n",
    "        \"input\": \"What are the different roles in Overwatch?\",\n",
    "        \"output\": \"Overwatch features three main roles: Tank, Damage, and Support. Tank heroes lead the charge and absorb damage, Damage heroes deal most of the damage, and Support heroes heal or buff teammates.\"\n",
    "    },\n",
    "    {\n",
    "        \"input\": \"Who are some support heroes in Overwatch?\",\n",
    "        \"output\": \"Some support heroes in Overwatch include Mercy, Lucio, Ana, Zenyatta, and Moira. They focus on healing and providing utility to the team.\"\n",
    "    }\n",
    "            ]\n",
    "    return data\n"
   ]
  },
  {
   "cell_type": "code",
   "execution_count": 10,
   "id": "a27c38c6-910b-4a18-b355-cc2776acf8c1",
   "metadata": {
    "tags": []
   },
   "outputs": [
    {
     "name": "stdout",
     "output_type": "stream",
     "text": [
      "Overwriting finetune.py\n"
     ]
    }
   ],
   "source": [
    "%%writefile finetune.py\n",
    "import lamini\n",
    "from lamini import Lamini\n",
    "def get_data():\n",
    "    data = [\n",
    "    {\n",
    "        \"input\": \"What is Overwatch?\",\n",
    "        \"output\": \"Overwatch is a team-based first-person shooter developed by Blizzard Entertainment, where players choose from a roster of unique heroes and compete in objective-based matches.\"\n",
    "    },\n",
    "    {\n",
    "        \"input\": \"How many players are on a team in Overwatch?\",\n",
    "        \"output\": \"In Overwatch 2, each team consists of 5 players, reduced from 6 in the original game.\"\n",
    "    },\n",
    "    {\n",
    "        \"input\": \"Who is Tracer in Overwatch?\",\n",
    "        \"output\": \"Tracer is a fast-moving damage hero known for her speed, blink ability, and time-reversing recall. She's one of the most iconic characters in Overwatch.\"\n",
    "    },\n",
    "    {\n",
    "        \"input\": \"What role does Reinhardt play?\",\n",
    "        \"output\": \"Reinhardt is a tank hero in Overwatch. He carries a massive shield to protect his team and wields a rocket-powered hammer for close combat.\"\n",
    "    },\n",
    "    {\n",
    "        \"input\": \"What are the different roles in Overwatch?\",\n",
    "        \"output\": \"Overwatch features three main roles: Tank, Damage, and Support. Tank heroes lead the charge and absorb damage, Damage heroes deal most of the damage, and Support heroes heal or buff teammates.\"\n",
    "    },\n",
    "    {\n",
    "        \"input\": \"Who are some support heroes in Overwatch?\",\n",
    "        \"output\": \"Some support heroes in Overwatch include Mercy, Lucio, Ana, Zenyatta, and Moira. They focus on healing and providing utility to the team.\"\n",
    "    }\n",
    "            ]\n",
    "    return data\n",
    "lamini.api_key = \"88e0b7fde2b96743dc34081aecbc6b16b2b50c717dac329a5c1af282b1cb8193\"\n",
    "llm=Lamini(model_name=\"meta-llama/Meta-Llama-3-8B-Instruct\")\n",
    "data=get_data()\n",
    "llm.tune(data_or_dataset_id=data,\n",
    "        finetune_args={'learning_rate':1.0e-4}\n",
    "        \n",
    "        )\n",
    "\"\"\" \n",
    "lr, es, max_Steps, optim\n",
    "\"\"\"\n",
    "\n"
   ]
  },
  {
   "cell_type": "code",
   "execution_count": 11,
   "id": "359404c4-bcb0-4767-82fc-65b1202d7e3d",
   "metadata": {
    "tags": []
   },
   "outputs": [
    {
     "name": "stdout",
     "output_type": "stream",
     "text": [
      "Data pairs uploaded to local.\n",
      "\n",
      "Your dataset id is: fd56f4bc17da6617f24cf5db8cb055049d0e75ac7217def0421b1bc802865ac8 . Consider using this in the future to train using the same data. \n",
      "Eg: llm.train(data_or_dataset_id='fd56f4bc17da6617f24cf5db8cb055049d0e75ac7217def0421b1bc802865ac8')\n",
      "Your job (17104) has been submitted! Track its status at your private link: https://api.lamini.ai/tune/17104\n"
     ]
    }
   ],
   "source": [
    "!python finetune.py"
   ]
  },
  {
   "cell_type": "code",
   "execution_count": null,
   "id": "7ec153df-c59c-40df-b0a5-9170337f6852",
   "metadata": {},
   "outputs": [],
   "source": []
  }
 ],
 "metadata": {
  "kernelspec": {
   "display_name": "Python 3 (ipykernel)",
   "language": "python",
   "name": "python3"
  },
  "language_info": {
   "codemirror_mode": {
    "name": "ipython",
    "version": 3
   },
   "file_extension": ".py",
   "mimetype": "text/x-python",
   "name": "python",
   "nbconvert_exporter": "python",
   "pygments_lexer": "ipython3",
   "version": "3.11.7"
  }
 },
 "nbformat": 4,
 "nbformat_minor": 5
}
