{
 "cells": [
  {
   "cell_type": "code",
   "execution_count": 1,
   "id": "331cbe92-9c64-4069-8126-1238419d4caf",
   "metadata": {
    "tags": []
   },
   "outputs": [
    {
     "name": "stdout",
     "output_type": "stream",
     "text": [
      "\u001b[31mERROR: pip's dependency resolver does not currently take into account all the packages that are installed. This behaviour is the source of the following dependency conflicts.\n",
      "deepspeed 0.10.3 requires pydantic<2.0.0, but you have pydantic 2.10.6 which is incompatible.\n",
      "gradient 2.0.6 requires attrs<=19, but you have attrs 23.1.0 which is incompatible.\n",
      "gradient 2.0.6 requires marshmallow<3.0, but you have marshmallow 3.26.1 which is incompatible.\u001b[0m\u001b[31m\n",
      "\u001b[0m\u001b[33mWARNING: Running pip as the 'root' user can result in broken permissions and conflicting behaviour with the system package manager. It is recommended to use a virtual environment instead: https://pip.pypa.io/warnings/venv\u001b[0m\u001b[33m\n",
      "\u001b[0m"
     ]
    }
   ],
   "source": [
    "!pip -q install arxiv langchain-groq faiss-cpu langchain-openai wikipedia langchain_huggingface langchain_community langchain\n"
   ]
  },
  {
   "cell_type": "code",
   "execution_count": 2,
   "id": "a4624332-3dfe-4d3e-99f5-2f24d5374463",
   "metadata": {
    "tags": []
   },
   "outputs": [
    {
     "name": "stdout",
     "output_type": "stream",
     "text": [
      "\u001b[33mWARNING: langchain 0.3.19 does not provide the extra 'all'\u001b[0m\u001b[33m\n",
      "\u001b[0m\u001b[33mWARNING: Running pip as the 'root' user can result in broken permissions and conflicting behaviour with the system package manager. It is recommended to use a virtual environment instead: https://pip.pypa.io/warnings/venv\u001b[0m\u001b[33m\n",
      "\u001b[0m"
     ]
    }
   ],
   "source": [
    "!pip -q install langchain[all]"
   ]
  },
  {
   "cell_type": "code",
   "execution_count": 3,
   "id": "6937a088-2649-45c5-9f5a-a129e6619a65",
   "metadata": {
    "tags": []
   },
   "outputs": [],
   "source": [
    "#tools creation\n",
    "from langchain_community.tools import ArxivQueryRun, WikipediaQueryRun\n",
    "from langchain_community.utilities import WikipediaAPIWrapper, ArxivAPIWrapper"
   ]
  },
  {
   "cell_type": "code",
   "execution_count": 4,
   "id": "b771abc2-986b-4ec4-a285-4dbc8e6dd7be",
   "metadata": {
    "tags": []
   },
   "outputs": [],
   "source": [
    "api_wrapper_wiki=WikipediaAPIWrapper(top_k_results=1,doc_content_chars_max=250)"
   ]
  },
  {
   "cell_type": "code",
   "execution_count": 5,
   "id": "aa001a8b-9632-49ba-b0da-eaf08893e30b",
   "metadata": {
    "tags": []
   },
   "outputs": [],
   "source": [
    "wikipedia_query_run=WikipediaQueryRun(api_wrapper=api_wrapper_wiki)"
   ]
  },
  {
   "cell_type": "code",
   "execution_count": 6,
   "id": "4b2e8d9d-cd39-4fdc-8001-b425c1037740",
   "metadata": {
    "tags": []
   },
   "outputs": [
    {
     "data": {
      "text/plain": [
       "WikipediaQueryRun(api_wrapper=WikipediaAPIWrapper(wiki_client=<module 'wikipedia' from '/usr/local/lib/python3.11/dist-packages/wikipedia/__init__.py'>, top_k_results=1, lang='en', load_all_available_meta=False, doc_content_chars_max=250))"
      ]
     },
     "execution_count": 6,
     "metadata": {},
     "output_type": "execute_result"
    }
   ],
   "source": [
    "wikipedia_query_run"
   ]
  },
  {
   "cell_type": "code",
   "execution_count": 7,
   "id": "4fae07b3-3b89-447f-8568-afe6e5071b64",
   "metadata": {
    "tags": []
   },
   "outputs": [],
   "source": [
    "api_wrapper_arxiv=ArxivAPIWrapper(top_k_results=1, doc_content_chars_max=250)\n",
    "arxiv_query_run=ArxivQueryRun(api_wrapper=api_wrapper_arxiv)"
   ]
  },
  {
   "cell_type": "code",
   "execution_count": 8,
   "id": "f9818979-929f-4cfa-b53b-162e0f7386cc",
   "metadata": {
    "tags": []
   },
   "outputs": [],
   "source": [
    "tools=[wikipedia_query_run,arxiv_query_run]"
   ]
  },
  {
   "cell_type": "code",
   "execution_count": 20,
   "id": "6f5a5b61-fd55-4f11-9860-b86c6c9b2d8f",
   "metadata": {
    "tags": []
   },
   "outputs": [],
   "source": [
    "## create custom tool\n",
    "from langchain_community.document_loaders import WebBaseLoader\n",
    "from langchain_community.vectorstores import FAISS\n",
    "from langchain_openai import OpenAIEmbeddings\n",
    "from langchain_text_splitters import RecursiveCharacterTextSplitter\n",
    "from langchain_groq import ChatGroq\n",
    "import os \n",
    "from dotenv import load_dotenv\n",
    "load_dotenv()\n",
    "os.environ['OPENAI_API_KEY']=os.getenv('OPENAI_API_KEY')\n",
    "os.environ['GROQ_API_KEY']=os.getenv(\"GROQ_API_KEY\")"
   ]
  },
  {
   "cell_type": "code",
   "execution_count": 16,
   "id": "27d3efd2-b68b-43ce-b85c-5ccdc844eb11",
   "metadata": {
    "tags": []
   },
   "outputs": [],
   "source": [
    "loader=WebBaseLoader(\"https://www.langchain.com/langsmith\")\n",
    "docs=loader.load()\n",
    "documents=RecursiveCharacterTextSplitter(chunk_size=1000, chunk_overlap=200).split_documents(docs)\n",
    "vectordb=FAISS.from_documents(documents,OpenAIEmbeddings())\n",
    "retriever=vectordb.as_retriever()"
   ]
  },
  {
   "cell_type": "code",
   "execution_count": 17,
   "id": "b590ce29-432b-41a3-a380-08bff0eb85a6",
   "metadata": {
    "tags": []
   },
   "outputs": [
    {
     "data": {
      "text/plain": [
       "'langsmith-search'"
      ]
     },
     "execution_count": 17,
     "metadata": {},
     "output_type": "execute_result"
    }
   ],
   "source": [
    "from langchain.tools.retriever import create_retriever_tool\n",
    "retriever_tool=create_retriever_tool(retriever,\"langsmith-search\",\"Search any information about langsmith\")\n",
    "retriever_tool.name"
   ]
  },
  {
   "cell_type": "code",
   "execution_count": 18,
   "id": "8fe424e5-1734-4c92-be47-30e113f24d55",
   "metadata": {
    "tags": []
   },
   "outputs": [],
   "source": [
    "tools=[wikipedia_query_run,arxiv_query_run,retriever_tool]"
   ]
  },
  {
   "cell_type": "code",
   "execution_count": 43,
   "id": "ad773c7b-aa5a-4662-b1af-579fc2b93301",
   "metadata": {
    "tags": []
   },
   "outputs": [],
   "source": [
    "#run all the tools with agents and llm model\n",
    "#LLM Agent Executor\n",
    "llm=ChatGroq(model_name=\"llama-3.1-8b-instant\")"
   ]
  },
  {
   "cell_type": "code",
   "execution_count": 44,
   "id": "ec62ff2a-4acd-47f9-97c8-5922f8e5e674",
   "metadata": {
    "tags": []
   },
   "outputs": [],
   "source": [
    "#Prompt Template Hub\n",
    "from langchain import hub\n",
    "prompt=hub.pull(\"hwchase17/openai-functions-agent\")"
   ]
  },
  {
   "cell_type": "raw",
   "id": "aa69822d-9d8e-4241-8ad8-0eefa8286e41",
   "metadata": {},
   "source": [
    "prompt.messages"
   ]
  },
  {
   "cell_type": "code",
   "execution_count": 45,
   "id": "58b00452-f2bd-400b-a341-dac8f77998c7",
   "metadata": {
    "tags": []
   },
   "outputs": [
    {
     "data": {
      "text/plain": [
       "[SystemMessagePromptTemplate(prompt=PromptTemplate(input_variables=[], input_types={}, partial_variables={}, template='You are a helpful assistant'), additional_kwargs={}),\n",
       " MessagesPlaceholder(variable_name='chat_history', optional=True),\n",
       " HumanMessagePromptTemplate(prompt=PromptTemplate(input_variables=['input'], input_types={}, partial_variables={}, template='{input}'), additional_kwargs={}),\n",
       " MessagesPlaceholder(variable_name='agent_scratchpad')]"
      ]
     },
     "execution_count": 45,
     "metadata": {},
     "output_type": "execute_result"
    }
   ],
   "source": [
    "prompt.messages"
   ]
  },
  {
   "cell_type": "code",
   "execution_count": 50,
   "id": "fbac063d-3285-4fc7-8fa8-af7212b272bd",
   "metadata": {
    "tags": []
   },
   "outputs": [],
   "source": [
    "from langchain.agents import create_openai_tools_agent\n",
    "from langchain.agents import AgentExecutor\n",
    "agent=create_openai_tools_agent(llm,tools,prompt)\n",
    "agent_executor=AgentExecutor(agent=agent, tools=tools,verbose=True)"
   ]
  },
  {
   "cell_type": "code",
   "execution_count": 51,
   "id": "2535ada0-1d97-4f14-9bfa-4f03ca8a7701",
   "metadata": {
    "tags": []
   },
   "outputs": [],
   "source": [
    "#agent_executor"
   ]
  },
  {
   "cell_type": "code",
   "execution_count": 52,
   "id": "5d0f2dae-302f-4ba4-b1d6-ef1355cbd364",
   "metadata": {
    "tags": []
   },
   "outputs": [
    {
     "name": "stdout",
     "output_type": "stream",
     "text": [
      "\n",
      "\n",
      "\u001b[1m> Entering new AgentExecutor chain...\u001b[0m\n",
      "\u001b[32;1m\u001b[1;3m\n",
      "Invoking: `wikipedia` with `{'query': 'current prime minister of india'}`\n",
      "\n",
      "\n",
      "\u001b[0m\u001b[36;1m\u001b[1;3mPage: Prime Minister of India\n",
      "Summary: The prime minister of India (ISO: Bhārata kē Pradhānamantrī) is the head of government of the Republic of India. Executive authority is vested in the prime minister and his chosen Council of Ministers, despite t\u001b[0m\u001b[32;1m\u001b[1;3m\n",
      "Invoking: `wikipedia` with `{'query': 'current prime minister of india 2024'}`\n",
      "\n",
      "\n",
      "\u001b[0m\u001b[36;1m\u001b[1;3mPage: Prime Minister of India\n",
      "Summary: The prime minister of India (ISO: Bhārata kē Pradhānamantrī) is the head of government of the Republic of India. Executive authority is vested in the prime minister and his chosen Council of Ministers, despite t\u001b[0m\u001b[32;1m\u001b[1;3mThe current Prime Minister of India is Narendra Modi.\u001b[0m\n",
      "\n",
      "\u001b[1m> Finished chain.\u001b[0m\n"
     ]
    },
    {
     "data": {
      "text/plain": [
       "{'input': 'what is the name of the prime minister of india?',\n",
       " 'output': 'The current Prime Minister of India is Narendra Modi.'}"
      ]
     },
     "execution_count": 52,
     "metadata": {},
     "output_type": "execute_result"
    }
   ],
   "source": [
    "agent_executor.invoke({\"input\":\"what is the name of the prime minister of india?\"})"
   ]
  },
  {
   "cell_type": "code",
   "execution_count": null,
   "id": "0fe6ee2c-dd69-4ef8-acf4-ea26015efaef",
   "metadata": {
    "tags": []
   },
   "outputs": [],
   "source": [
    "agent_executor.invoke({\"input\":\"what is the price of langsmith? is it free?\"})"
   ]
  },
  {
   "cell_type": "code",
   "execution_count": null,
   "id": "b566fccb-8fbc-4aca-a3e2-508e077cac91",
   "metadata": {},
   "outputs": [],
   "source": [
    "agent_executor.invoke({\"input\":\"what is the paper \"})"
   ]
  }
 ],
 "metadata": {
  "kernelspec": {
   "display_name": "Python 3 (ipykernel)",
   "language": "python",
   "name": "python3"
  },
  "language_info": {
   "codemirror_mode": {
    "name": "ipython",
    "version": 3
   },
   "file_extension": ".py",
   "mimetype": "text/x-python",
   "name": "python",
   "nbconvert_exporter": "python",
   "pygments_lexer": "ipython3",
   "version": "3.11.7"
  }
 },
 "nbformat": 4,
 "nbformat_minor": 5
}
