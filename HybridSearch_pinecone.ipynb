{
 "cells": [
  {
   "cell_type": "code",
   "execution_count": 1,
   "id": "7623dc52-607d-4dd4-b8ff-f9cdc8f6952d",
   "metadata": {
    "tags": []
   },
   "outputs": [],
   "source": [
    "pinecone='pcsk_33h2e2_KHZQcjsPQZ5Sbk4hqnYjCkvhoHzCT7wgTwFngrF4bQhbgeZhCtvJ6QDWQ5b43vs'"
   ]
  },
  {
   "cell_type": "code",
   "execution_count": 15,
   "id": "66332346-e9c1-4abe-bc01-74bed68dba8d",
   "metadata": {
    "tags": []
   },
   "outputs": [
    {
     "name": "stdout",
     "output_type": "stream",
     "text": [
      "\u001b[33mWARNING: Running pip as the 'root' user can result in broken permissions and conflicting behaviour with the system package manager. It is recommended to use a virtual environment instead: https://pip.pypa.io/warnings/venv\u001b[0m\u001b[33m\n",
      "\u001b[0m"
     ]
    }
   ],
   "source": [
    "!pip -q install pinecone-client langchain_huggingface pinecone-text pinecone-notebooks langchain_community pinecone"
   ]
  },
  {
   "cell_type": "code",
   "execution_count": 7,
   "id": "373b6ac5-cb69-4b2b-8bb3-aa8527f6644d",
   "metadata": {
    "tags": []
   },
   "outputs": [],
   "source": [
    "from langchain_community.retrievers import PineconeHybridSearchRetriever\n",
    "import os \n",
    "from pinecone import Pinecone, ServerlessSpec\n",
    "index_name=\"hybrid-search\"\n",
    "#initialize pinecone client\n",
    "pc=Pinecone(api_key=pinecone)"
   ]
  },
  {
   "cell_type": "code",
   "execution_count": 12,
   "id": "dd4be6c7-04e0-4b56-8ac9-f20f5caf0f63",
   "metadata": {
    "tags": []
   },
   "outputs": [],
   "source": [
    "#create index\n",
    "\n",
    "if index_name  not in pc.list_indexes().names():\n",
    "    pc.create_index(\n",
    "        name=index_name,\n",
    "        dimension=384, #dimensoin of dense vector since using Sent Transformers,\n",
    "        metric='dotproduct',## sparse values supported in dot product\n",
    "        spec=ServerlessSpec(cloud='aws', region=\"us-east-1\"\n",
    "    ))"
   ]
  },
  {
   "cell_type": "code",
   "execution_count": 13,
   "id": "e5a29cf4-5001-4ba2-80f2-373f877f7bba",
   "metadata": {
    "tags": []
   },
   "outputs": [
    {
     "data": {
      "text/plain": [
       "<pinecone.data.index.Index at 0x7f83343d3c90>"
      ]
     },
     "execution_count": 13,
     "metadata": {},
     "output_type": "execute_result"
    }
   ],
   "source": [
    "index=pc.Index(index_name)\n",
    "index"
   ]
  },
  {
   "cell_type": "code",
   "execution_count": 26,
   "id": "ee6f428d-0de4-4329-ab40-097ccce9c882",
   "metadata": {
    "tags": []
   },
   "outputs": [],
   "source": [
    "## vector embedding and sparse matrix \n",
    "from dotenv import load_dotenv\n",
    "load_dotenv()\n",
    "from langchain_huggingface import HuggingFaceEmbeddings\n",
    "embedder=HuggingFaceEmbeddings(model_name=\"all-MiniLM-L6-v2\")"
   ]
  },
  {
   "cell_type": "code",
   "execution_count": 18,
   "id": "299c2fbe-a204-4e9d-9d3e-fe74d2263d6a",
   "metadata": {
    "tags": []
   },
   "outputs": [
    {
     "data": {
      "text/plain": [
       "HuggingFaceEmbeddings(model_name='all-MiniLM-L6-v2', cache_folder=None, model_kwargs={}, encode_kwargs={}, multi_process=False, show_progress=False)"
      ]
     },
     "execution_count": 18,
     "metadata": {},
     "output_type": "execute_result"
    }
   ],
   "source": []
  },
  {
   "cell_type": "code",
   "execution_count": 19,
   "id": "ae3e2cdd-03b2-463e-a150-9a65932f353b",
   "metadata": {
    "tags": []
   },
   "outputs": [],
   "source": [
    "from pinecone_text.sparse import BM25Encoder"
   ]
  },
  {
   "cell_type": "code",
   "execution_count": 20,
   "id": "12df6e57-f55d-439d-92ee-cea6c763cef1",
   "metadata": {
    "tags": []
   },
   "outputs": [
    {
     "name": "stderr",
     "output_type": "stream",
     "text": [
      "[nltk_data] Downloading package punkt_tab to /root/nltk_data...\n",
      "[nltk_data]   Unzipping tokenizers/punkt_tab.zip.\n",
      "[nltk_data] Downloading package stopwords to /root/nltk_data...\n",
      "[nltk_data]   Unzipping corpora/stopwords.zip.\n"
     ]
    }
   ],
   "source": [
    "bm25_encoder=BM25Encoder().default()"
   ]
  },
  {
   "cell_type": "code",
   "execution_count": 22,
   "id": "b0c3afc9-bf9b-4cf2-b9c6-ed8e8564af59",
   "metadata": {
    "tags": []
   },
   "outputs": [],
   "source": [
    "sentences=[\n",
    "    \n",
    " 'In 2023, i visited Paris',\n",
    "    'in 2022 i visited New York',\n",
    "    'in 2021 i visited New Orleans'\n",
    "\n",
    "]"
   ]
  },
  {
   "cell_type": "code",
   "execution_count": 23,
   "id": "b52b41af-0b96-4c62-9730-af7abdfe5d18",
   "metadata": {
    "tags": []
   },
   "outputs": [
    {
     "data": {
      "application/vnd.jupyter.widget-view+json": {
       "model_id": "d1a753b2863344ea821dea37cb683af9",
       "version_major": 2,
       "version_minor": 0
      },
      "text/plain": [
       "  0%|          | 0/3 [00:00<?, ?it/s]"
      ]
     },
     "metadata": {},
     "output_type": "display_data"
    },
    {
     "data": {
      "text/plain": [
       "<pinecone_text.sparse.bm25_encoder.BM25Encoder at 0x7f8200132550>"
      ]
     },
     "execution_count": 23,
     "metadata": {},
     "output_type": "execute_result"
    }
   ],
   "source": [
    "bm25_encoder.fit(sentences)"
   ]
  },
  {
   "cell_type": "code",
   "execution_count": 25,
   "id": "261d609d-5310-4e2a-af15-89c67adc4c19",
   "metadata": {
    "tags": []
   },
   "outputs": [],
   "source": [
    "bm25_encoder.dump(\"bm25_values.json\")"
   ]
  },
  {
   "cell_type": "code",
   "execution_count": 28,
   "id": "88b73e00-315d-4533-875d-28d10d40bbc4",
   "metadata": {
    "tags": []
   },
   "outputs": [],
   "source": [
    "retriever=PineconeHybridSearchRetriever(embeddings=embedder, sparse_encoder=bm25_encoder,index=index)"
   ]
  },
  {
   "cell_type": "code",
   "execution_count": 29,
   "id": "21f34cd4-46c4-4639-8f45-93af21ff7ccb",
   "metadata": {
    "tags": []
   },
   "outputs": [
    {
     "data": {
      "application/vnd.jupyter.widget-view+json": {
       "model_id": "cdeaf9f47e1642c0bfb7c11b30f0fb2f",
       "version_major": 2,
       "version_minor": 0
      },
      "text/plain": [
       "  0%|          | 0/1 [00:00<?, ?it/s]"
      ]
     },
     "metadata": {},
     "output_type": "display_data"
    }
   ],
   "source": [
    "retriever.add_texts(\n",
    "    sentences\n",
    ")"
   ]
  },
  {
   "cell_type": "code",
   "execution_count": 30,
   "id": "acf8357c-c132-4ccb-8e7f-38ce15cbd3c2",
   "metadata": {
    "tags": []
   },
   "outputs": [
    {
     "data": {
      "text/plain": [
       "[Document(metadata={'score': 0.26246509}, page_content='in 2021 i visited New Orleans'),\n",
       " Document(metadata={'score': 0.240027189}, page_content='in 2022 i visited New York'),\n",
       " Document(metadata={'score': 0.235410631}, page_content='In 2023, i visited Paris')]"
      ]
     },
     "execution_count": 30,
     "metadata": {},
     "output_type": "execute_result"
    }
   ],
   "source": [
    "retriever.invoke(\"which city did i visit the first?\")"
   ]
  },
  {
   "cell_type": "code",
   "execution_count": null,
   "id": "743eb4c7-5feb-4de0-9952-d2a135f2a652",
   "metadata": {},
   "outputs": [],
   "source": []
  }
 ],
 "metadata": {
  "kernelspec": {
   "display_name": "Python 3 (ipykernel)",
   "language": "python",
   "name": "python3"
  },
  "language_info": {
   "codemirror_mode": {
    "name": "ipython",
    "version": 3
   },
   "file_extension": ".py",
   "mimetype": "text/x-python",
   "name": "python",
   "nbconvert_exporter": "python",
   "pygments_lexer": "ipython3",
   "version": "3.11.7"
  }
 },
 "nbformat": 4,
 "nbformat_minor": 5
}
