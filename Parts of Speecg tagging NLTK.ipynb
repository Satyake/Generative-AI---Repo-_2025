{
 "cells": [
  {
   "cell_type": "code",
   "execution_count": 1,
   "id": "7589fae3-10ca-4807-a84e-0980046fea1e",
   "metadata": {
    "tags": []
   },
   "outputs": [],
   "source": [
    "#Parts of Speech tagging"
   ]
  },
  {
   "cell_type": "code",
   "execution_count": 20,
   "id": "22865982-1bbb-40a7-8baa-8d99eafa0bc6",
   "metadata": {
    "tags": []
   },
   "outputs": [
    {
     "name": "stderr",
     "output_type": "stream",
     "text": [
      "[nltk_data] Downloading package punkt to /root/nltk_data...\n",
      "[nltk_data]   Package punkt is already up-to-date!\n",
      "[nltk_data] Downloading package stopwords to /root/nltk_data...\n",
      "[nltk_data]   Package stopwords is already up-to-date!\n",
      "[nltk_data] Downloading package averaged_perceptron_tagger to\n",
      "[nltk_data]     /root/nltk_data...\n",
      "[nltk_data]   Unzipping taggers/averaged_perceptron_tagger.zip.\n"
     ]
    }
   ],
   "source": [
    "from nltk.stem import PorterStemmer\n",
    "import nltk\n",
    "nltk.download('punkt')\n",
    "nltk.download('stopwords')\n",
    "nltk.download('averaged_perceptron_tagger')\n",
    "from nltk.corpus import stopwords"
   ]
  },
  {
   "cell_type": "code",
   "execution_count": 9,
   "id": "48b0e6a5-089d-4bc0-9c68-18c0eb743055",
   "metadata": {
    "tags": []
   },
   "outputs": [],
   "source": [
    " sentences = \"\"\"\n",
    "        \"Innovation is at the core of technological advancements.\",\n",
    "        \"Machine learning has transformed industries across the globe.\",\n",
    "        \"The application of AI in personalized content generation is remarkable.\",\n",
    "        \"Data-driven decisions help organizations achieve their goals effectively.\",\n",
    "        \"Collaboration between engineers and data scientists drives impactful solutions.\",\n",
    "        \"Cloud platforms have enabled scalable and efficient deployment of ML systems.\",\n",
    "        \"Advancements in natural language processing enhance human-computer interaction.\"\n",
    "    \"\"\""
   ]
  },
  {
   "cell_type": "code",
   "execution_count": 10,
   "id": "bfd7d037-765a-49da-9f29-93a2dcb39849",
   "metadata": {
    "tags": []
   },
   "outputs": [],
   "source": [
    "sentences=nltk.sent_tokenize(sentences)"
   ]
  },
  {
   "cell_type": "code",
   "execution_count": 21,
   "id": "ace67a7a-c453-4b96-98d5-eea6a1a22ee1",
   "metadata": {
    "tags": []
   },
   "outputs": [
    {
     "name": "stdout",
     "output_type": "stream",
     "text": [
      "[('``', '``'), ('Innovation', 'NN'), ('core', 'NN'), ('technological', 'JJ'), ('advancements', 'NNS'), ('.', '.')]\n",
      "[('``', '``'), (',', ','), ('``', '``'), ('Machine', 'NNP'), ('learning', 'NN'), ('transformed', 'VBD'), ('industries', 'NNS'), ('across', 'IN'), ('globe', 'NN'), ('.', '.')]\n",
      "[('``', '``'), (',', ','), ('``', '``'), ('The', 'DT'), ('application', 'NN'), ('AI', 'NNP'), ('personalized', 'VBD'), ('content', 'JJ'), ('generation', 'NN'), ('remarkable', 'NN'), ('.', '.')]\n",
      "[('``', '``'), (',', ','), ('``', '``'), ('Data-driven', 'JJ'), ('decisions', 'NNS'), ('help', 'VBP'), ('organizations', 'NNS'), ('achieve', 'VBP'), ('goals', 'NNS'), ('effectively', 'RB'), ('.', '.')]\n",
      "[('``', '``'), (',', ','), ('``', '``'), ('Collaboration', 'NN'), ('engineers', 'NNS'), ('data', 'VBP'), ('scientists', 'NNS'), ('drives', 'NNS'), ('impactful', 'JJ'), ('solutions', 'NNS'), ('.', '.')]\n",
      "[('``', '``'), (',', ','), ('``', '``'), ('Cloud', 'JJ'), ('platforms', 'NNS'), ('enabled', 'VBD'), ('scalable', 'JJ'), ('efficient', 'JJ'), ('deployment', 'NN'), ('ML', 'NNP'), ('systems', 'NNS'), ('.', '.')]\n",
      "[('``', '``'), (',', ','), ('``', '``'), ('Advancements', 'NNS'), ('natural', 'JJ'), ('language', 'NN'), ('processing', 'NN'), ('enhance', 'NN'), ('human-computer', 'JJ'), ('interaction', 'NN'), ('.', '.'), (\"''\", \"''\")]\n"
     ]
    }
   ],
   "source": [
    "#find POS tag\n",
    "\n",
    "for i in range(len(sentences)):\n",
    "    words=nltk.word_tokenize(sentences[i])\n",
    "    words=[word for word in words if word not in set(stopwords.words('english'))]\n",
    "    pos_tag=nltk.pos_tag(words)\n",
    "    print(pos_tag)"
   ]
  },
  {
   "cell_type": "code",
   "execution_count": 28,
   "id": "b02b263b-5a19-4816-a9db-24572a247f76",
   "metadata": {
    "tags": []
   },
   "outputs": [
    {
     "name": "stdout",
     "output_type": "stream",
     "text": [
      "[('Taj', 'NN')]\n",
      "[('Mahal', 'NN')]\n",
      "[('is', 'VBZ')]\n",
      "[('a', 'DT')]\n",
      "[('beauty', 'NN')]\n"
     ]
    }
   ],
   "source": [
    "for i in \"Taj Mahal is a beauty\".split():\n",
    "    print(nltk.pos_tag([i]))\n",
    "    \n",
    "\n"
   ]
  },
  {
   "cell_type": "code",
   "execution_count": 26,
   "id": "db983f79-6cc0-4cd6-aa9a-f45945cc2a7b",
   "metadata": {
    "tags": []
   },
   "outputs": [
    {
     "data": {
      "text/plain": [
       "['Taj', 'Mahal', 'is', 'a', 'beauty']"
      ]
     },
     "execution_count": 26,
     "metadata": {},
     "output_type": "execute_result"
    }
   ],
   "source": [
    "\"Taj Mahal is a beauty\".split()"
   ]
  },
  {
   "cell_type": "code",
   "execution_count": null,
   "id": "4ce91faa-46a5-43c5-83a1-4ed593751537",
   "metadata": {},
   "outputs": [],
   "source": []
  }
 ],
 "metadata": {
  "kernelspec": {
   "display_name": "Python 3 (ipykernel)",
   "language": "python",
   "name": "python3"
  },
  "language_info": {
   "codemirror_mode": {
    "name": "ipython",
    "version": 3
   },
   "file_extension": ".py",
   "mimetype": "text/x-python",
   "name": "python",
   "nbconvert_exporter": "python",
   "pygments_lexer": "ipython3",
   "version": "3.11.7"
  }
 },
 "nbformat": 4,
 "nbformat_minor": 5
}
