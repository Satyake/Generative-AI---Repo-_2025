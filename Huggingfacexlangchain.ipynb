{
 "cells": [
  {
   "cell_type": "code",
   "execution_count": 22,
   "id": "f125bfc9-1be3-4abe-b443-7e6a1fefd29d",
   "metadata": {
    "tags": []
   },
   "outputs": [
    {
     "name": "stdout",
     "output_type": "stream",
     "text": [
      "\u001b[33mWARNING: Running pip as the 'root' user can result in broken permissions and conflicting behaviour with the system package manager. It is recommended to use a virtual environment instead: https://pip.pypa.io/warnings/venv\u001b[0m\u001b[33m\n",
      "\u001b[0m"
     ]
    }
   ],
   "source": [
    "!pip -q install langchain_huggingface huggingface_hub dotenv langchain"
   ]
  },
  {
   "cell_type": "code",
   "execution_count": 6,
   "id": "6bb1c0bb-408c-4d5c-9899-27f5df7a89b0",
   "metadata": {
    "tags": []
   },
   "outputs": [
    {
     "data": {
      "text/plain": [
       "True"
      ]
     },
     "execution_count": 6,
     "metadata": {},
     "output_type": "execute_result"
    }
   ],
   "source": [
    "import os \n",
    "from dotenv import load_dotenv\n",
    "load_dotenv()"
   ]
  },
  {
   "cell_type": "code",
   "execution_count": 8,
   "id": "70d9be82-8aaa-494b-bc0f-3e881d7568b5",
   "metadata": {
    "tags": []
   },
   "outputs": [],
   "source": [
    "from langchain_huggingface import HuggingFaceEndpoint\n",
    "import os"
   ]
  },
  {
   "cell_type": "code",
   "execution_count": 10,
   "id": "c60b100a-cc0f-49d2-99f4-503f76aa7c12",
   "metadata": {
    "tags": []
   },
   "outputs": [],
   "source": [
    "os.environ['HF_TOKEN']=os.getenv('HF_TOKEN')"
   ]
  },
  {
   "cell_type": "code",
   "execution_count": 18,
   "id": "eff9b82c-9649-4417-963b-57676bb07afd",
   "metadata": {
    "tags": []
   },
   "outputs": [
    {
     "name": "stderr",
     "output_type": "stream",
     "text": [
      "WARNING! max_length is not default parameter.\n",
      "                    max_length was transferred to model_kwargs.\n",
      "                    Please make sure that max_length is what you intended.\n",
      "Note: Environment variable`HF_TOKEN` is set and is the current active token independently from the token you've just configured.\n"
     ]
    }
   ],
   "source": [
    "repo_id=\"mistralai/Mistral-7B-Instruct-v0.3\"\n",
    "#repo_id_googl=\"google/gemma-2-9b\"\n",
    "llm=HuggingFaceEndpoint(repo_id=repo_id,\n",
    "                        max_length=150,\n",
    "                        temperature=0.7)"
   ]
  },
  {
   "cell_type": "code",
   "execution_count": 19,
   "id": "18a36dc4-bbe0-4d9d-9250-77355620446f",
   "metadata": {
    "tags": []
   },
   "outputs": [
    {
     "data": {
      "text/plain": [
       "'\\n\\nMachine learning is a type of artificial intelligence that allows a machine to learn from data and make predictions or decisions without being explicitly programmed. It is a subset of AI that focuses on the development of algorithms and statistical models that can automatically learn and improve from experience.\\n\\nThere are several types of machine learning, including supervised learning, unsupervised learning, and reinforcement learning. Supervised learning involves training a model on labeled data, where the desired output is known. Unsupervised learning involves training a model on unlabeled data, where the goal is to find patterns or structure in the data. Reinforcement learning involves training a model to make decisions by rewarding or punishing it based on its actions.\\n\\nMachine learning has a wide range of applications, including image and speech recognition, natural language processing, fraud detection, recommendation systems, and autonomous vehicles. It is used in a variety of industries, including finance, healthcare, retail, and technology.\\n\\nMachine learning is a rapidly growing field, with advances in technology and data availability leading to increased interest and investment in the development of machine learning algorithms and applications. As the technology continues to evolve, it is expected to have a significant impact on the way businesses operate and make decisions in the future.'"
      ]
     },
     "execution_count": 19,
     "metadata": {},
     "output_type": "execute_result"
    }
   ],
   "source": [
    "llm.invoke('What is machine learning?')"
   ]
  },
  {
   "cell_type": "code",
   "execution_count": 20,
   "id": "16f9e2ce-8da3-4449-8335-450615f06546",
   "metadata": {
    "tags": []
   },
   "outputs": [
    {
     "data": {
      "text/plain": [
       "'\\n\\nGenerative AI is a type of artificial intelligence that can create new content, such as text, images, music, or even code. It\\'s called \"generative\" because it generates output that didn\\'t exist before, rather than just processing and interpreting existing data.\\n\\nThere are several types of generative AI, but they all typically use machine learning algorithms to learn patterns from large amounts of data. Once the model has learned these patterns, it can use them to generate new content that is similar in style or structure to the original data.\\n\\nOne example of generative AI is a text-to-image model that can generate images based on text descriptions. Another example is a music generator that can create new songs based on the styles of existing songs. Generative AI is also used in fields like computer graphics, where it can be used to create realistic 3D models or animations.\\n\\nGenerative AI has many potential applications, from creating art and music to generating new ideas for products or services. It\\'s also being used in fields like medicine to help predict outcomes based on patient data, and in finance to analyze market trends and make predictions. However, it\\'s important to remember that generative AI is still a relatively new and rapidly evolving field, and there are many challenges and ethical considerations to address as it becomes more widely used.'"
      ]
     },
     "execution_count": 20,
     "metadata": {},
     "output_type": "execute_result"
    }
   ],
   "source": [
    "llm.invoke('what is generative ai?')"
   ]
  },
  {
   "cell_type": "code",
   "execution_count": 25,
   "id": "b8012fa7-e9c4-42c7-8bd2-56c6cbbbd9c1",
   "metadata": {
    "tags": []
   },
   "outputs": [],
   "source": [
    "from langchain import PromptTemplate, LLMChain\n",
    "\n",
    "template=\"\"\"\n",
    "\n",
    "Question: {question}\n",
    "Answer: Lets think step by step.\n",
    "\n",
    "\n",
    "\"\"\"\n",
    "\n",
    "prompt=PromptTemplate(template=template, input_variables=['question'])"
   ]
  },
  {
   "cell_type": "code",
   "execution_count": 26,
   "id": "5e771bfd-3339-4c4b-ab4d-0a34c60b59f2",
   "metadata": {
    "tags": []
   },
   "outputs": [
    {
     "name": "stderr",
     "output_type": "stream",
     "text": [
      "/tmp/ipykernel_182/3796489089.py:1: LangChainDeprecationWarning: The class `LLMChain` was deprecated in LangChain 0.1.17 and will be removed in 1.0. Use :meth:`~RunnableSequence, e.g., `prompt | llm`` instead.\n",
      "  llm_chain=LLMChain(llm=llm, prompt=prompt)\n"
     ]
    }
   ],
   "source": [
    "llm_chain=LLMChain(llm=llm, prompt=prompt)\n"
   ]
  },
  {
   "cell_type": "code",
   "execution_count": 28,
   "id": "e68d6469-faff-4f5c-b815-c1c6789e0d46",
   "metadata": {
    "tags": []
   },
   "outputs": [
    {
     "name": "stderr",
     "output_type": "stream",
     "text": [
      "/usr/local/lib/python3.11/dist-packages/huggingface_hub/utils/_deprecation.py:131: FutureWarning: 'post' (from 'huggingface_hub.inference._client') is deprecated and will be removed from version '0.31.0'. Making direct POST requests to the inference server is not supported anymore. Please use task methods instead (e.g. `InferenceClient.chat_completion`). If your use case is not supported, please open an issue in https://github.com/huggingface/huggingface_hub.\n",
      "  warnings.warn(warning_message, FutureWarning)\n"
     ]
    },
    {
     "data": {
      "text/plain": [
       "'\\n\\nThe capital of El Salvador is San Salvador. It is the largest and most populous city in the country, with a population of approximately 527,000 people within the city limits, and over 1.2 million people in the metropolitan area. The city was founded in 1525 by Pedro de Alvarado, who was the Spanish conquistador of El Salvador. It has served as the capital of El Salvador since its independence from Spain in 1821. San Salvador is located in the central part of the country, and it is the economic, political, and cultural center of El Salvador. The city is home to many government buildings, universities, museums, and cultural institutions, as well as a variety of businesses and industries. It is also home to the San Salvador International Airport, which is the largest and busiest airport in El Salvador.'"
      ]
     },
     "execution_count": 28,
     "metadata": {},
     "output_type": "execute_result"
    }
   ],
   "source": [
    "llm.invoke('What is the capital of salvador?')"
   ]
  },
  {
   "cell_type": "code",
   "execution_count": null,
   "id": "24ceedf4-b3ec-4b04-b4fa-3bd3b2b66de0",
   "metadata": {},
   "outputs": [],
   "source": []
  }
 ],
 "metadata": {
  "kernelspec": {
   "display_name": "Python 3 (ipykernel)",
   "language": "python",
   "name": "python3"
  },
  "language_info": {
   "codemirror_mode": {
    "name": "ipython",
    "version": 3
   },
   "file_extension": ".py",
   "mimetype": "text/x-python",
   "name": "python",
   "nbconvert_exporter": "python",
   "pygments_lexer": "ipython3",
   "version": "3.11.7"
  }
 },
 "nbformat": 4,
 "nbformat_minor": 5
}
