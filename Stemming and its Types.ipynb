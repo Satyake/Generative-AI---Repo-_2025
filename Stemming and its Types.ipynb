{
 "cells": [
  {
   "cell_type": "code",
   "execution_count": 1,
   "id": "e5b49ce7-1736-4f22-84a8-f9a468cb8606",
   "metadata": {
    "tags": []
   },
   "outputs": [],
   "source": [
    "#classification problem\n",
    "#comments in a product positive or negative?\n",
    "\n",
    "\n",
    "#Reviews---> #Comments\n",
    "#eating, eat, eaten  --->. eat stem"
   ]
  },
  {
   "cell_type": "code",
   "execution_count": 2,
   "id": "b2817342-d51c-4110-88c9-61f145f8a860",
   "metadata": {
    "tags": []
   },
   "outputs": [],
   "source": [
    "from nltk.stem import PorterStemmer"
   ]
  },
  {
   "cell_type": "code",
   "execution_count": 3,
   "id": "eda56fb5-8006-4f40-93b5-8a25d3b1203a",
   "metadata": {
    "tags": []
   },
   "outputs": [],
   "source": [
    "stemmer=PorterStemmer()"
   ]
  },
  {
   "cell_type": "code",
   "execution_count": 4,
   "id": "f866ee0e-825d-4e04-b067-68716f869695",
   "metadata": {
    "tags": []
   },
   "outputs": [],
   "source": [
    "words=['eating','eaten','dancer','dancing']"
   ]
  },
  {
   "cell_type": "code",
   "execution_count": 5,
   "id": "a7205504-752a-4a57-a923-1dd0495582fb",
   "metadata": {
    "tags": []
   },
   "outputs": [
    {
     "name": "stdout",
     "output_type": "stream",
     "text": [
      "eating---->eat\n",
      "eaten---->eaten\n",
      "dancer---->dancer\n",
      "dancing---->danc\n"
     ]
    }
   ],
   "source": [
    "for word in words:\n",
    "    print(word + \"---->\" + stemmer.stem(word))"
   ]
  },
  {
   "cell_type": "code",
   "execution_count": 9,
   "id": "e169f976-ebf9-41a2-a16a-635a6c78f10f",
   "metadata": {
    "tags": []
   },
   "outputs": [
    {
     "data": {
      "text/plain": [
       "'congratul'"
      ]
     },
     "execution_count": 9,
     "metadata": {},
     "output_type": "execute_result"
    }
   ],
   "source": [
    "stemmer.stem('congratulations') #disadvantage of some words"
   ]
  },
  {
   "cell_type": "code",
   "execution_count": 10,
   "id": "9533bed6-8c9a-4902-8923-655d389991e5",
   "metadata": {
    "tags": []
   },
   "outputs": [],
   "source": [
    "#RegexpStemmer\n"
   ]
  },
  {
   "cell_type": "code",
   "execution_count": 11,
   "id": "ff533472-65c2-43e7-8097-fe0552294c0e",
   "metadata": {
    "tags": []
   },
   "outputs": [],
   "source": [
    "from nltk.stem import RegexpStemmer"
   ]
  },
  {
   "cell_type": "code",
   "execution_count": 13,
   "id": "252d17c1-e1e9-47bf-b0ab-166f11abf8b8",
   "metadata": {
    "tags": []
   },
   "outputs": [],
   "source": [
    "reg_stemmer=RegexpStemmer('ing$|s$|e$|able$',min=4)"
   ]
  },
  {
   "cell_type": "code",
   "execution_count": 19,
   "id": "0e78c122-861a-4a35-896a-059ddc8cf6a9",
   "metadata": {
    "tags": []
   },
   "outputs": [
    {
     "data": {
      "text/plain": [
       "'ingeat'"
      ]
     },
     "execution_count": 19,
     "metadata": {},
     "output_type": "execute_result"
    }
   ],
   "source": [
    "reg_stemmer.stem('ingeat')"
   ]
  },
  {
   "cell_type": "code",
   "execution_count": 20,
   "id": "81dc809b-4766-475b-a108-affde5ed2f1e",
   "metadata": {
    "tags": []
   },
   "outputs": [],
   "source": [
    "#Snowball stemmer"
   ]
  },
  {
   "cell_type": "code",
   "execution_count": 21,
   "id": "bf0be89e-fb7f-4443-b002-ee6438056e46",
   "metadata": {
    "tags": []
   },
   "outputs": [],
   "source": [
    "from nltk.stem import SnowballStemmer"
   ]
  },
  {
   "cell_type": "code",
   "execution_count": 25,
   "id": "f5fd941f-835c-46e2-bb57-8158f6a57289",
   "metadata": {
    "tags": []
   },
   "outputs": [],
   "source": [
    "sbst=SnowballStemmer('english')"
   ]
  },
  {
   "cell_type": "code",
   "execution_count": 27,
   "id": "968b1b0d-6adb-453a-b7ff-4bd58f874229",
   "metadata": {
    "tags": []
   },
   "outputs": [
    {
     "name": "stdout",
     "output_type": "stream",
     "text": [
      "eating--->eat\n",
      "eaten--->eaten\n",
      "dancer--->dancer\n",
      "dancing--->danc\n"
     ]
    }
   ],
   "source": [
    "for word in words:\n",
    "    print(word+\"--->\"+sbst.stem(word))"
   ]
  },
  {
   "cell_type": "code",
   "execution_count": 28,
   "id": "2b3c73ef-cfef-4ca2-ba37-f9be20982948",
   "metadata": {
    "tags": []
   },
   "outputs": [
    {
     "data": {
      "text/plain": [
       "('fairli', 'sportingli')"
      ]
     },
     "execution_count": 28,
     "metadata": {},
     "output_type": "execute_result"
    }
   ],
   "source": [
    "stemmer.stem('fairly'),stemmer.stem('sportingly')"
   ]
  },
  {
   "cell_type": "code",
   "execution_count": 29,
   "id": "82120216-7e0c-475a-a4ae-d4745b6f6f1f",
   "metadata": {
    "tags": []
   },
   "outputs": [
    {
     "data": {
      "text/plain": [
       "('fair', 'sport')"
      ]
     },
     "execution_count": 29,
     "metadata": {},
     "output_type": "execute_result"
    }
   ],
   "source": [
    "sbst.stem('fairly'),sbst.stem('sportingly')"
   ]
  },
  {
   "cell_type": "code",
   "execution_count": null,
   "id": "a8cd1263-fed1-4e3e-aca8-ab2adc656c5c",
   "metadata": {},
   "outputs": [],
   "source": []
  }
 ],
 "metadata": {
  "kernelspec": {
   "display_name": "Python 3 (ipykernel)",
   "language": "python",
   "name": "python3"
  },
  "language_info": {
   "codemirror_mode": {
    "name": "ipython",
    "version": 3
   },
   "file_extension": ".py",
   "mimetype": "text/x-python",
   "name": "python",
   "nbconvert_exporter": "python",
   "pygments_lexer": "ipython3",
   "version": "3.11.7"
  }
 },
 "nbformat": 4,
 "nbformat_minor": 5
}
