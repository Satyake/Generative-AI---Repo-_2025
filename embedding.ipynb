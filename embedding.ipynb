{
 "cells": [
  {
   "cell_type": "code",
   "execution_count": 2,
   "id": "007c8c95-c316-47f3-9b15-cd128567f5e7",
   "metadata": {
    "tags": []
   },
   "outputs": [],
   "source": [
    "from tensorflow.keras.preprocessing.text import one_hot"
   ]
  },
  {
   "cell_type": "code",
   "execution_count": 3,
   "id": "cea3f141-8364-4d9b-9b46-5878fa48e687",
   "metadata": {
    "tags": []
   },
   "outputs": [],
   "source": [
    "sent = [\n",
    "    \"The Population Stability Index (PSI) is a useful metric for monitoring data drift over time.\",\n",
    "    \"A high PSI value often indicates significant changes in data distribution between two datasets.\",\n",
    "    \"Monitoring PSI for fraud probability scores helps ensure a fraud detection model remains effective.\",\n",
    "    \"When the PSI exceeds 0.2, it is usually a sign that retraining the model may be necessary.\",\n",
    "    \"Binning data into quantiles is a common approach for calculating PSI.\",\n",
    "    \"Significant changes in key features may indicate shifts in fraud patterns.\",\n",
    "    \"PSI values help identify when model performance might degrade due to data drift.\"\n",
    "]\n"
   ]
  },
  {
   "cell_type": "code",
   "execution_count": 4,
   "id": "25d49c29-3352-4db5-aa6f-c45334f7e6ae",
   "metadata": {
    "tags": []
   },
   "outputs": [],
   "source": [
    "#define the vocabulary size\n",
    "vocab_size=10000\n",
    "\n"
   ]
  },
  {
   "cell_type": "code",
   "execution_count": 5,
   "id": "b6f697dc-6c18-432c-8ff6-23c2e01b72d8",
   "metadata": {
    "tags": []
   },
   "outputs": [],
   "source": [
    "#One HOT repr\n",
    "one_hot_repr=[one_hot(words,vocab_size)for words in sent]"
   ]
  },
  {
   "cell_type": "code",
   "execution_count": 6,
   "id": "1b3f6a4e-0ed6-4b16-8837-80bb8f3c2ffb",
   "metadata": {
    "tags": []
   },
   "outputs": [],
   "source": [
    "#one_hot_repr"
   ]
  },
  {
   "cell_type": "code",
   "execution_count": 9,
   "id": "7d812e0b-c345-4604-8819-ead3df113e0e",
   "metadata": {
    "tags": []
   },
   "outputs": [],
   "source": [
    "from tensorflow.keras.layers import Embedding\n",
    "from tensorflow.keras.utils import pad_sequences\n",
    "from tensorflow.keras.models import Sequential"
   ]
  },
  {
   "cell_type": "code",
   "execution_count": 14,
   "id": "12a41339-abc3-4b0c-a892-9cc97689bd7e",
   "metadata": {
    "tags": []
   },
   "outputs": [
    {
     "name": "stdout",
     "output_type": "stream",
     "text": [
      "[[5449 1900 9975 4705 7289 1786 3951 9040]\n",
      " [1694  202 5742 7289 1635 9244 6306 4558]\n",
      " [2752 5120 8659 6658 6379 7877 5202  172]\n",
      " [6320 1032 1302 5097 7877 8408 5963 4628]\n",
      " [2958 6018 8659 6762 9145 9975 5128 2814]\n",
      " [2252  184 8408 7783 1693 5742 6658 7457]\n",
      " [7877 7915 1910  667 8818  843 7289 1786]]\n"
     ]
    }
   ],
   "source": [
    "sent_length=8\n",
    "embedded_docs=pad_sequences(one_hot_repr,padding='pre',maxlen=sent_length)\n",
    "print(embedded_docs)"
   ]
  },
  {
   "cell_type": "code",
   "execution_count": 15,
   "id": "a85afa25-aaa9-42a5-a7ed-3dd147cbe605",
   "metadata": {
    "tags": []
   },
   "outputs": [],
   "source": [
    "##feature representation\n",
    "dim=10\n"
   ]
  },
  {
   "cell_type": "code",
   "execution_count": 18,
   "id": "8ffb6f08-eb94-4e74-881d-635d4bdb0f55",
   "metadata": {
    "tags": []
   },
   "outputs": [],
   "source": [
    "model=Sequential()\n",
    "model.add(Embedding(vocab_size, dim, input_length=sent_length))\n",
    "model.compile('adam','mse')"
   ]
  },
  {
   "cell_type": "code",
   "execution_count": 19,
   "id": "dfdfeb6d-0d00-4093-98e4-c74e2fc28e66",
   "metadata": {
    "tags": []
   },
   "outputs": [
    {
     "name": "stdout",
     "output_type": "stream",
     "text": [
      "Model: \"sequential_2\"\n",
      "_________________________________________________________________\n",
      " Layer (type)                Output Shape              Param #   \n",
      "=================================================================\n",
      " embedding_1 (Embedding)     (None, 8, 10)             100000    \n",
      "                                                                 \n",
      "=================================================================\n",
      "Total params: 100000 (390.62 KB)\n",
      "Trainable params: 100000 (390.62 KB)\n",
      "Non-trainable params: 0 (0.00 Byte)\n",
      "_________________________________________________________________\n"
     ]
    }
   ],
   "source": [
    "model.summary()"
   ]
  },
  {
   "cell_type": "code",
   "execution_count": 21,
   "id": "f1eb3faa-592b-4cf7-a7e3-909e2737f2d0",
   "metadata": {
    "tags": []
   },
   "outputs": [
    {
     "name": "stdout",
     "output_type": "stream",
     "text": [
      "1/1 [==============================] - 0s 41ms/step\n"
     ]
    },
    {
     "data": {
      "text/plain": [
       "array([[-0.02169869,  0.04192537, -0.0008631 , -0.04927033, -0.00174878,\n",
       "        -0.042617  , -0.01597416,  0.03984766,  0.03687939,  0.04274309],\n",
       "       [ 0.02334026, -0.04060105, -0.01089971,  0.03985697,  0.04567945,\n",
       "         0.00968536,  0.0113547 ,  0.00372769, -0.02696092,  0.02370274],\n",
       "       [ 0.00277881,  0.03269018,  0.01699601,  0.01149844,  0.01872839,\n",
       "         0.03464253, -0.01282007,  0.04423754, -0.00078119, -0.03696359],\n",
       "       [ 0.03583438, -0.01404455, -0.00396361, -0.04274474, -0.02274801,\n",
       "         0.02388408,  0.03165903,  0.04850229,  0.02090137, -0.04300685],\n",
       "       [-0.02589246,  0.01533151, -0.01646107,  0.00760019, -0.00314853,\n",
       "         0.04663778, -0.01687663, -0.00913128, -0.02776474,  0.03159728],\n",
       "       [-0.02037149,  0.00421535, -0.02030957,  0.01156212, -0.00103601,\n",
       "         0.02133608, -0.03255732,  0.04067824,  0.00574256,  0.0438488 ],\n",
       "       [-0.04231462,  0.00912379, -0.01720469, -0.04567068, -0.01535029,\n",
       "         0.02611793,  0.00770875,  0.04162495,  0.00517219,  0.03545605],\n",
       "       [ 0.00983095,  0.00173295,  0.04880998, -0.03574725,  0.03238411,\n",
       "         0.03227326,  0.04516795,  0.00858287,  0.02709481, -0.01106783]],\n",
       "      dtype=float32)"
      ]
     },
     "execution_count": 21,
     "metadata": {},
     "output_type": "execute_result"
    }
   ],
   "source": [
    "model.predict(embedded_docs[0])"
   ]
  },
  {
   "cell_type": "code",
   "execution_count": null,
   "id": "85451c79-33f0-425b-a7d7-2e3e19f1d7ce",
   "metadata": {},
   "outputs": [],
   "source": []
  }
 ],
 "metadata": {
  "kernelspec": {
   "display_name": "Python 3 (ipykernel)",
   "language": "python",
   "name": "python3"
  },
  "language_info": {
   "codemirror_mode": {
    "name": "ipython",
    "version": 3
   },
   "file_extension": ".py",
   "mimetype": "text/x-python",
   "name": "python",
   "nbconvert_exporter": "python",
   "pygments_lexer": "ipython3",
   "version": "3.11.7"
  }
 },
 "nbformat": 4,
 "nbformat_minor": 5
}
