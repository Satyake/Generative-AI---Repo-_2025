{
 "cells": [
  {
   "cell_type": "code",
   "execution_count": 1,
   "id": "7c81d2d3-cb21-4734-83df-3e913603fb54",
   "metadata": {
    "tags": []
   },
   "outputs": [
    {
     "name": "stdout",
     "output_type": "stream",
     "text": [
      "\u001b[33mWARNING: Running pip as the 'root' user can result in broken permissions and conflicting behaviour with the system package manager. It is recommended to use a virtual environment instead: https://pip.pypa.io/warnings/venv\u001b[0m\u001b[33m\n",
      "\u001b[0m"
     ]
    }
   ],
   "source": [
    "!pip -q install gensim"
   ]
  },
  {
   "cell_type": "code",
   "execution_count": 2,
   "id": "737f812b-39c6-45cd-881c-220891a78dcd",
   "metadata": {
    "tags": []
   },
   "outputs": [],
   "source": [
    "from gensim.models import Word2Vec,KeyedVectors"
   ]
  },
  {
   "cell_type": "code",
   "execution_count": 3,
   "id": "cc8b0938-7b94-4bd1-b9ea-bac4c136ac6c",
   "metadata": {
    "tags": []
   },
   "outputs": [
    {
     "name": "stdout",
     "output_type": "stream",
     "text": [
      "[==================================================] 100.0% 1662.8/1662.8MB downloaded\n"
     ]
    }
   ],
   "source": [
    "import gensim.downloader as api\n",
    "wv=api.load('word2vec-google-news-300')"
   ]
  },
  {
   "cell_type": "code",
   "execution_count": 5,
   "id": "7f702912-ee22-4977-b781-79c23fb7cada",
   "metadata": {
    "tags": []
   },
   "outputs": [],
   "source": [
    "vec_king=wv['king']\n",
    "#print(vec_king)"
   ]
  },
  {
   "cell_type": "code",
   "execution_count": 7,
   "id": "c8f5b4df-415b-4866-920f-524293f57387",
   "metadata": {
    "tags": []
   },
   "outputs": [
    {
     "data": {
      "text/plain": [
       "[('cricketing', 0.8372225761413574),\n",
       " ('cricketers', 0.8165745735168457),\n",
       " ('Test_cricket', 0.8094819188117981),\n",
       " ('Twenty##_cricket', 0.8068488240242004),\n",
       " ('Twenty##', 0.7624265551567078),\n",
       " ('Cricket', 0.75413978099823),\n",
       " ('cricketer', 0.7372578382492065),\n",
       " ('twenty##', 0.7316356897354126),\n",
       " ('T##_cricket', 0.7304614186286926),\n",
       " ('West_Indies_cricket', 0.6987985968589783)]"
      ]
     },
     "execution_count": 7,
     "metadata": {},
     "output_type": "execute_result"
    }
   ],
   "source": [
    "wv.most_similar('cricket')"
   ]
  },
  {
   "cell_type": "code",
   "execution_count": 8,
   "id": "a421823a-90ab-4fc1-bc9a-4a29f7016893",
   "metadata": {
    "tags": []
   },
   "outputs": [
    {
     "data": {
      "text/plain": [
       "0.1087311"
      ]
     },
     "execution_count": 8,
     "metadata": {},
     "output_type": "execute_result"
    }
   ],
   "source": [
    "wv.similarity('cricket','king')"
   ]
  },
  {
   "cell_type": "code",
   "execution_count": 9,
   "id": "b94421ac-0379-44aa-8e5f-c8d35be74e1d",
   "metadata": {
    "tags": []
   },
   "outputs": [
    {
     "data": {
      "text/plain": [
       "0.7372579"
      ]
     },
     "execution_count": 9,
     "metadata": {},
     "output_type": "execute_result"
    }
   ],
   "source": [
    "wv.similarity('cricket','cricketer')"
   ]
  },
  {
   "cell_type": "code",
   "execution_count": 10,
   "id": "c3d288a3-b00d-46d7-bb23-1736ae046879",
   "metadata": {
    "tags": []
   },
   "outputs": [],
   "source": [
    "vec=wv['king']-wv['man']+wv['woman']"
   ]
  },
  {
   "cell_type": "code",
   "execution_count": null,
   "id": "2cc1e29f-0842-420a-a1f9-94cbd23e7809",
   "metadata": {
    "tags": []
   },
   "outputs": [],
   "source": [
    "wv.most_similar(["
   ]
  },
  {
   "cell_type": "code",
   "execution_count": null,
   "id": "be06a412-7f65-4c53-9123-7f65d610e870",
   "metadata": {},
   "outputs": [],
   "source": []
  }
 ],
 "metadata": {
  "kernelspec": {
   "display_name": "Python 3 (ipykernel)",
   "language": "python",
   "name": "python3"
  },
  "language_info": {
   "codemirror_mode": {
    "name": "ipython",
    "version": 3
   },
   "file_extension": ".py",
   "mimetype": "text/x-python",
   "name": "python",
   "nbconvert_exporter": "python",
   "pygments_lexer": "ipython3",
   "version": "3.11.7"
  }
 },
 "nbformat": 4,
 "nbformat_minor": 5
}
