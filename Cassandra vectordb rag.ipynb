{
 "cells": [
  {
   "cell_type": "code",
   "execution_count": 26,
   "id": "70822fbc-19e9-4da7-a551-4f6a4da0ded2",
   "metadata": {
    "tags": []
   },
   "outputs": [
    {
     "name": "stdout",
     "output_type": "stream",
     "text": [
      "\u001b[33mWARNING: Running pip as the 'root' user can result in broken permissions and conflicting behaviour with the system package manager. It is recommended to use a virtual environment instead: https://pip.pypa.io/warnings/venv\u001b[0m\u001b[33m\n",
      "\u001b[0m"
     ]
    }
   ],
   "source": [
    "!pip install -q cassio datasets langchain openai tiktoken PyPDF2 langchain_community langchain_openai"
   ]
  },
  {
   "cell_type": "code",
   "execution_count": 27,
   "id": "0420b43a-6c60-4d3a-ab48-90a144e30bcd",
   "metadata": {
    "tags": []
   },
   "outputs": [],
   "source": [
    "from langchain.vectorstores.cassandra import Cassandra\n",
    "from langchain.indexes.vectorstore import VectorStoreIndexWrapper\n",
    "#from langchain.llms import OpenAI\n",
    "from langchain_openai import OpenAI\n",
    "from langchain.embeddings import OpenAIEmbeddings\n",
    "from datasets import load_dataset"
   ]
  },
  {
   "cell_type": "code",
   "execution_count": 16,
   "id": "6da4663d-15ad-4976-a638-3e5da333328d",
   "metadata": {
    "tags": []
   },
   "outputs": [],
   "source": [
    "from dotenv import load_dotenv\n",
    "load_dotenv()\n",
    "import os\n",
    "from PyPDF2 import PdfReader"
   ]
  },
  {
   "cell_type": "code",
   "execution_count": 13,
   "id": "9db1ba77-3793-4adc-a988-0a4273550d1b",
   "metadata": {
    "tags": []
   },
   "outputs": [],
   "source": [
    "os.environ[\"ASTRA_DB_ID\"]=\"53ed12c4-7e9d-4a83-8b47-9e44a9a27ed2\"\n",
    "os.environ[\"OPENAI_API_KEY\"]=os.getenv(\"OPENAI_API_KEY\")\n",
    "os.environ[\"ASTRA_DB_TOKEN\"]=os.getenv(\"ASTRA_DB_TOKEN\")"
   ]
  },
  {
   "cell_type": "code",
   "execution_count": 18,
   "id": "49465e20-3231-47d8-b2cd-0fa173cce761",
   "metadata": {
    "tags": []
   },
   "outputs": [],
   "source": [
    "pdfreader=PdfReader(\"budget-2024.pdf\")"
   ]
  },
  {
   "cell_type": "code",
   "execution_count": 20,
   "id": "11c45fcd-63e2-4ab2-8825-ab3c721c1bef",
   "metadata": {
    "tags": []
   },
   "outputs": [],
   "source": [
    "from typing_extensions import Concatenate\n",
    "raw_text=\"\"\n",
    "for i, page in enumerate(pdfreader.pages):\n",
    "    content=page.extract_text()\n",
    "    if content:\n",
    "        raw_text+=content"
   ]
  },
  {
   "cell_type": "code",
   "execution_count": 24,
   "id": "7e9efdc6-eb4e-44d5-80c9-55d69c6dedb4",
   "metadata": {
    "tags": []
   },
   "outputs": [],
   "source": [
    "import cassio\n",
    "cassio.init(token=os.environ[\"ASTRA_DB_TOKEN\"], database_id=os.environ[\"ASTRA_DB_ID\"])"
   ]
  },
  {
   "cell_type": "code",
   "execution_count": 28,
   "id": "a317e00b-787b-4ebf-a386-df5181c84741",
   "metadata": {
    "tags": []
   },
   "outputs": [
    {
     "name": "stderr",
     "output_type": "stream",
     "text": [
      "/tmp/ipykernel_163/1187853183.py:2: LangChainDeprecationWarning: The class `OpenAIEmbeddings` was deprecated in LangChain 0.0.9 and will be removed in 1.0. An updated version of the class exists in the :class:`~langchain-openai package and should be used instead. To use it run `pip install -U :class:`~langchain-openai` and import as `from :class:`~langchain_openai import OpenAIEmbeddings``.\n",
      "  embeddings=OpenAIEmbeddings()\n"
     ]
    }
   ],
   "source": [
    "llm=OpenAI()\n",
    "embeddings=OpenAIEmbeddings()\n"
   ]
  },
  {
   "cell_type": "code",
   "execution_count": 30,
   "id": "e87b00bc-0469-4fc6-b120-34a1df6110c6",
   "metadata": {
    "tags": []
   },
   "outputs": [],
   "source": [
    "astra_vector_store=Cassandra(\n",
    "    embedding=embeddings,\n",
    "    table_name=\"pdf_embeddings_budget\",\n",
    "    session=None,\n",
    "    keyspace=None)"
   ]
  },
  {
   "cell_type": "code",
   "execution_count": 33,
   "id": "a1588014-7553-4b9c-942f-24ab3dca21a8",
   "metadata": {
    "tags": []
   },
   "outputs": [],
   "source": [
    "from langchain.text_splitter import CharacterTextSplitter\n",
    "text_splitter=CharacterTextSplitter(\n",
    "    separator=\"\\n\",\n",
    "    chunk_size=1000,\n",
    "    chunk_overlap=200\n",
    ")\n",
    "texts=text_splitter.split_text(raw_text)"
   ]
  },
  {
   "cell_type": "code",
   "execution_count": 36,
   "id": "0276dd30-52f3-482e-b3b6-4271b7144392",
   "metadata": {
    "tags": []
   },
   "outputs": [
    {
     "data": {
      "text/plain": [
       "['©His Majesty the King in Right of Canada (2024 ) \\nAll rights reserved\\nAll requests for permission to reproduce this document \\nor any part thereof shall be addressed to the Department of Finance Canada.\\nThis document is available at www.Canada.ca/Budget\\nCette publication est aussi disponible en français.\\nF1-24/3E-PDF\\nCat No.: 1719-7740\\nIn case of discrepancy between the printed version and the electronic version, \\nthe electronic version will prevail.   i Deputy Prime Minister’s Foreword  \\nA fair chance to build a good middle class life —to do as well as your parents, or \\nbetter —that’s the promise of Canada. For too many, especially for younger \\nCanadians, that promise is at risk.  \\nWe have a plan to fix that. We have a plan to build a Canada that works better \\nfor you, where you can get ahead, where your hard work pays off, where you \\ncan buy a home —where you have  a fair chance at a good middle class life.  \\nFirst, we’re building more affordable homes.  Because the best way to make']"
      ]
     },
     "execution_count": 36,
     "metadata": {},
     "output_type": "execute_result"
    }
   ],
   "source": [
    "texts[:1]"
   ]
  },
  {
   "cell_type": "code",
   "execution_count": 42,
   "id": "fd377b7b-63a7-4ed6-bb7e-5e4a762fc61d",
   "metadata": {
    "tags": []
   },
   "outputs": [],
   "source": [
    "#load into vector store\n",
    "astra_vector_store.add_texts(texts)\n",
    "astra_vector_index=VectorStoreIndexWrapper(vectorstore=astra_vector_store)"
   ]
  },
  {
   "cell_type": "code",
   "execution_count": null,
   "id": "0faf81c0-e0f7-4f19-985b-49d5c4bdf9e7",
   "metadata": {
    "tags": []
   },
   "outputs": [],
   "source": []
  },
  {
   "cell_type": "code",
   "execution_count": 43,
   "id": "39c53ba4-34df-446d-b467-1703102c5c74",
   "metadata": {
    "tags": []
   },
   "outputs": [
    {
     "name": "stdout",
     "output_type": "stream",
     "text": [
      "The hydrogen investment tax credit is a tax credit that will be available as of March 28, 2023 for eligible investments related to clean hydrogen production. It is one of the investment tax credits that the government is prioritizing in introducing legislation for.\n"
     ]
    }
   ],
   "source": [
    "query_text=\"what is the hydrogen investment tax credit?\"\n",
    "answer=astra_vector_index.query(query_text, llm=llm).strip()\n",
    "print(answer)"
   ]
  },
  {
   "cell_type": "code",
   "execution_count": null,
   "id": "9778bd76-e91f-40ff-b301-e93c7890c373",
   "metadata": {},
   "outputs": [],
   "source": []
  }
 ],
 "metadata": {
  "kernelspec": {
   "display_name": "Python 3 (ipykernel)",
   "language": "python",
   "name": "python3"
  },
  "language_info": {
   "codemirror_mode": {
    "name": "ipython",
    "version": 3
   },
   "file_extension": ".py",
   "mimetype": "text/x-python",
   "name": "python",
   "nbconvert_exporter": "python",
   "pygments_lexer": "ipython3",
   "version": "3.11.7"
  }
 },
 "nbformat": 4,
 "nbformat_minor": 5
}
