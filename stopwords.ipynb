{
 "cells": [
  {
   "cell_type": "code",
   "execution_count": 9,
   "id": "3be50b26-4736-4888-b26c-35d231c4c2d2",
   "metadata": {
    "tags": []
   },
   "outputs": [],
   "source": [
    " sentences = \"\"\"\n",
    "        \"Innovation is at the core of technological advancements.\",\n",
    "        \"Machine learning has transformed industries across the globe.\",\n",
    "        \"The application of AI in personalized content generation is remarkable.\",\n",
    "        \"Data-driven decisions help organizations achieve their goals effectively.\",\n",
    "        \"Collaboration between engineers and data scientists drives impactful solutions.\",\n",
    "        \"Cloud platforms have enabled scalable and efficient deployment of ML systems.\",\n",
    "        \"Advancements in natural language processing enhance human-computer interaction.\"\n",
    "    \"\"\""
   ]
  },
  {
   "cell_type": "code",
   "execution_count": 3,
   "id": "d4a877fb-ecd7-4cb8-9840-5210b71b3ee3",
   "metadata": {
    "tags": []
   },
   "outputs": [
    {
     "name": "stderr",
     "output_type": "stream",
     "text": [
      "[nltk_data] Downloading package punkt to /root/nltk_data...\n",
      "[nltk_data]   Unzipping tokenizers/punkt.zip.\n",
      "[nltk_data] Downloading package stopwords to /root/nltk_data...\n",
      "[nltk_data]   Unzipping corpora/stopwords.zip.\n"
     ]
    },
    {
     "data": {
      "text/plain": [
       "True"
      ]
     },
     "execution_count": 3,
     "metadata": {},
     "output_type": "execute_result"
    }
   ],
   "source": [
    "import nltk\n",
    "nltk.download('punkt')\n",
    "nltk.download('stopwords')"
   ]
  },
  {
   "cell_type": "code",
   "execution_count": 19,
   "id": "da2d0c70-f02e-4cb6-b470-4251d3392b1b",
   "metadata": {
    "tags": []
   },
   "outputs": [],
   "source": [
    "from nltk.stem import PorterStemmer\n",
    "from nltk.stem import WordNetLemmatizer\n",
    "from nltk.corpus import stopwords"
   ]
  },
  {
   "cell_type": "code",
   "execution_count": null,
   "id": "16726524-0cd9-447a-8853-be1b7c5f3a5b",
   "metadata": {
    "tags": []
   },
   "outputs": [],
   "source": [
    "stopwords.words('english')"
   ]
  },
  {
   "cell_type": "code",
   "execution_count": 20,
   "id": "dc10869a-faa5-433a-b1b0-a030221cbddc",
   "metadata": {
    "tags": []
   },
   "outputs": [],
   "source": [
    "stemmer=PorterStemmer()\n",
    "lemmatizer=WordNetLemmatizer()"
   ]
  },
  {
   "cell_type": "code",
   "execution_count": 11,
   "id": "17432a8e-a34b-4b08-bf8c-05b326dcf4ff",
   "metadata": {
    "tags": []
   },
   "outputs": [],
   "source": [
    "sentences=nltk.sent_tokenize(sentences)"
   ]
  },
  {
   "cell_type": "code",
   "execution_count": 21,
   "id": "3343633d-32f1-4ef5-a3c3-408c2ede7fe7",
   "metadata": {
    "tags": []
   },
   "outputs": [],
   "source": [
    "for i in range(len(sentences)):\n",
    "    words=nltk.word_tokenize(sentences[i])\n",
    "    words=[lemmatizer.lemmatize(word) for word in words if word not in set(stopwords.words('english'))]\n",
    "    sentences[i]=' '.join(words)#convert all words into sentences\n",
    "    "
   ]
  },
  {
   "cell_type": "code",
   "execution_count": 22,
   "id": "632f0b19-ec19-40ab-be80-e4347cbc79be",
   "metadata": {
    "tags": []
   },
   "outputs": [
    {
     "data": {
      "text/plain": [
       "['`` innov core technolog advanc .',\n",
       " '`` , `` machin learn transform industri across globe .',\n",
       " '`` , `` applic ai person content gener remark .',\n",
       " '`` , `` data-driven decis help organ achiev goal effect .',\n",
       " '`` , `` collabor engin data scientist drive impact solut .',\n",
       " '`` , `` cloud platform enabl scalabl effici deploy ml system .',\n",
       " '`` , `` advanc natur languag process enhanc human-comput interact . ``']"
      ]
     },
     "execution_count": 22,
     "metadata": {},
     "output_type": "execute_result"
    }
   ],
   "source": [
    "sentences"
   ]
  },
  {
   "cell_type": "code",
   "execution_count": null,
   "id": "8c87a2a0-423f-4385-9f4a-ca9d0cd5f659",
   "metadata": {},
   "outputs": [],
   "source": []
  }
 ],
 "metadata": {
  "kernelspec": {
   "display_name": "Python 3 (ipykernel)",
   "language": "python",
   "name": "python3"
  },
  "language_info": {
   "codemirror_mode": {
    "name": "ipython",
    "version": 3
   },
   "file_extension": ".py",
   "mimetype": "text/x-python",
   "name": "python",
   "nbconvert_exporter": "python",
   "pygments_lexer": "ipython3",
   "version": "3.11.7"
  }
 },
 "nbformat": 4,
 "nbformat_minor": 5
}
