{
 "cells": [
  {
   "cell_type": "code",
   "execution_count": 23,
   "id": "4a5fe6e2-bc0f-4dbb-a2b9-08de318e1610",
   "metadata": {
    "tags": []
   },
   "outputs": [
    {
     "name": "stdout",
     "output_type": "stream",
     "text": [
      "\u001b[33mWARNING: Running pip as the 'root' user can result in broken permissions and conflicting behaviour with the system package manager. It is recommended to use a virtual environment instead: https://pip.pypa.io/warnings/venv\u001b[0m\u001b[33m\n",
      "\u001b[0m"
     ]
    }
   ],
   "source": [
    "!pip install -q langchain langgraph cassio dotenv langchain_community langchain_groq chromadb tiktoken langchain_huggingface sentence_transformers langchain_openai "
   ]
  },
  {
   "cell_type": "code",
   "execution_count": 17,
   "id": "b109e64f-d60f-407c-9613-63f15de10503",
   "metadata": {
    "tags": []
   },
   "outputs": [],
   "source": [
    "#!pip install -q --upgrade transformers deepspeed sentence-transformers langchain\n"
   ]
  },
  {
   "cell_type": "code",
   "execution_count": 16,
   "id": "e4f640d8-f5ff-4f58-837f-ff9c97f9b808",
   "metadata": {
    "tags": []
   },
   "outputs": [],
   "source": [
    "#!pip install deepspeed==0.9.5\n"
   ]
  },
  {
   "cell_type": "code",
   "execution_count": 2,
   "id": "61d5776b-293e-4669-97fa-0bad69639ea7",
   "metadata": {
    "tags": []
   },
   "outputs": [],
   "source": [
    "import cassio\n",
    "from dotenv import load_dotenv\n",
    "import os\n",
    "load_dotenv()\n",
    "#provide connection of the AstraDB\n",
    "ASTRA_DB_APPLICATION_TOKEN=os.getenv('ASTRA_DB_TOKEN')\n",
    "ASTRA_DB_ID=\"53ed12c4-7e9d-4a83-8b47-9e44a9a27ed2\""
   ]
  },
  {
   "cell_type": "code",
   "execution_count": 3,
   "id": "a7ed7273-f428-4719-a9a4-b3da6bf96954",
   "metadata": {
    "tags": []
   },
   "outputs": [],
   "source": [
    "cassio.init(token=ASTRA_DB_APPLICATION_TOKEN, database_id=ASTRA_DB_ID)"
   ]
  },
  {
   "cell_type": "code",
   "execution_count": 4,
   "id": "90ac7938-7ce4-4b5c-a43f-0cbcf52a17ae",
   "metadata": {
    "tags": []
   },
   "outputs": [
    {
     "name": "stderr",
     "output_type": "stream",
     "text": [
      "USER_AGENT environment variable not set, consider setting it to identify your requests.\n"
     ]
    }
   ],
   "source": [
    "#Build Index\n",
    "from langchain.text_splitter import RecursiveCharacterTextSplitter\n",
    "from langchain_community.document_loaders import WebBaseLoader\n",
    "\n",
    "urls=[\n",
    "    \"https://lilianweng.github.io/posts/2024-11-28-reward-hacking/\",\n",
    "    \"https://lilianweng.github.io/posts/2024-07-07-hallucination/\",\n",
    "    \"https://lilianweng.github.io/posts/2024-04-12-diffusion-video/\"\n",
    "]\n",
    "\n",
    "docs=[WebBaseLoader(url).load()for url in urls]\n",
    "docs_list=[item for sublist in docs for item in sublist]\n",
    "#text_splitter=RecursiveCharacterTextSplitter(chunk_size=500, chunk_overlap=50)\n",
    "text_splitter=RecursiveCharacterTextSplitter.from_tiktoken_encoder(chunk_size=500, chunk_overlap=0)\n",
    "doc_split=text_splitter.split_documents(docs_list)"
   ]
  },
  {
   "cell_type": "code",
   "execution_count": 5,
   "id": "444aa4ec-335d-4507-99b6-507ae7bce39f",
   "metadata": {
    "tags": []
   },
   "outputs": [],
   "source": [
    "#docs_list"
   ]
  },
  {
   "cell_type": "code",
   "execution_count": 6,
   "id": "9012103f-2625-4f3e-a8e4-f06eaab7fe9f",
   "metadata": {
    "tags": []
   },
   "outputs": [],
   "source": [
    "#doc_split"
   ]
  },
  {
   "cell_type": "code",
   "execution_count": 20,
   "id": "3c519757-b224-4333-bd68-90ff0888d6e8",
   "metadata": {
    "tags": []
   },
   "outputs": [],
   "source": [
    "from langchain_openai import OpenAIEmbeddings\n",
    "embeddings=OpenAIEmbeddings(model=\"text-embedding-3-large\")"
   ]
  },
  {
   "cell_type": "code",
   "execution_count": 28,
   "id": "1c1b640a-43d5-4a65-924a-8bb2d43c89d8",
   "metadata": {
    "tags": []
   },
   "outputs": [],
   "source": [
    "from langchain.vectorstores.cassandra import Cassandra\n",
    "astra_vectore_db=Cassandra(embedding=embeddings,\n",
    "                           table_name=\"qa_mini\",\n",
    "                           session=None, keyspace=None)"
   ]
  },
  {
   "cell_type": "code",
   "execution_count": 34,
   "id": "70747290-2654-40cc-b48f-c6187b99187e",
   "metadata": {
    "tags": []
   },
   "outputs": [
    {
     "name": "stdout",
     "output_type": "stream",
     "text": [
      "Inserted 89\n"
     ]
    }
   ],
   "source": [
    "from langchain.indexes.vectorstore import VectorStoreIndexWrapper\n",
    "astra_vectore_db.add_documents(doc_split)\n",
    "print(\"Inserted\", len(doc_split))"
   ]
  },
  {
   "cell_type": "code",
   "execution_count": 40,
   "id": "16468586-2a93-45ab-a0cc-3c866da52eb2",
   "metadata": {
    "tags": []
   },
   "outputs": [],
   "source": [
    "astra_vector_index=VectorStoreIndexWrapper(vectorstore=astra_vectore_db)"
   ]
  },
  {
   "cell_type": "code",
   "execution_count": 44,
   "id": "1801a24c-fdb2-4baa-b129-c3e46fd0e3b3",
   "metadata": {
    "tags": []
   },
   "outputs": [],
   "source": [
    "retriever=astra_vectore_db.as_retriever()\n",
    "#retriever.invoke(\"What is reward hacking?\")"
   ]
  },
  {
   "cell_type": "code",
   "execution_count": 65,
   "id": "385c8f29-6a90-4809-b9e0-08dcc4e17a4b",
   "metadata": {
    "tags": []
   },
   "outputs": [],
   "source": [
    "#creating the router \n",
    "from typing import Literal\n",
    "from langchain_core.prompts import ChatPromptTemplate\n",
    "from langchain_core.pydantic_v1 import BaseModel, Field\n",
    "#router \n",
    "class RouteQuery(BaseModel):\n",
    "    \"\"\" Route a quser query to the most relevant data source \"\"\"\n",
    "    datasource: Literal[\"vectorstore\",\"wiki_search\"]=Field(\n",
    "        ...,\n",
    "        description=\"Given a user question choose to route it to wikipedia or the vectorstore\"\n",
    "    )\n",
    "    \n",
    "    "
   ]
  },
  {
   "cell_type": "code",
   "execution_count": 72,
   "id": "b0e21091-7ddb-4092-b6f1-726ab33c52bb",
   "metadata": {
    "tags": []
   },
   "outputs": [],
   "source": [
    "from langchain_groq import ChatGroq\n",
    "import os\n",
    "os.environ['GROQ_API_KEY']=os.getenv('GROQ_API_KEY')\n",
    "llm=ChatGroq(model_name=\"Gemma2-9b-It\")"
   ]
  },
  {
   "cell_type": "code",
   "execution_count": 73,
   "id": "eabf7b95-04c9-4ccc-9a53-326345043738",
   "metadata": {
    "tags": []
   },
   "outputs": [],
   "source": [
    "structured_llm_router=llm.with_structured_output(RouteQuery)"
   ]
  },
  {
   "cell_type": "code",
   "execution_count": 74,
   "id": "e69ee17c-8b8c-4e89-9132-43a582a8bacc",
   "metadata": {
    "tags": []
   },
   "outputs": [],
   "source": [
    "system=\"\"\" You are an expert at routing user questions between vectorstore or wikipedia tool\n",
    "Based on the questions asked please do the required routing\"\"\"\n",
    "route_prompt=ChatPromptTemplate.from_messages(\n",
    "    [\n",
    "     (\"system\",system),\n",
    "        (\"human\",\"{question}\"),\n",
    "    ]\n",
    ")"
   ]
  },
  {
   "cell_type": "code",
   "execution_count": 75,
   "id": "a4303642-4a95-42c1-b1ae-1788ba71d6a6",
   "metadata": {
    "tags": []
   },
   "outputs": [],
   "source": [
    "question_router=route_prompt | structured_llm_router"
   ]
  },
  {
   "cell_type": "code",
   "execution_count": 76,
   "id": "accd1072-7479-408a-a93f-69f139a4a76c",
   "metadata": {
    "tags": []
   },
   "outputs": [
    {
     "name": "stdout",
     "output_type": "stream",
     "text": [
      "\u001b[33mWARNING: Running pip as the 'root' user can result in broken permissions and conflicting behaviour with the system package manager. It is recommended to use a virtual environment instead: https://pip.pypa.io/warnings/venv\u001b[0m\u001b[33m\n",
      "\u001b[0m"
     ]
    }
   ],
   "source": [
    "#!pip -q install wikipedia"
   ]
  },
  {
   "cell_type": "code",
   "execution_count": 77,
   "id": "b7d19087-b73d-45cd-b612-854b5648d7c2",
   "metadata": {
    "tags": []
   },
   "outputs": [
    {
     "name": "stdout",
     "output_type": "stream",
     "text": [
      "datasource='wiki_search'\n"
     ]
    }
   ],
   "source": [
    "print(question_router.invoke({\"question\": \"Who is sharukh khan?\"}))"
   ]
  },
  {
   "cell_type": "code",
   "execution_count": null,
   "id": "437752b3-8602-4dcc-a266-728c0ff8a391",
   "metadata": {
    "tags": []
   },
   "outputs": [],
   "source": []
  },
  {
   "cell_type": "code",
   "execution_count": null,
   "id": "95982d6a-83b7-4df9-a475-367aa1cf4f7e",
   "metadata": {
    "tags": []
   },
   "outputs": [],
   "source": [
    "from langchain_community.utilities import WikipediaAPIWrapper\n",
    "from langchain_community.tools import WikipediaQueryRun\n",
    "api_wrapper=WikipediaAPIWrapper(top_k_results=1,doc_content_chars_max=200)\n",
    "wiki=WikipediaQueryRun(api_wrapper=api_wrapper)"
   ]
  },
  {
   "cell_type": "code",
   "execution_count": 78,
   "id": "fc3cdece-edf5-4ff2-9f76-08b051ed9596",
   "metadata": {
    "tags": []
   },
   "outputs": [
    {
     "data": {
      "text/plain": [
       "'Page: Halo (franchise)\\nSummary: Halo is a military science fiction video game series and media franchise, originally developed by Bungie and currently managed and developed by Halo Studios (previously'"
      ]
     },
     "execution_count": 78,
     "metadata": {},
     "output_type": "execute_result"
    }
   ],
   "source": [
    "wiki.run(\"Halo\")"
   ]
  },
  {
   "cell_type": "code",
   "execution_count": 81,
   "id": "5831510c-b0bf-4ded-86b9-c4af22678470",
   "metadata": {
    "tags": []
   },
   "outputs": [],
   "source": [
    "## Langgraph application\n",
    "from typing import List\n",
    "from typing_extensions import TypedDict\n",
    "\n",
    "class GraphState(TypedDict):\n",
    "    \n",
    "    question: str\n",
    "    generation:str\n",
    "    documents: List[str]"
   ]
  },
  {
   "cell_type": "code",
   "execution_count": 82,
   "id": "49d2fedc-e0b2-4f44-9649-87c415832f48",
   "metadata": {
    "tags": []
   },
   "outputs": [],
   "source": [
    "from langchain.schema import Document\n",
    "def retrieve(state):\n",
    "    \"\"\"Retrieve documents\n",
    "    Args: Current graph state\n",
    "    \n",
    "    Returns state: new key added to state that contains retrieved docs\"\"\"\n",
    "    \n",
    "    print(\"---Retrieve---\")\n",
    "    questions=state[\"question\"]\n",
    "    #retrieval\n",
    "    \n",
    "    documents=retriever.invoke(questions)\n",
    "    return {\"documents\":documents,\"questions\":questions}"
   ]
  },
  {
   "cell_type": "code",
   "execution_count": 83,
   "id": "a84713f8-4ccd-48d3-bd9c-fb9197804c67",
   "metadata": {
    "tags": []
   },
   "outputs": [],
   "source": [
    "def wiki_search(state):\n",
    "    \"\"\"\n",
    "    wiki search based on the re-phrased question.\n",
    "\n",
    "    Args:\n",
    "        state (dict): The current graph state\n",
    "\n",
    "    Returns:\n",
    "        state (dict): Updates documents key with appended web results\n",
    "    \"\"\"\n",
    "\n",
    "    print(\"---wikipedia---\")\n",
    "    print(\"---HELLO--\")\n",
    "    question = state[\"question\"]\n",
    "    print(question)\n",
    "\n",
    "    # Wiki search\n",
    "    docs = wiki.invoke({\"query\": question})\n",
    "    #print(docs[\"summary\"])\n",
    "    wiki_results = docs\n",
    "    wiki_results = Document(page_content=wiki_results)\n",
    "\n",
    "    return {\"documents\": wiki_results, \"question\": question}"
   ]
  },
  {
   "cell_type": "code",
   "execution_count": 84,
   "id": "016294dd-5ae6-453c-9200-ee8f26129bdc",
   "metadata": {
    "tags": []
   },
   "outputs": [],
   "source": [
    "\n",
    "def route_question(state):\n",
    "    \"\"\"\n",
    "    Route question to wiki search or RAG.\n",
    "\n",
    "    Args:\n",
    "        state (dict): The current graph state\n",
    "\n",
    "    Returns:\n",
    "        str: Next node to call\n",
    "    \"\"\"\n",
    "\n",
    "    print(\"---ROUTE QUESTION---\")\n",
    "    question = state[\"question\"]\n",
    "    source = question_router.invoke({\"question\": question})\n",
    "    if source.datasource == \"wiki_search\":\n",
    "        print(\"---ROUTE QUESTION TO Wiki SEARCH---\")\n",
    "        return \"wiki_search\"\n",
    "    elif source.datasource == \"vectorstore\":\n",
    "        print(\"---ROUTE QUESTION TO RAG---\")\n",
    "        return \"vectorstore\""
   ]
  },
  {
   "cell_type": "code",
   "execution_count": 96,
   "id": "59242ed4-e056-4c3c-88b3-f60f2a0832f8",
   "metadata": {
    "tags": []
   },
   "outputs": [
    {
     "data": {
      "text/plain": [
       "<langgraph.graph.state.StateGraph at 0x7f2ce69df990>"
      ]
     },
     "execution_count": 96,
     "metadata": {},
     "output_type": "execute_result"
    }
   ],
   "source": [
    "from langgraph.graph import END, StateGraph, START\n",
    "workflow=StateGraph(GraphState)\n",
    "#define nodes\n",
    "workflow.add_node(\"wiki_search\",wiki_search)\n",
    "workflow.add_node(\"retrieve\",retrieve)\n",
    "\n",
    "#build the graph\n",
    "workflow.add_conditional_edges(\n",
    "    START,\n",
    "    route_question,\n",
    "    {\n",
    "        \"wiki_search\":\"wiki_search\",\n",
    "        \"vectorstore\": \"retrieve\",\n",
    "    }\n",
    ")\n",
    "\n",
    "workflow.add_edge(\"retrieve\",END)\n",
    "workflow.add_edge(\"wiki_search\",END)"
   ]
  },
  {
   "cell_type": "code",
   "execution_count": 99,
   "id": "c501be24-41d8-44be-b209-16449463afae",
   "metadata": {
    "tags": []
   },
   "outputs": [],
   "source": [
    "#compile the graph\n",
    "graph=workflow.compile()"
   ]
  },
  {
   "cell_type": "code",
   "execution_count": 100,
   "id": "ece29ece-0482-446b-b56e-fa0a1e789719",
   "metadata": {
    "tags": []
   },
   "outputs": [
    {
     "data": {
      "image/png": "[encoded data removed]",
      "text/plain": [
       "<langgraph.graph.state.CompiledStateGraph object at 0x7f2ce8c4a850>"
      ]
     },
     "execution_count": 100,
     "metadata": {},
     "output_type": "execute_result"
    }
   ],
   "source": [
    "graph"
   ]
  },
  {
   "cell_type": "code",
   "execution_count": 105,
   "id": "91f08c66-7677-4ebb-9d81-0505832cc395",
   "metadata": {
    "tags": []
   },
   "outputs": [
    {
     "name": "stdin",
     "output_type": "stream",
     "text": [
      "User: hi\n"
     ]
    },
    {
     "name": "stdout",
     "output_type": "stream",
     "text": [
      "---ROUTE QUESTION---\n",
      "---ROUTE QUESTION TO RAG---\n",
      "---Retrieve---\n",
      "Assistant: {'documents': [Document(id='660830a175ff4abb8741a6f3bd35a19c', metadata={'description': 'Diffusion models have demonstrated strong results on image synthesis in past years. Now the research community has started working on a harder task—using it for video generation. The task itself is a superset of the image case, since an image is a video of 1 frame, and it is much more challenging because:\\n\\nIt has extra requirements on temporal consistency across frames in time, which naturally demands more world knowledge to be encoded into the model.\\nIn comparison to text or images, it is more difficult to collect large amounts of high-quality, high-dimensional video data, let along text-video pairs.\\n\\n\\n\\nğŸ¥‘ Required Pre-read: Please make sure you have read the previous blog on “What are Diffusion Models?” for image generation before continue here.\\n', 'language': 'en', 'source': 'https://lilianweng.github.io/posts/2024-04-12-diffusion-video/', 'title': \"Diffusion Models for Video Generation | Lil'Log\"}, page_content=\"Generative-Model\\nVideo-Generation\\n\\n\\n\\nÂ« \\n\\nExtrinsic Hallucinations in LLMs\\n\\n\\n Â»\\n\\nThinking about High-Quality Human Data\\n\\n\\n\\n\\n\\n\\n\\n\\n\\n\\n\\n\\n\\n\\n\\n\\n\\n\\n\\n\\n\\n\\n\\n\\n\\n\\n\\n\\n\\n\\n\\n\\n\\n\\n\\n\\n\\n\\n© 2025 Lil'Log\\n\\n        Powered by\\n        Hugo &\\n        PaperMod\"), Document(id='de98af38f7bd47df94e202e1acad4c52', metadata={'description': 'Hallucination in large language models usually refers to the model generating unfaithful, fabricated, inconsistent, or nonsensical content. As a term, hallucination has been somewhat generalized to cases when the model makes mistakes. Here, I would like to narrow down the problem of hallucination to cases where the model output is fabricated and not grounded by either the provided context or world knowledge.\\nThere are two types of hallucination:\\n\\nIn-context hallucination: The model output should be consistent with the source content in context.\\nExtrinsic hallucination: The model output should be grounded by the pre-training dataset. However, given the size of the pre-training dataset, it is too expensive to retrieve and identify conflicts per generation. If we consider the pre-training data corpus as a proxy for world knowledge, we essentially try to ensure the model output is factual and verifiable by external world knowledge. Equally importantly, when the model does not know about a fact, it should say so.\\n\\nThis post focuses on extrinsic hallucination. To avoid hallucination, LLMs need to be (1) factual and (2) acknowledge not knowing the answer when applicable.', 'language': 'en', 'source': 'https://lilianweng.github.io/posts/2024-07-07-hallucination/', 'title': \"Extrinsic Hallucinations in LLMs | Lil'Log\"}, page_content=\"Nlp\\nLanguage-Model\\nSafety\\nHallucination\\nFactuality\\n\\n\\n\\n« \\n\\nReward Hacking in Reinforcement Learning\\n\\n\\n »\\n\\nDiffusion Models for Video Generation\\n\\n\\n\\n\\n\\n\\n\\n\\n\\n\\n\\n\\n\\n\\n\\n\\n\\n\\n\\n\\n\\n\\n\\n\\n\\n\\n\\n\\n\\n\\n\\n\\n\\n\\n\\n\\n\\n\\n© 2025 Lil'Log\\n\\n        Powered by\\n        Hugo &\\n        PaperMod\"), Document(id='2ae3c359036343c0adfdd41af6033e88', metadata={'description': 'Reward hacking occurs when a reinforcement learning (RL) agent exploits flaws or ambiguities in the reward function to achieve high rewards, without genuinely learning or completing the intended task. Reward hacking exists because RL environments are often imperfect, and it is fundamentally challenging to accurately specify a reward function.\\nWith the rise of language models generalizing to a broad spectrum of tasks and RLHF becomes a de facto method for alignment training, reward hacking in RL training of language models has become a critical practical challenge. Instances where the model learns to modify unit tests to pass coding tasks, or where responses contain biases that mimic a user’s preference, are pretty concerning and are likely one of the major blockers for real-world deployment of more autonomous use cases of AI models.', 'language': 'en', 'source': 'https://lilianweng.github.io/posts/2024-11-28-reward-hacking/', 'title': \"Reward Hacking in Reinforcement Learning | Lil'Log\"}, page_content=\"Language-Model\\nRlhf\\nAlignment\\nSafety\\nReinforcement-Learning\\nLong-Read\\n\\n\\n\\n »\\n\\nExtrinsic Hallucinations in LLMs\\n\\n\\n\\n\\n\\n\\n\\n\\n\\n\\n\\n\\n\\n\\n\\n\\n\\n\\n\\n\\n\\n\\n\\n\\n\\n\\n\\n\\n\\n\\n\\n\\n\\n\\n\\n\\n\\n\\n© 2025 Lil'Log\\n\\n        Powered by\\n        Hugo &\\n        PaperMod\"), Document(id='ff58062b2eaa456b831c546e7989e3a4', metadata={'description': 'Reward hacking occurs when a reinforcement learning (RL) agent exploits flaws or ambiguities in the reward function to achieve high rewards, without genuinely learning or completing the intended task. Reward hacking exists because RL environments are often imperfect, and it is fundamentally challenging to accurately specify a reward function.\\nWith the rise of language models generalizing to a broad spectrum of tasks and RLHF becomes a de facto method for alignment training, reward hacking in RL training of language models has become a critical practical challenge. Instances where the model learns to modify unit tests to pass coding tasks, or where responses contain biases that mimic a user’s preference, are pretty concerning and are likely one of the major blockers for real-world deployment of more autonomous use cases of AI models.', 'language': 'en', 'source': 'https://lilianweng.github.io/posts/2024-11-28-reward-hacking/', 'title': \"Reward Hacking in Reinforcement Learning | Lil'Log\"}, page_content='[27] Yuval Noah Harari. “Nexus: A Brief History of Information Networks from the Stone Age to AI.” Signal; 2024 Sep 10.')]}\n"
     ]
    },
    {
     "name": "stdin",
     "output_type": "stream",
     "text": [
      "User: what is diffusion video\n"
     ]
    },
    {
     "name": "stdout",
     "output_type": "stream",
     "text": [
      "---ROUTE QUESTION---\n",
      "---ROUTE QUESTION TO RAG---\n",
      "---Retrieve---\n",
      "Assistant: {'documents': [Document(id='9bee944f879b48ac9bd44d205b0e8c9c', metadata={'description': 'Diffusion models have demonstrated strong results on image synthesis in past years. Now the research community has started working on a harder task—using it for video generation. The task itself is a superset of the image case, since an image is a video of 1 frame, and it is much more challenging because:\\n\\nIt has extra requirements on temporal consistency across frames in time, which naturally demands more world knowledge to be encoded into the model.\\nIn comparison to text or images, it is more difficult to collect large amounts of high-quality, high-dimensional video data, let along text-video pairs.\\n\\n\\n\\nğŸ¥‘ Required Pre-read: Please make sure you have read the previous blog on “What are Diffusion Models?” for image generation before continue here.\\n', 'language': 'en', 'source': 'https://lilianweng.github.io/posts/2024-04-12-diffusion-video/', 'title': \"Diffusion Models for Video Generation | Lil'Log\"}, page_content=\"Diffusion Models for Video Generation | Lil'Log\\n\\n\\n\\n\\n\\n\\n\\n\\n\\n\\n\\n\\n\\n\\n\\n\\n\\n\\n\\n\\n\\n\\n\\n\\n\\n\\n\\n\\n\\n\\n\\n\\n\\n\\n\\n\\n\\n\\n\\nLil'Log\\n\\n\\n\\n\\n\\n\\n\\n\\n\\n\\n\\n\\n\\n\\n\\n\\n\\n|\\n\\n\\n\\n\\n\\n\\nPosts\\n\\n\\n\\n\\nArchive\\n\\n\\n\\n\\nSearch\\n\\n\\n\\n\\nTags\\n\\n\\n\\n\\nFAQ\\n\\n\\n\\n\\n\\n\\n\\n\\n\\n      Diffusion Models for Video Generation\\n    \\nDate: April 12, 2024  |  Estimated Reading Time: 20 min  |  Author: Lilian Weng\\n\\n\\n \\n\\n\\nTable of Contents\\n\\n\\n\\nVideo Generation Modeling from Scratch\\n\\nParameterization & Sampling Basics\\n\\nModel Architecture: 3D U-Net & DiT\\n\\n\\nAdapting Image Models to Generate Videos\\n\\nFine-tuning on Video Data\\n\\nTraining-Free Adaptation\\n\\n\\nCitation\\n\\nReferences\\n\\n\\n\\n\\n\\nDiffusion models have demonstrated strong results on image synthesis in past years. Now the research community has started working on a harder task—using it for video generation. The task itself is a superset of the image case, since an image is a video of 1 frame, and it is much more challenging because:\\n\\nIt has extra requirements on temporal consistency across frames in time, which naturally demands more world knowledge to be encoded into the model.\\nIn comparison to text or images, it is more difficult to collect large amounts of high-quality, high-dimensional video data, let along text-video pairs.\\n\\n\\n\\nğŸ¥‘ Required Pre-read: Please make sure you have read the previous blog on “What are Diffusion Models?” for image generation before continue here.\"), Document(id='522d2705bb0b49b0816438ed96a3e4e8', metadata={'description': 'Diffusion models have demonstrated strong results on image synthesis in past years. Now the research community has started working on a harder task—using it for video generation. The task itself is a superset of the image case, since an image is a video of 1 frame, and it is much more challenging because:\\n\\nIt has extra requirements on temporal consistency across frames in time, which naturally demands more world knowledge to be encoded into the model.\\nIn comparison to text or images, it is more difficult to collect large amounts of high-quality, high-dimensional video data, let along text-video pairs.\\n\\n\\n\\nğŸ¥‘ Required Pre-read: Please make sure you have read the previous blog on “What are Diffusion Models?” for image generation before continue here.\\n', 'language': 'en', 'source': 'https://lilianweng.github.io/posts/2024-04-12-diffusion-video/', 'title': \"Diffusion Models for Video Generation | Lil'Log\"}, page_content='To achieve better scaling efforts, Sora (Brooks et al. 2024) leverages DiT (Diffusion Transformer) architecture that operates on spacetime patches of video and image latent codes. Visual input is represented as a sequence of spacetime patches which act as Transformer input tokens.\\n\\nFig. 5. Sora is a diffusion transformer model.(Image source: Brooks et al. 2024)\\nAdapting Image Models to Generate Videos#\\nAnother prominent approach for diffusion video modeling is to “inflate” a pre-trained image-to-text diffusion model by inserting temporal layers and then we can choose to only fine-tune new layers on video data, or avoid extra training at all. The prior knowledge of text-image pairs is inherited by the new model and thus it can help alleviate the requirement on text-video pair data.\\nFine-tuning on Video Data#\\nMake-A-Video (Singer et al. 2022) extends a pre-trained diffusion image model with a temporal dimension, consisting of three key components:\\n\\nA base text-to-image model trained on text-image pair data.\\nSpatiotemporal convolution and attention layers to extend the network to cover temporal dimension.\\nA frame interpolation network for high frame rate generation\\n\\n\\nFig. 6. The illustration of Make-A-Video pipeline.(Image source: Singer et al. 2022)\\nThe final video inference scheme can be formulated as:\\n\\n$$\\n\\\\hat{\\\\mathbf{y}}_t = \\\\text{SR}_h \\\\circ \\\\text{SR}^t_l \\\\circ \\\\uparrow_F \\\\circ D^t \\\\circ P \\\\circ (\\\\hat{\\\\mathbf{x}}, \\\\text{CLIP}_\\\\text{text}(\\\\mathbf{x}))\\n$$\\n\\nwhere:'), Document(id='698e214dc5614484984f104b0c7ade97', metadata={'description': 'Diffusion models have demonstrated strong results on image synthesis in past years. Now the research community has started working on a harder task—using it for video generation. The task itself is a superset of the image case, since an image is a video of 1 frame, and it is much more challenging because:\\n\\nIt has extra requirements on temporal consistency across frames in time, which naturally demands more world knowledge to be encoded into the model.\\nIn comparison to text or images, it is more difficult to collect large amounts of high-quality, high-dimensional video data, let along text-video pairs.\\n\\n\\n\\nğŸ¥‘ Required Pre-read: Please make sure you have read the previous blog on “What are Diffusion Models?” for image generation before continue here.\\n', 'language': 'en', 'source': 'https://lilianweng.github.io/posts/2024-04-12-diffusion-video/', 'title': \"Diffusion Models for Video Generation | Lil'Log\"}, page_content='Fig. 1. Visualizing how the diffusion update step works in the angular coordinate, where DDIM evolves $\\\\mathbf{z}_{\\\\phi_s}$ by moving it along the $-\\\\hat{\\\\mathbf{v}}_{\\\\phi_t}$ direction. (Image source: Salimans & Ho, 2022)\\nThe $\\\\mathbf{v}$-parameterization for the model is to predict $\\\\mathbf{v}_\\\\phi = \\\\cos\\\\phi\\\\boldsymbol{\\\\epsilon} -\\\\sin\\\\phi\\\\mathbf{x} = \\\\alpha_t\\\\boldsymbol{\\\\epsilon} - \\\\sigma_t\\\\mathbf{x}$.\\nIn the case of video generation, we need the diffusion model to run multiple steps of upsampling for extending video length or increasing the frame rate. This requires the capability of sampling a second video $\\\\mathbf{x}^b$ conditioned on the first $\\\\mathbf{x}^a$, $\\\\mathbf{x}^b \\\\sim p_\\\\theta(\\\\mathbf{x}^b \\\\vert \\\\mathbf{x}^a)$, where $\\\\mathbf{x}^b$ might be an autoregressive extension of $\\\\mathbf{x}^a$ or be the missing frames in-between for a video $\\\\mathbf{x}^a$ at a low frame rate.\\nThe sampling of $\\\\mathbf{x}_b$ needs to condition on $\\\\mathbf{x}_a$ besides its own corresponding noisy variable. Video Diffusion Models (VDM; Ho & Salimans, et al. 2022) proposed the reconstruction guidance method using an adjusted denoising model such that the sampling of $\\\\mathbf{x}^b$ can be properly conditioned on $\\\\mathbf{x}^a$:'), Document(id='25693e7882cb4c9ab0d4d780b9986489', metadata={'description': 'Diffusion models have demonstrated strong results on image synthesis in past years. Now the research community has started working on a harder task—using it for video generation. The task itself is a superset of the image case, since an image is a video of 1 frame, and it is much more challenging because:\\n\\nIt has extra requirements on temporal consistency across frames in time, which naturally demands more world knowledge to be encoded into the model.\\nIn comparison to text or images, it is more difficult to collect large amounts of high-quality, high-dimensional video data, let along text-video pairs.\\n\\n\\n\\nğŸ¥‘ Required Pre-read: Please make sure you have read the previous blog on “What are Diffusion Models?” for image generation before continue here.\\n', 'language': 'en', 'source': 'https://lilianweng.github.io/posts/2024-04-12-diffusion-video/', 'title': \"Diffusion Models for Video Generation | Lil'Log\"}, page_content='Or\\n@article{weng2024video,\\n  title   = \"Diffusion Models Video Generation.\",\\n  author  = \"Weng, Lilian\",\\n  journal = \"lilianweng.github.io\",\\n  year    = \"2024\",\\n  month   = \"Apr\",\\n  url     = \"https://lilianweng.github.io/posts/2024-04-12-diffusion-video/\"\\n}\\nReferences#\\n[1] Cicek et al. 2016. “3D U-Net: Learning Dense Volumetric Segmentation from Sparse Annotation.”\\n[2] Ho & Salimans, et al. “Video Diffusion Models.” 2022 | webpage\\n[3] Bar-Tal et al. 2024 “Lumiere: A Space-Time Diffusion Model for Video Generation.”\\n[4] Brooks et al. “Video generation models as world simulators.” OpenAI Blog, 2024.\\n[5] Zhang et al. 2023 “ControlVideo: Training-free Controllable Text-to-Video Generation.”\\n[6] Khachatryan et al. 2023 “Text2Video-Zero: Text-to-image diffusion models are zero-shot video generators.”\\n[7] Ho, et al. 2022 “Imagen Video: High Definition Video Generation with Diffusion Models.”\\n[8] Singer et al. “Make-A-Video: Text-to-Video Generation without Text-Video Data.” 2022.\\n[9] Wu et al. “Tune-A-Video: One-Shot Tuning of Image Diffusion Models for Text-to-Video Generation.” ICCV 2023.\\n[10] Blattmann et al. 2023 “Align your Latents: High-Resolution Video Synthesis with Latent Diffusion Models.”\\n[11] Blattmann et al. 2023 “Stable Video Diffusion: Scaling Latent Video Diffusion Models to Large Datasets.”\\n[12] Esser et al. 2023 “Structure and Content-Guided Video Synthesis with Diffusion Models.”')]}\n"
     ]
    },
    {
     "ename": "KeyboardInterrupt",
     "evalue": "Interrupted by user",
     "output_type": "error",
     "traceback": [
      "\u001b[0;31m---------------------------------------------------------------------------\u001b[0m",
      "\u001b[0;31mKeyboardInterrupt\u001b[0m                         Traceback (most recent call last)",
      "Cell \u001b[0;32mIn[105], line 4\u001b[0m\n\u001b[1;32m      1\u001b[0m \u001b[38;5;28;01mfrom\u001b[39;00m \u001b[38;5;21;01mlangchain_core\u001b[39;00m\u001b[38;5;21;01m.\u001b[39;00m\u001b[38;5;21;01mmessages\u001b[39;00m \u001b[38;5;28;01mimport\u001b[39;00m HumanMessage\n\u001b[1;32m      3\u001b[0m \u001b[38;5;28;01mwhile\u001b[39;00m \u001b[38;5;28;01mTrue\u001b[39;00m:\n\u001b[0;32m----> 4\u001b[0m     user_input\u001b[38;5;241m=\u001b[39m\u001b[38;5;28;43minput\u001b[39;49m\u001b[43m(\u001b[49m\u001b[38;5;124;43m\"\u001b[39;49m\u001b[38;5;124;43mUser:\u001b[39;49m\u001b[38;5;124;43m\"\u001b[39;49m\u001b[43m)\u001b[49m\n\u001b[1;32m      5\u001b[0m     \u001b[38;5;28;01mif\u001b[39;00m user_input\u001b[38;5;241m.\u001b[39mlower() \u001b[38;5;129;01min\u001b[39;00m [\u001b[38;5;124m\"\u001b[39m\u001b[38;5;124mquit\u001b[39m\u001b[38;5;124m\"\u001b[39m,\u001b[38;5;124m\"\u001b[39m\u001b[38;5;124mq\u001b[39m\u001b[38;5;124m\"\u001b[39m]:\n\u001b[1;32m      6\u001b[0m         \u001b[38;5;28mprint\u001b[39m(\u001b[38;5;124m\"\u001b[39m\u001b[38;5;124mGood Bye\u001b[39m\u001b[38;5;124m\"\u001b[39m)\n",
      "File \u001b[0;32m/usr/local/lib/python3.11/dist-packages/ipykernel/kernelbase.py:1270\u001b[0m, in \u001b[0;36mKernel.raw_input\u001b[0;34m(self, prompt)\u001b[0m\n\u001b[1;32m   1268\u001b[0m     msg \u001b[38;5;241m=\u001b[39m \u001b[38;5;124m\"\u001b[39m\u001b[38;5;124mraw_input was called, but this frontend does not support input requests.\u001b[39m\u001b[38;5;124m\"\u001b[39m\n\u001b[1;32m   1269\u001b[0m     \u001b[38;5;28;01mraise\u001b[39;00m StdinNotImplementedError(msg)\n\u001b[0;32m-> 1270\u001b[0m \u001b[38;5;28;01mreturn\u001b[39;00m \u001b[38;5;28;43mself\u001b[39;49m\u001b[38;5;241;43m.\u001b[39;49m\u001b[43m_input_request\u001b[49m\u001b[43m(\u001b[49m\n\u001b[1;32m   1271\u001b[0m \u001b[43m    \u001b[49m\u001b[38;5;28;43mstr\u001b[39;49m\u001b[43m(\u001b[49m\u001b[43mprompt\u001b[49m\u001b[43m)\u001b[49m\u001b[43m,\u001b[49m\n\u001b[1;32m   1272\u001b[0m \u001b[43m    \u001b[49m\u001b[38;5;28;43mself\u001b[39;49m\u001b[38;5;241;43m.\u001b[39;49m\u001b[43m_parent_ident\u001b[49m\u001b[43m[\u001b[49m\u001b[38;5;124;43m\"\u001b[39;49m\u001b[38;5;124;43mshell\u001b[39;49m\u001b[38;5;124;43m\"\u001b[39;49m\u001b[43m]\u001b[49m\u001b[43m,\u001b[49m\n\u001b[1;32m   1273\u001b[0m \u001b[43m    \u001b[49m\u001b[38;5;28;43mself\u001b[39;49m\u001b[38;5;241;43m.\u001b[39;49m\u001b[43mget_parent\u001b[49m\u001b[43m(\u001b[49m\u001b[38;5;124;43m\"\u001b[39;49m\u001b[38;5;124;43mshell\u001b[39;49m\u001b[38;5;124;43m\"\u001b[39;49m\u001b[43m)\u001b[49m\u001b[43m,\u001b[49m\n\u001b[1;32m   1274\u001b[0m \u001b[43m    \u001b[49m\u001b[43mpassword\u001b[49m\u001b[38;5;241;43m=\u001b[39;49m\u001b[38;5;28;43;01mFalse\u001b[39;49;00m\u001b[43m,\u001b[49m\n\u001b[1;32m   1275\u001b[0m \u001b[43m\u001b[49m\u001b[43m)\u001b[49m\n",
      "File \u001b[0;32m/usr/local/lib/python3.11/dist-packages/ipykernel/kernelbase.py:1313\u001b[0m, in \u001b[0;36mKernel._input_request\u001b[0;34m(self, prompt, ident, parent, password)\u001b[0m\n\u001b[1;32m   1310\u001b[0m \u001b[38;5;28;01mexcept\u001b[39;00m \u001b[38;5;167;01mKeyboardInterrupt\u001b[39;00m:\n\u001b[1;32m   1311\u001b[0m     \u001b[38;5;66;03m# re-raise KeyboardInterrupt, to truncate traceback\u001b[39;00m\n\u001b[1;32m   1312\u001b[0m     msg \u001b[38;5;241m=\u001b[39m \u001b[38;5;124m\"\u001b[39m\u001b[38;5;124mInterrupted by user\u001b[39m\u001b[38;5;124m\"\u001b[39m\n\u001b[0;32m-> 1313\u001b[0m     \u001b[38;5;28;01mraise\u001b[39;00m \u001b[38;5;167;01mKeyboardInterrupt\u001b[39;00m(msg) \u001b[38;5;28;01mfrom\u001b[39;00m \u001b[38;5;28;01mNone\u001b[39;00m\n\u001b[1;32m   1314\u001b[0m \u001b[38;5;28;01mexcept\u001b[39;00m \u001b[38;5;167;01mException\u001b[39;00m:\n\u001b[1;32m   1315\u001b[0m     \u001b[38;5;28mself\u001b[39m\u001b[38;5;241m.\u001b[39mlog\u001b[38;5;241m.\u001b[39mwarning(\u001b[38;5;124m\"\u001b[39m\u001b[38;5;124mInvalid Message:\u001b[39m\u001b[38;5;124m\"\u001b[39m, exc_info\u001b[38;5;241m=\u001b[39m\u001b[38;5;28;01mTrue\u001b[39;00m)\n",
      "\u001b[0;31mKeyboardInterrupt\u001b[0m: Interrupted by user"
     ]
    }
   ],
   "source": [
    "from langchain_core.messages import HumanMessage\n",
    "\n",
    "while True:\n",
    "    user_input=input(\"User:\")\n",
    "    if user_input.lower() in [\"quit\",\"q\"]:\n",
    "        print(\"Good Bye\")\n",
    "        break\n",
    "    for event in graph.stream({'question': user_input}):\n",
    "        #print(event.values())\n",
    "        for value in event.values():\n",
    "               print(\"Assistant:\",value.get(\"answer\") or value)"
   ]
  },
  {
   "cell_type": "code",
   "execution_count": null,
   "id": "aafd790f-f1f2-4ec2-aa3d-c1c6ae97c78f",
   "metadata": {},
   "outputs": [],
   "source": []
  },
  {
   "cell_type": "code",
   "execution_count": null,
   "id": "70187eba-4f07-460b-b066-91f1b6c7a5f9",
   "metadata": {},
   "outputs": [],
   "source": []
  }
 ],
 "metadata": {
  "kernelspec": {
   "display_name": "Python 3 (ipykernel)",
   "language": "python",
   "name": "python3"
  },
  "language_info": {
   "codemirror_mode": {
    "name": "ipython",
    "version": 3
   },
   "file_extension": ".py",
   "mimetype": "text/x-python",
   "name": "python",
   "nbconvert_exporter": "python",
   "pygments_lexer": "ipython3",
   "version": "3.11.7"
  }
 },
 "nbformat": 4,
 "nbformat_minor": 5
}
