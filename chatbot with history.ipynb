{
 "cells": [
  {
   "cell_type": "code",
   "execution_count": null,
   "id": "c55429a8-1a04-4cc1-9ce0-7b1d45b28e97",
   "metadata": {
    "tags": []
   },
   "outputs": [],
   "source": []
  },
  {
   "cell_type": "code",
   "execution_count": 3,
   "id": "50ccf9ba-ad04-40f1-bc6d-8e5f5e664543",
   "metadata": {
    "tags": []
   },
   "outputs": [
    {
     "name": "stdout",
     "output_type": "stream",
     "text": [
      "\u001b[31mERROR: pip's dependency resolver does not currently take into account all the packages that are installed. This behaviour is the source of the following dependency conflicts.\n",
      "deepspeed 0.10.3 requires pydantic<2.0.0, but you have pydantic 2.10.6 which is incompatible.\n",
      "gradient 2.0.6 requires attrs<=19, but you have attrs 23.1.0 which is incompatible.\n",
      "gradient 2.0.6 requires marshmallow<3.0, but you have marshmallow 3.26.1 which is incompatible.\n",
      "gradient 2.0.6 requires PyYAML==5.*, but you have pyyaml 6.0.2 which is incompatible.\n",
      "wandb 0.15.10 requires protobuf!=4.21.0,<5,>=3.19.0; python_version > \"3.9\" and sys_platform == \"linux\", but you have protobuf 5.29.3 which is incompatible.\n",
      "tensorflow 2.15.0 requires protobuf!=4.21.0,!=4.21.1,!=4.21.2,!=4.21.3,!=4.21.4,!=4.21.5,<5.0.0dev,>=3.20.3, but you have protobuf 5.29.3 which is incompatible.\n",
      "tensorboard 2.15.1 requires protobuf<4.24,>=3.19.6, but you have protobuf 5.29.3 which is incompatible.\u001b[0m\u001b[31m\n",
      "\u001b[0m\u001b[33mWARNING: Running pip as the 'root' user can result in broken permissions and conflicting behaviour with the system package manager. It is recommended to use a virtual environment instead: https://pip.pypa.io/warnings/venv\u001b[0m\u001b[33m\n",
      "\u001b[0m"
     ]
    }
   ],
   "source": [
    "!pip install -q langchain-openai chromadb langchain langchain_core beautifulsoup4 langchain_community langchain_groq faiss-cpu"
   ]
  },
  {
   "cell_type": "code",
   "execution_count": 4,
   "id": "7dcb5215-c9a5-4eb1-977d-a90c5399d1d6",
   "metadata": {
    "tags": []
   },
   "outputs": [
    {
     "name": "stdout",
     "output_type": "stream",
     "text": [
      "Requirement already satisfied: langchain_groq in /usr/local/lib/python3.11/dist-packages (0.2.4)\n",
      "Requirement already satisfied: groq<1,>=0.4.1 in /usr/local/lib/python3.11/dist-packages (from langchain_groq) (0.18.0)\n",
      "Requirement already satisfied: langchain-core<0.4.0,>=0.3.33 in /usr/local/lib/python3.11/dist-packages (from langchain_groq) (0.3.40)\n",
      "Requirement already satisfied: anyio<5,>=3.5.0 in /usr/local/lib/python3.11/dist-packages (from groq<1,>=0.4.1->langchain_groq) (4.2.0)\n",
      "Requirement already satisfied: distro<2,>=1.7.0 in /usr/lib/python3/dist-packages (from groq<1,>=0.4.1->langchain_groq) (1.7.0)\n",
      "Requirement already satisfied: httpx<1,>=0.23.0 in /usr/local/lib/python3.11/dist-packages (from groq<1,>=0.4.1->langchain_groq) (0.28.1)\n",
      "Requirement already satisfied: pydantic<3,>=1.9.0 in /usr/local/lib/python3.11/dist-packages (from groq<1,>=0.4.1->langchain_groq) (2.10.6)\n",
      "Requirement already satisfied: sniffio in /usr/local/lib/python3.11/dist-packages (from groq<1,>=0.4.1->langchain_groq) (1.3.0)\n",
      "Requirement already satisfied: typing-extensions<5,>=4.10 in /usr/local/lib/python3.11/dist-packages (from groq<1,>=0.4.1->langchain_groq) (4.12.2)\n",
      "Requirement already satisfied: langsmith<0.4,>=0.1.125 in /usr/local/lib/python3.11/dist-packages (from langchain-core<0.4.0,>=0.3.33->langchain_groq) (0.3.11)\n",
      "Requirement already satisfied: tenacity!=8.4.0,<10.0.0,>=8.1.0 in /usr/local/lib/python3.11/dist-packages (from langchain-core<0.4.0,>=0.3.33->langchain_groq) (9.0.0)\n",
      "Requirement already satisfied: jsonpatch<2.0,>=1.33 in /usr/local/lib/python3.11/dist-packages (from langchain-core<0.4.0,>=0.3.33->langchain_groq) (1.33)\n",
      "Requirement already satisfied: PyYAML>=5.3 in /usr/local/lib/python3.11/dist-packages (from langchain-core<0.4.0,>=0.3.33->langchain_groq) (6.0.2)\n",
      "Requirement already satisfied: packaging<25,>=23.2 in /usr/local/lib/python3.11/dist-packages (from langchain-core<0.4.0,>=0.3.33->langchain_groq) (23.2)\n",
      "Requirement already satisfied: idna>=2.8 in /usr/lib/python3/dist-packages (from anyio<5,>=3.5.0->groq<1,>=0.4.1->langchain_groq) (3.3)\n",
      "Requirement already satisfied: certifi in /usr/lib/python3/dist-packages (from httpx<1,>=0.23.0->groq<1,>=0.4.1->langchain_groq) (2020.6.20)\n",
      "Requirement already satisfied: httpcore==1.* in /usr/local/lib/python3.11/dist-packages (from httpx<1,>=0.23.0->groq<1,>=0.4.1->langchain_groq) (1.0.7)\n",
      "Requirement already satisfied: h11<0.15,>=0.13 in /usr/local/lib/python3.11/dist-packages (from httpcore==1.*->httpx<1,>=0.23.0->groq<1,>=0.4.1->langchain_groq) (0.14.0)\n",
      "Requirement already satisfied: jsonpointer>=1.9 in /usr/local/lib/python3.11/dist-packages (from jsonpatch<2.0,>=1.33->langchain-core<0.4.0,>=0.3.33->langchain_groq) (2.4)\n",
      "Requirement already satisfied: orjson<4.0.0,>=3.9.14 in /usr/local/lib/python3.11/dist-packages (from langsmith<0.4,>=0.1.125->langchain-core<0.4.0,>=0.3.33->langchain_groq) (3.10.15)\n",
      "Requirement already satisfied: requests<3,>=2 in /usr/local/lib/python3.11/dist-packages (from langsmith<0.4,>=0.1.125->langchain-core<0.4.0,>=0.3.33->langchain_groq) (2.31.0)\n",
      "Requirement already satisfied: requests-toolbelt<2.0.0,>=1.0.0 in /usr/local/lib/python3.11/dist-packages (from langsmith<0.4,>=0.1.125->langchain-core<0.4.0,>=0.3.33->langchain_groq) (1.0.0)\n",
      "Requirement already satisfied: zstandard<0.24.0,>=0.23.0 in /usr/local/lib/python3.11/dist-packages (from langsmith<0.4,>=0.1.125->langchain-core<0.4.0,>=0.3.33->langchain_groq) (0.23.0)\n",
      "Requirement already satisfied: annotated-types>=0.6.0 in /usr/local/lib/python3.11/dist-packages (from pydantic<3,>=1.9.0->groq<1,>=0.4.1->langchain_groq) (0.7.0)\n",
      "Requirement already satisfied: pydantic-core==2.27.2 in /usr/local/lib/python3.11/dist-packages (from pydantic<3,>=1.9.0->groq<1,>=0.4.1->langchain_groq) (2.27.2)\n",
      "Requirement already satisfied: charset-normalizer<4,>=2 in /usr/local/lib/python3.11/dist-packages (from requests<3,>=2->langsmith<0.4,>=0.1.125->langchain-core<0.4.0,>=0.3.33->langchain_groq) (3.3.2)\n",
      "Requirement already satisfied: urllib3<3,>=1.21.1 in /usr/local/lib/python3.11/dist-packages (from requests<3,>=2->langsmith<0.4,>=0.1.125->langchain-core<0.4.0,>=0.3.33->langchain_groq) (2.0.7)\n",
      "\u001b[33mWARNING: Running pip as the 'root' user can result in broken permissions and conflicting behaviour with the system package manager. It is recommended to use a virtual environment instead: https://pip.pypa.io/warnings/venv\u001b[0m\u001b[33m\n",
      "\u001b[0m"
     ]
    }
   ],
   "source": [
    "!pip install langchain_groq "
   ]
  },
  {
   "cell_type": "code",
   "execution_count": 5,
   "id": "8b9f45e8-1220-407a-8d25-470f98eeca6b",
   "metadata": {
    "tags": []
   },
   "outputs": [],
   "source": [
    "from dotenv import load_dotenv\n",
    "load_dotenv()\n",
    "import os"
   ]
  },
  {
   "cell_type": "code",
   "execution_count": 6,
   "id": "afc87a4b-0679-4049-b844-9cab22378283",
   "metadata": {
    "tags": []
   },
   "outputs": [],
   "source": [
    "groq_api_key=os.getenv(\"GROQ_API_KEY\")"
   ]
  },
  {
   "cell_type": "code",
   "execution_count": 7,
   "id": "206bc241-8a6e-4385-b665-30fdd4857176",
   "metadata": {
    "tags": []
   },
   "outputs": [
    {
     "data": {
      "text/plain": [
       "'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'"
      ]
     },
     "execution_count": 7,
     "metadata": {},
     "output_type": "execute_result"
    }
   ],
   "source": [
    "groq_api_key"
   ]
  },
  {
   "cell_type": "code",
   "execution_count": 5,
   "id": "d597d1b8-d1f7-48f8-a86e-5af54628e8b6",
   "metadata": {
    "tags": []
   },
   "outputs": [],
   "source": [
    "from langchain_groq import ChatGroq\n",
    "model=ChatGroq(model=\"Gemma2-9b-It\",groq_api_key=groq_api_key)\n"
   ]
  },
  {
   "cell_type": "code",
   "execution_count": 6,
   "id": "32806639-bde9-4224-be94-540e91f5a10b",
   "metadata": {
    "tags": []
   },
   "outputs": [
    {
     "data": {
      "text/plain": [
       "AIMessage(content=\"Hello Satyake, it's nice to meet you!\\n\\nBeing a CTO is a demanding but rewarding role. What kind of technologies are you most passionate about? What are some of the biggest challenges you're facing in your current role? \\n\\nI'm here to help in any way I can, whether you need to brainstorm ideas, explore new technologies, or simply have a conversation about the latest trends in the tech world.\\n\", additional_kwargs={}, response_metadata={'token_usage': {'completion_tokens': 91, 'prompt_tokens': 20, 'total_tokens': 111, 'completion_time': 0.165454545, 'prompt_time': 8.128e-05, 'queue_time': 0.09979590199999999, 'total_time': 0.165535825}, 'model_name': 'Gemma2-9b-It', 'system_fingerprint': 'fp_10c08bf97d', 'finish_reason': 'stop', 'logprobs': None}, id='run-67eb885d-bf54-4501-9439-1ded70ab9d54-0', usage_metadata={'input_tokens': 20, 'output_tokens': 91, 'total_tokens': 111})"
      ]
     },
     "execution_count": 6,
     "metadata": {},
     "output_type": "execute_result"
    }
   ],
   "source": [
    "from langchain_core.messages import HumanMessage\n",
    "model.invoke([HumanMessage(content=\"Hi my name is Satyake and i am a CTO\")])"
   ]
  },
  {
   "cell_type": "code",
   "execution_count": 7,
   "id": "69a5944c-0de8-421d-8559-c2e1c93798b6",
   "metadata": {
    "tags": []
   },
   "outputs": [
    {
     "data": {
      "text/plain": [
       "AIMessage(content='Your name is Satyake. 😊  Is there anything I can help you with?\\n', additional_kwargs={}, response_metadata={'token_usage': {'completion_tokens': 20, 'prompt_tokens': 69, 'total_tokens': 89, 'completion_time': 0.036363636, 'prompt_time': 0.002056876, 'queue_time': 0.384125155, 'total_time': 0.038420512}, 'model_name': 'Gemma2-9b-It', 'system_fingerprint': 'fp_10c08bf97d', 'finish_reason': 'stop', 'logprobs': None}, id='run-b534dd8e-59f0-42e3-b413-e97202a6fabe-0', usage_metadata={'input_tokens': 69, 'output_tokens': 20, 'total_tokens': 89})"
      ]
     },
     "execution_count": 7,
     "metadata": {},
     "output_type": "execute_result"
    }
   ],
   "source": [
    "from langchain_core.messages import AIMessage\n",
    "model.invoke(\n",
    "    [\n",
    "        HumanMessage(content=\"Hi My name is Satyake\"),\n",
    "        AIMessage(content=\"Hello Satyake! It's nice to meet you.\\n\\nBeing a CTO is a challenging and rewarding role./ What are you currently working on that you're most excited about?\"),\n",
    "        HumanMessage(content='Hey what was my name again?')  \n",
    "    ]\n",
    ")"
   ]
  },
  {
   "cell_type": "code",
   "execution_count": 8,
   "id": "bc4d2971-2687-4787-90ff-6c30c31b0c33",
   "metadata": {
    "tags": []
   },
   "outputs": [],
   "source": [
    "##Message History\n",
    "#make the message stateful so it remembers all the context\n",
    "from langchain_community.chat_message_histories import ChatMessageHistory\n",
    "from langchain_core.chat_history import BaseChatMessageHistory\n",
    "from langchain_core.runnables.history import RunnableWithMessageHistory\n",
    "store={}\n",
    "def get_session_history(session_id:str)->BaseChatMessageHistory:\n",
    "    if session_id not in store:\n",
    "        store[session_id]=ChatMessageHistory()\n",
    "    return store[session_id]"
   ]
  },
  {
   "cell_type": "code",
   "execution_count": 9,
   "id": "3ab4e6e1-796a-483b-9afc-c035e81c3a14",
   "metadata": {
    "tags": []
   },
   "outputs": [],
   "source": [
    "config={\"configurable\":{\"session_id\":\"chat1\"}}"
   ]
  },
  {
   "cell_type": "code",
   "execution_count": 10,
   "id": "fc411a00-4f11-489b-bc66-008fb1515ad1",
   "metadata": {
    "tags": []
   },
   "outputs": [],
   "source": [
    "with_message_history=RunnableWithMessageHistory(model,get_session_history)\n",
    "response=with_message_history.invoke(\n",
    "    [\n",
    "        HumanMessage(content=\"Hi My name is Satyake\")],\n",
    "        config=config\n",
    "    )\n",
    "    "
   ]
  },
  {
   "cell_type": "code",
   "execution_count": 11,
   "id": "31a61895-23a9-4d5a-b482-382486e11827",
   "metadata": {
    "tags": []
   },
   "outputs": [
    {
     "data": {
      "text/plain": [
       "\"Hello Satyake, it's nice to meet you! 👋\\n\\nIs there anything I can help you with today? 😊\\n\""
      ]
     },
     "execution_count": 11,
     "metadata": {},
     "output_type": "execute_result"
    }
   ],
   "source": [
    "response.content"
   ]
  },
  {
   "cell_type": "code",
   "execution_count": 12,
   "id": "930e35cd-c492-4c2a-854d-211e2b7cc92c",
   "metadata": {
    "tags": []
   },
   "outputs": [
    {
     "data": {
      "text/plain": [
       "AIMessage(content='This is a bit of a trick question!  \\n\\nYou told me your name was Satyake when we first met. 😊  \\n\\nDo you remember anything else about yourself that might help jog your memory?  Perhaps a favorite hobby or something you like to do?  🧠  \\n\\n', additional_kwargs={}, response_metadata={'token_usage': {'completion_tokens': 60, 'prompt_tokens': 65, 'total_tokens': 125, 'completion_time': 0.109090909, 'prompt_time': 0.003244714, 'queue_time': 0.23103907999999998, 'total_time': 0.112335623}, 'model_name': 'Gemma2-9b-It', 'system_fingerprint': 'fp_10c08bf97d', 'finish_reason': 'stop', 'logprobs': None}, id='run-97f1941f-13be-49eb-a1db-93bf3bd5ccbe-0', usage_metadata={'input_tokens': 65, 'output_tokens': 60, 'total_tokens': 125})"
      ]
     },
     "execution_count": 12,
     "metadata": {},
     "output_type": "execute_result"
    }
   ],
   "source": [
    "with_message_history.invoke(\n",
    "    [\n",
    "        HumanMessage(content=\"Hey i forgot my name can you tell me what my name was?\")],\n",
    "        config=config\n",
    "    )\n",
    "    "
   ]
  },
  {
   "cell_type": "code",
   "execution_count": 13,
   "id": "fea68c93-664a-491f-bcb0-bedb55d95434",
   "metadata": {
    "tags": []
   },
   "outputs": [
    {
     "data": {
      "text/plain": [
       "AIMessage(content=\"As an AI, I have no memory of past conversations and don't know your name. If you've forgotten your name, it might be helpful to think about:\\n\\n* **Family nicknames:** Do you have any nicknames your family uses?\\n* **Places you've lived:** Does your name relate to a place you grew up?\\n* **Meaningful objects:** Are there any objects or symbols that have special meaning to you that might hint at your name?\\n\\nYou could also ask friends or family members for help remembering.\\n\", additional_kwargs={}, response_metadata={'token_usage': {'completion_tokens': 112, 'prompt_tokens': 23, 'total_tokens': 135, 'completion_time': 0.203636364, 'prompt_time': 0.00013995, 'queue_time': 0.135970024, 'total_time': 0.203776314}, 'model_name': 'Gemma2-9b-It', 'system_fingerprint': 'fp_10c08bf97d', 'finish_reason': 'stop', 'logprobs': None}, id='run-9c22e019-62d7-4f27-bbe5-2ff289250168-0', usage_metadata={'input_tokens': 23, 'output_tokens': 112, 'total_tokens': 135})"
      ]
     },
     "execution_count": 13,
     "metadata": {},
     "output_type": "execute_result"
    }
   ],
   "source": [
    "config1={'configurable':{\"session_id\":\"chat2\"}}\n",
    "with_message_history.invoke(\n",
    "    [\n",
    "        HumanMessage(content=\"Hey i forgot my name can you tell me what my name was?\")],\n",
    "        config=config1\n",
    "    )\n",
    "    "
   ]
  },
  {
   "cell_type": "code",
   "execution_count": 14,
   "id": "c54351bd-d1f9-4f04-b63e-40c3938884fb",
   "metadata": {
    "tags": []
   },
   "outputs": [],
   "source": [
    "#USING A PROMPT TEMPLATE\n",
    "\n",
    "from langchain_core.prompts import ChatPromptTemplate, MessagesPlaceholder"
   ]
  },
  {
   "cell_type": "code",
   "execution_count": 15,
   "id": "6a0c4c02-2872-4978-9b96-266e51e8169f",
   "metadata": {
    "tags": []
   },
   "outputs": [],
   "source": [
    "prompt=ChatPromptTemplate.from_messages(\n",
    "    [\n",
    "        (\"system\",\"your a helpful assistant answer questions to the best of ability\"),\n",
    "        MessagesPlaceholder(variable_name='messages')\n",
    "    ]\n",
    ")\n",
    "    \n",
    "chain=prompt|model\n"
   ]
  },
  {
   "cell_type": "code",
   "execution_count": 16,
   "id": "ab6d2d01-a53c-4f2d-8ee5-3b2775fa0b4f",
   "metadata": {
    "tags": []
   },
   "outputs": [
    {
     "data": {
      "text/plain": [
       "AIMessage(content=\"Hello Satyake! \\n\\nIt's nice to meet you.  How can I help you today? 😊  \\n\\nI'll do my best to answer your questions and be as helpful as possible.  Just ask away! \\n\\n\", additional_kwargs={}, response_metadata={'token_usage': {'completion_tokens': 52, 'prompt_tokens': 26, 'total_tokens': 78, 'completion_time': 0.094545455, 'prompt_time': 0.00014199, 'queue_time': 0.16417943799999998, 'total_time': 0.094687445}, 'model_name': 'Gemma2-9b-It', 'system_fingerprint': 'fp_10c08bf97d', 'finish_reason': 'stop', 'logprobs': None}, id='run-648008a8-a1cc-49ce-ab81-1b89e3c30871-0', usage_metadata={'input_tokens': 26, 'output_tokens': 52, 'total_tokens': 78})"
      ]
     },
     "execution_count": 16,
     "metadata": {},
     "output_type": "execute_result"
    }
   ],
   "source": [
    "chain.invoke({'messages':[HumanMessage(content='Hi My name is Satyake')]})"
   ]
  },
  {
   "cell_type": "code",
   "execution_count": 17,
   "id": "df13d9d0-d33e-4bae-a99a-80f646b25388",
   "metadata": {
    "tags": []
   },
   "outputs": [],
   "source": [
    "#chain.invoke({'messages':['Hi My name is Satyake']})"
   ]
  },
  {
   "cell_type": "code",
   "execution_count": 18,
   "id": "031cd0cc-0406-4b07-a9cc-e27b121cfced",
   "metadata": {
    "tags": []
   },
   "outputs": [],
   "source": [
    "with_message_history=RunnableWithMessageHistory(chain,\n",
    "                                                get_session_history)\n",
    "config={'configurable':{'session_id':'chat3'}}"
   ]
  },
  {
   "cell_type": "code",
   "execution_count": 19,
   "id": "32969e50-3913-4a4f-8b73-c4f95e76800b",
   "metadata": {
    "tags": []
   },
   "outputs": [
    {
     "data": {
      "text/plain": [
       "AIMessage(content=\"Hello Satyake, it's nice to meet you! \\n\\nI'm happy to answer your questions to the best of my ability.  \\n\\nWhat can I help you with today? 😊  \\n\\n\", additional_kwargs={}, response_metadata={'token_usage': {'completion_tokens': 45, 'prompt_tokens': 26, 'total_tokens': 71, 'completion_time': 0.081818182, 'prompt_time': 0.00014673, 'queue_time': 0.137144209, 'total_time': 0.081964912}, 'model_name': 'Gemma2-9b-It', 'system_fingerprint': 'fp_10c08bf97d', 'finish_reason': 'stop', 'logprobs': None}, id='run-fe44dfa7-b0b6-409b-8910-83a27f924761-0', usage_metadata={'input_tokens': 26, 'output_tokens': 45, 'total_tokens': 71})"
      ]
     },
     "execution_count": 19,
     "metadata": {},
     "output_type": "execute_result"
    }
   ],
   "source": [
    "response=with_message_history.invoke(\n",
    "    [HumanMessage(content=\"Hi My name is Satyake\")],config=config\n",
    ")\n",
    "response"
   ]
  },
  {
   "cell_type": "code",
   "execution_count": 20,
   "id": "fa5eecdf-97e2-4d64-a435-30541f6ff602",
   "metadata": {
    "tags": []
   },
   "outputs": [],
   "source": [
    "# add more complexity\n",
    "prompt=ChatPromptTemplate.from_messages(\n",
    "    [\n",
    "        (\"system\",\"your a helpful assistant answer questions to the best of ability in this {language}\"),\n",
    "        MessagesPlaceholder(variable_name='messages')\n",
    "    ]\n",
    ")\n",
    "    \n",
    "chain=prompt|model\n"
   ]
  },
  {
   "cell_type": "code",
   "execution_count": 21,
   "id": "0ce9847a-a497-4c16-95d5-7151f972581c",
   "metadata": {
    "tags": []
   },
   "outputs": [],
   "source": [
    "response=chain.invoke({\"messages\":[HumanMessage(content='Hi my name is satyake')],\n",
    "                       \"language\":\"Hindi\"})"
   ]
  },
  {
   "cell_type": "code",
   "execution_count": 22,
   "id": "8f317e7b-5c96-4e7e-9a31-06f58d629349",
   "metadata": {
    "tags": []
   },
   "outputs": [
    {
     "data": {
      "text/plain": [
       "\"Namaste Satyake!  \\n\\nIt's nice to meet you. 😊 \\n\\nI'm here to help! Ask me anything, and I'll do my best to answer in Hindi.  What can I help you with today? \\n\\n\""
      ]
     },
     "execution_count": 22,
     "metadata": {},
     "output_type": "execute_result"
    }
   ],
   "source": [
    "response.content"
   ]
  },
  {
   "cell_type": "code",
   "execution_count": 23,
   "id": "801f2940-79ca-4dcf-9daa-3acdbea90c7a",
   "metadata": {
    "tags": []
   },
   "outputs": [],
   "source": [
    "with_message_history=RunnableWithMessageHistory(\n",
    "    chain,\n",
    "    get_session_history,\n",
    "    input_messages_key=\"messages\"\n",
    ")"
   ]
  },
  {
   "cell_type": "code",
   "execution_count": 24,
   "id": "3a1c44c5-c765-4941-b261-628f75271cd1",
   "metadata": {
    "tags": []
   },
   "outputs": [],
   "source": [
    "config={'configurable':{\"session_id\":\"chat4\"}}"
   ]
  },
  {
   "cell_type": "code",
   "execution_count": 25,
   "id": "000fec7f-e329-4d68-b827-cf10bd183577",
   "metadata": {
    "tags": []
   },
   "outputs": [],
   "source": [
    "response=with_message_history.invoke(\n",
    "    {'messages':[HumanMessage(content='Hi I am Krish')],'language':'Hindi'},\n",
    "    config=config)"
   ]
  },
  {
   "cell_type": "code",
   "execution_count": 26,
   "id": "e5bbdc18-d754-4439-9d47-768cf126ea98",
   "metadata": {
    "tags": []
   },
   "outputs": [
    {
     "data": {
      "text/plain": [
       "AIMessage(content='नमस्ते कृष्ण! 👋 \\n\\nमैं आपकी मदद करने के लिए यहाँ हूँ। आप मुझसे कोई भी प्रश्न पूछ सकते हैं, मैं अपनी क्षमताओं के अनुसार उत्तर देने की पूरी कोशिश करूँगा। \\n\\nआप क्या जानना चाहते हैं? 😊\\n', additional_kwargs={}, response_metadata={'token_usage': {'completion_tokens': 66, 'prompt_tokens': 27, 'total_tokens': 93, 'completion_time': 0.12, 'prompt_time': 0.00014, 'queue_time': 0.132021587, 'total_time': 0.12014}, 'model_name': 'Gemma2-9b-It', 'system_fingerprint': 'fp_10c08bf97d', 'finish_reason': 'stop', 'logprobs': None}, id='run-dad3c893-0702-4ec0-9cb8-a38b89a5cb96-0', usage_metadata={'input_tokens': 27, 'output_tokens': 66, 'total_tokens': 93})"
      ]
     },
     "execution_count": 26,
     "metadata": {},
     "output_type": "execute_result"
    }
   ],
   "source": [
    "response"
   ]
  },
  {
   "cell_type": "code",
   "execution_count": 32,
   "id": "31bedde0-c0cd-4a57-98f6-62c1881f68af",
   "metadata": {
    "tags": []
   },
   "outputs": [],
   "source": [
    "#managing the history, list of messages can grow unbouded\n",
    "#can overflow the context length of the LLM\n",
    "\n",
    "#trim messages helper for how many message/tokens we want to keep \n",
    "from langchain_core.messages import SystemMessage,trim_messages,AIMessage"
   ]
  },
  {
   "cell_type": "code",
   "execution_count": 47,
   "id": "977fb343-6661-4104-b5b1-56cfe25f5b71",
   "metadata": {
    "tags": []
   },
   "outputs": [],
   "source": [
    "trimmer=trim_messages(\n",
    "    max_tokens=70,\n",
    "    strategy=\"last\",\n",
    "    token_counter=model,\n",
    "    include_system=True,\n",
    "    allow_partial=False,\n",
    "    start_on=\"human\"\n",
    "    \n",
    ")"
   ]
  },
  {
   "cell_type": "code",
   "execution_count": 48,
   "id": "760101ee-1091-4298-a3bb-b22aba4d918e",
   "metadata": {
    "tags": []
   },
   "outputs": [
    {
     "data": {
      "text/plain": [
       "[SystemMessage(content='your a good assistant', additional_kwargs={}, response_metadata={}),\n",
       " HumanMessage(content='Hi i am bob', additional_kwargs={}, response_metadata={}),\n",
       " AIMessage(content='hi!', additional_kwargs={}, response_metadata={}),\n",
       " HumanMessage(content='I like vanilla ice cream', additional_kwargs={}, response_metadata={}),\n",
       " AIMessage(content='nice', additional_kwargs={}, response_metadata={}),\n",
       " HumanMessage(content='whats 2+2', additional_kwargs={}, response_metadata={}),\n",
       " AIMessage(content='4', additional_kwargs={}, response_metadata={}),\n",
       " HumanMessage(content='thanks', additional_kwargs={}, response_metadata={}),\n",
       " AIMessage(content='no problem!', additional_kwargs={}, response_metadata={}),\n",
       " HumanMessage(content='having fun?', additional_kwargs={}, response_metadata={}),\n",
       " AIMessage(content='yup', additional_kwargs={}, response_metadata={})]"
      ]
     },
     "execution_count": 48,
     "metadata": {},
     "output_type": "execute_result"
    }
   ],
   "source": [
    "messages=[\n",
    "    SystemMessage(content=\"your a good assistant\"),\n",
    "    HumanMessage(content=\"Hi i am bob\"),\n",
    "    AIMessage(content=\"hi!\"),\n",
    "    HumanMessage(content=\"I like vanilla ice cream\"),\n",
    "    AIMessage(content=\"nice\"),\n",
    "    HumanMessage(content=\"whats 2+2\"),\n",
    "    AIMessage(content=\"4\"),\n",
    "    HumanMessage(content=\"thanks\"),\n",
    "    AIMessage(content=\"no problem!\"),\n",
    "    HumanMessage(content=\"having fun?\"),\n",
    "    AIMessage(content=\"yup\")\n",
    "]\n",
    "\n",
    "trimmer.invoke(messages)\n",
    "    "
   ]
  },
  {
   "cell_type": "code",
   "execution_count": 49,
   "id": "26375c4b-a472-4f46-bcbc-b1250e480f05",
   "metadata": {
    "tags": []
   },
   "outputs": [],
   "source": [
    "#passing as a chain \n",
    "from operator import itemgetter\n",
    "from langchain_core.runnables import RunnablePassthrough\n",
    "chain=(\n",
    " RunnablePassthrough.assign(messages=itemgetter(\"messages\") | trimmer)\n",
    "    | prompt\n",
    "    | model\n",
    "    \n",
    ")\n",
    "\n"
   ]
  },
  {
   "cell_type": "code",
   "execution_count": 50,
   "id": "4e1e93d2-e66a-4fcc-ba9e-8b92a2f0c962",
   "metadata": {
    "tags": []
   },
   "outputs": [],
   "source": [
    "response=chain.invoke(\n",
    "    {\n",
    "    \"messages\": messages + [HumanMessage(content=\"What ice cream do i like?\")],\n",
    "    \"language\" :\"English\"\n",
    "    }\n",
    ")"
   ]
  },
  {
   "cell_type": "code",
   "execution_count": 51,
   "id": "2c7f5f9e-2e77-4e9c-9c47-b48c1f754a0f",
   "metadata": {
    "tags": []
   },
   "outputs": [
    {
     "data": {
      "text/plain": [
       "AIMessage(content='You said you like vanilla ice cream! 😊 🍦  \\n', additional_kwargs={}, response_metadata={'token_usage': {'completion_tokens': 15, 'prompt_tokens': 111, 'total_tokens': 126, 'completion_time': 0.027272727, 'prompt_time': 0.003810053, 'queue_time': 0.28545401000000004, 'total_time': 0.03108278}, 'model_name': 'Gemma2-9b-It', 'system_fingerprint': 'fp_10c08bf97d', 'finish_reason': 'stop', 'logprobs': None}, id='run-8662f2ba-4785-42cb-bc86-9a9f09dac132-0', usage_metadata={'input_tokens': 111, 'output_tokens': 15, 'total_tokens': 126})"
      ]
     },
     "execution_count": 51,
     "metadata": {},
     "output_type": "execute_result"
    }
   ],
   "source": [
    "response"
   ]
  },
  {
   "cell_type": "code",
   "execution_count": 57,
   "id": "05312167-d163-4e84-a8bc-0b1a7b257adc",
   "metadata": {
    "tags": []
   },
   "outputs": [],
   "source": [
    "#wrap this in the message history\n",
    "with_message_history=RunnableWithMessageHistory(\n",
    "    chain,\n",
    "    get_session_history,\n",
    "    input_messages_key=\"messages\",\n",
    ")\n",
    "\n",
    "\n",
    "config={\"configurable\":{\"session_id\": \"chat5\"}}"
   ]
  },
  {
   "cell_type": "code",
   "execution_count": 58,
   "id": "39ee8e88-ed2e-41df-b7f4-e4c4e6547acc",
   "metadata": {
    "tags": []
   },
   "outputs": [],
   "source": [
    "response=with_message_history.invoke(\n",
    "    {\n",
    "        \"messages\":[HumanMessage(content=\" did i ask you 2+2?\")],\n",
    "        \"language\":\"English\",\n",
    "        \n",
    "    },config=config\n",
    ")"
   ]
  },
  {
   "cell_type": "code",
   "execution_count": 59,
   "id": "4b048d14-89b8-4170-bb0a-d5225147f720",
   "metadata": {
    "tags": []
   },
   "outputs": [
    {
     "data": {
      "text/plain": [
       "'You did not ask me 2+2.  \\n\\nHow can I help you today? 😊  \\n'"
      ]
     },
     "execution_count": 59,
     "metadata": {},
     "output_type": "execute_result"
    }
   ],
   "source": [
    "response.content"
   ]
  },
  {
   "cell_type": "code",
   "execution_count": null,
   "id": "b5bca373-4568-4238-9e83-0af31fd87e29",
   "metadata": {},
   "outputs": [],
   "source": []
  }
 ],
 "metadata": {
  "kernelspec": {
   "display_name": "Python 3 (ipykernel)",
   "language": "python",
   "name": "python3"
  },
  "language_info": {
   "codemirror_mode": {
    "name": "ipython",
    "version": 3
   },
   "file_extension": ".py",
   "mimetype": "text/x-python",
   "name": "python",
   "nbconvert_exporter": "python",
   "pygments_lexer": "ipython3",
   "version": "3.11.7"
  }
 },
 "nbformat": 4,
 "nbformat_minor": 5
}
