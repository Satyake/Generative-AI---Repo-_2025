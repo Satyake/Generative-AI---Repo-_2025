{
 "cells": [
  {
   "cell_type": "code",
   "execution_count": 97,
   "id": "f3b536c1-355e-4011-b94f-9a8404bb82f7",
   "metadata": {
    "tags": []
   },
   "outputs": [
    {
     "name": "stdout",
     "output_type": "stream",
     "text": [
      "\u001b[31mERROR: Could not find a version that satisfies the requirement crewai-tools==0.28.8 (from versions: 0.0.1, 0.0.2, 0.0.3, 0.0.5, 0.0.6, 0.0.7, 0.0.9, 0.0.10, 0.0.11, 0.0.12, 0.0.14, 0.0.15, 0.0.16, 0.1.0, 0.1.1, 0.1.2, 0.1.3, 0.1.4, 0.1.5, 0.1.6, 0.1.7, 0.2.0, 0.2.1, 0.2.2, 0.2.3, 0.2.4, 0.2.5, 0.2.6, 0.3.0, 0.4.0, 0.4.1, 0.4.3, 0.4.4, 0.4.5, 0.4.6, 0.4.7, 0.4.8, 0.4.25, 0.4.26, 0.8.0, 0.8.3, 0.12.0, 0.12.1, 0.13.0, 0.13.1, 0.13.2, 0.13.4, 0.14.0, 0.17.0, 0.25.0, 0.25.1, 0.25.2, 0.25.3, 0.25.4, 0.25.5, 0.25.6, 0.25.7, 0.25.8, 0.32.0, 0.32.1, 0.33.0, 0.36.0, 0.37.0, 0.38.0)\u001b[0m\u001b[31m\n",
      "\u001b[0m\u001b[31mERROR: No matching distribution found for crewai-tools==0.28.8\u001b[0m\u001b[31m\n",
      "\u001b[0m"
     ]
    }
   ],
   "source": [
    "!pip -q install crewai  crewai-tools==0.28.8 --ignore-installed blinker"
   ]
  },
  {
   "cell_type": "code",
   "execution_count": 81,
   "id": "13487a9f-7140-4a81-b336-4293495bc03b",
   "metadata": {
    "tags": []
   },
   "outputs": [
    {
     "name": "stdout",
     "output_type": "stream",
     "text": [
      "Overwriting agents.py\n"
     ]
    }
   ],
   "source": [
    "%%writefile agents.py\n",
    "from crewai import Agent\n",
    "from tools import yt_tool\n",
    "from crewai import LLM\n",
    "\n",
    "## Create a senior blog content researcher \n",
    "from dotenv import load_dotenv\n",
    "load_dotenv()\n",
    "import os \n",
    "os.environ['OPENAI_API_KEY']=os.getenv('OPENAI_API_KEY')\n",
    "os.environ['OPENAI_MODEL_NAME']=\"gpt-4.5-preview-2025-02-27\"\n",
    "#os.environ['GROQ_API_KEY']=os.getenv('GROQ_API_KEY')\n",
    "llm = LLM(\n",
    "    model=\"groq/llama-3.3-70b-versatile\",\n",
    "    temperature=0.7\n",
    ")\n",
    "blog_researcher= Agent(\n",
    " role=\"Blog Researcher from Youtube vids\",\n",
    " goal=\"Get the relevant video content for the topic {topic} from YT\",\n",
    " verbose=True,\n",
    " memory=True,\n",
    " backstory=(\n",
    "  \"This agent is an expert in understanding videos in Data Science and ML\"   \n",
    " ),\n",
    " tool=[yt_tool],\n",
    " llm=llm,\n",
    " allow_delegation=True\n",
    "       \n",
    ")\n",
    "\n",
    "\n",
    "## create a write agent \n",
    "blog_writer= Agent(\n",
    " role=\"Blog writer\",\n",
    " goal=\"Narate compiling tech stories about the video {topic} from YT channel\",\n",
    " verbose=True,\n",
    " memory=True,\n",
    " backstory=(\n",
    "  \"Your an expert in crafting blogs\"   \n",
    " ),\n",
    " tool=[yt_tool],\n",
    " llm=llm,\n",
    " allow_delegation=False\n",
    "       \n",
    ")\n"
   ]
  },
  {
   "cell_type": "code",
   "execution_count": 98,
   "id": "9fcc1726-e69b-48de-a998-bbb431aa878b",
   "metadata": {
    "tags": []
   },
   "outputs": [
    {
     "name": "stdout",
     "output_type": "stream",
     "text": [
      "Overwriting tools.py\n"
     ]
    }
   ],
   "source": [
    "%%writefile tools.py\n",
    "\n",
    "from crewai import Agent, Task, Crew\n",
    "from crewai_tools import YoutubeChannelSearchTool\n",
    "\n",
    "yt_tool = YoutubeChannelSearchTool(youtube_channel_handle=\"@krishnaik06\")\n",
    "\n"
   ]
  },
  {
   "cell_type": "code",
   "execution_count": 99,
   "id": "36ffbcaa-c933-481d-86c4-b7096023e7b1",
   "metadata": {
    "tags": []
   },
   "outputs": [
    {
     "name": "stdout",
     "output_type": "stream",
     "text": [
      "Overwriting tasks.py\n"
     ]
    }
   ],
   "source": [
    "%%writefile tasks.py\n",
    "\n",
    "from crewai import Task\n",
    "from tools import yt_tool\n",
    "from agents import blog_writer, blog_researcher\n",
    "\n",
    "#research task \n",
    "research_task=Task(\n",
    "    description=(\"identify the video {topic}\"\n",
    "    \"get detailed description of the video\"\n",
    "                ),\n",
    "    expected_output=\"A comprehensive 3 paragraph long report based on the {topic} of video\",\n",
    "    tools=[yt_tool],\n",
    "    agent=blog_researcher\n",
    ")\n",
    "\n",
    "\n",
    "writing_task=Task(\n",
    "    description=(\"identify the video {topic}\"\n",
    "    \"get detailed description of the video\"\n",
    "                ),\n",
    "    expected_output=\"Summarize the info from the youtube channel on the topic {topic} and create content for blog\",\n",
    "    tools=[yt_tool],\n",
    "    agent=blog_writer,\n",
    "    async_execution=False,\n",
    "    output_file='new-blog-post.md'# as markdown\n",
    ")"
   ]
  },
  {
   "cell_type": "code",
   "execution_count": 100,
   "id": "49234bea-1f17-4eee-8a59-e971d58d9a87",
   "metadata": {
    "tags": []
   },
   "outputs": [
    {
     "data": {
      "text/plain": [
       "True"
      ]
     },
     "execution_count": 100,
     "metadata": {},
     "output_type": "execute_result"
    }
   ],
   "source": [
    "import os\n",
    "from dotenv import load_dotenv\n",
    "load_dotenv()"
   ]
  },
  {
   "cell_type": "code",
   "execution_count": 101,
   "id": "2b677db1-6ddb-4815-8266-39ea5688a71f",
   "metadata": {
    "tags": []
   },
   "outputs": [
    {
     "name": "stdout",
     "output_type": "stream",
     "text": [
      "Overwriting crew.py\n"
     ]
    }
   ],
   "source": [
    "%%writefile crew.py\n",
    "from crewai import Crew, Process\n",
    "from agents import blog_writer, blog_researcher\n",
    "from tasks import research_task,writing_task\n",
    "\n",
    "crew=Crew(\n",
    "    agents=[blog_researcher, blog_writer],\n",
    "    tasks=[research_task, writing_task],\n",
    "    process=Process.sequential,\n",
    "    memory=True,\n",
    "    cache=True,\n",
    "    share_crew=True,\n",
    "    max_rpm=100\n",
    ")\n",
    "\n",
    "#task execution with enchanced feedback\n",
    "\n",
    "result=crew.kickoff(inputs={'topic':'AI VS ML vs Data Science'})\n",
    "#result = crew.kickoff(inputs={\"youtube_channel_handle\": \"@exampleChannel\"})\n",
    "\n",
    "print(result)\n"
   ]
  },
  {
   "cell_type": "code",
   "execution_count": null,
   "id": "97b91218-461e-495f-9ffa-a95bbe9a8510",
   "metadata": {
    "tags": []
   },
   "outputs": [],
   "source": [
    "!python crew.py"
   ]
  },
  {
   "cell_type": "code",
   "execution_count": null,
   "id": "1d9c1a32-7119-4a7e-82e1-b6da0d2c1b9a",
   "metadata": {},
   "outputs": [],
   "source": []
  },
  {
   "cell_type": "code",
   "execution_count": null,
   "id": "7d3b5a66-323f-46c6-968b-80a48653493f",
   "metadata": {},
   "outputs": [],
   "source": []
  }
 ],
 "metadata": {
  "kernelspec": {
   "display_name": "Python 3 (ipykernel)",
   "language": "python",
   "name": "python3"
  },
  "language_info": {
   "codemirror_mode": {
    "name": "ipython",
    "version": 3
   },
   "file_extension": ".py",
   "mimetype": "text/x-python",
   "name": "python",
   "nbconvert_exporter": "python",
   "pygments_lexer": "ipython3",
   "version": "3.11.7"
  }
 },
 "nbformat": 4,
 "nbformat_minor": 5
}
