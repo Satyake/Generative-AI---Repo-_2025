{
 "cells": [
  {
   "cell_type": "code",
   "execution_count": null,
   "id": "dce80c8c-a415-4f2e-9013-832328f7c3ca",
   "metadata": {
    "tags": []
   },
   "outputs": [],
   "source": []
  },
  {
   "cell_type": "code",
   "execution_count": 1,
   "id": "b107a6a1-c4fd-4a57-a02e-bfae47d9d048",
   "metadata": {
    "tags": []
   },
   "outputs": [
    {
     "name": "stdout",
     "output_type": "stream",
     "text": [
      "\u001b[31mERROR: pip's dependency resolver does not currently take into account all the packages that are installed. This behaviour is the source of the following dependency conflicts.\n",
      "deepspeed 0.10.3 requires pydantic<2.0.0, but you have pydantic 2.11.1 which is incompatible.\n",
      "gradient 2.0.6 requires attrs<=19, but you have attrs 23.1.0 which is incompatible.\n",
      "gradient 2.0.6 requires PyYAML==5.*, but you have pyyaml 6.0.2 which is incompatible.\n",
      "wandb 0.15.10 requires protobuf!=4.21.0,<5,>=3.19.0; python_version > \"3.9\" and sys_platform == \"linux\", but you have protobuf 5.29.4 which is incompatible.\n",
      "tensorflow 2.15.0 requires protobuf!=4.21.0,!=4.21.1,!=4.21.2,!=4.21.3,!=4.21.4,!=4.21.5,<5.0.0dev,>=3.20.3, but you have protobuf 5.29.4 which is incompatible.\n",
      "tensorboard 2.15.1 requires protobuf<4.24,>=3.19.6, but you have protobuf 5.29.4 which is incompatible.\u001b[0m\u001b[31m\n",
      "\u001b[0m\u001b[33mWARNING: Running pip as the 'root' user can result in broken permissions and conflicting behaviour with the system package manager. It is recommended to use a virtual environment instead: https://pip.pypa.io/warnings/venv\u001b[0m\u001b[33m\n",
      "\u001b[0m"
     ]
    }
   ],
   "source": [
    "!pip -q install langchain_core langchain_chroma langchain langchain_groq"
   ]
  },
  {
   "cell_type": "code",
   "execution_count": 2,
   "id": "06d881d0-e4f5-4929-b114-4aa45416617c",
   "metadata": {
    "tags": []
   },
   "outputs": [
    {
     "name": "stdout",
     "output_type": "stream",
     "text": [
      "\u001b[33mWARNING: Running pip as the 'root' user can result in broken permissions and conflicting behaviour with the system package manager. It is recommended to use a virtual environment instead: https://pip.pypa.io/warnings/venv\u001b[0m\u001b[33m\n",
      "\u001b[0m"
     ]
    }
   ],
   "source": [
    "!pip -q install -U langchain-chroma"
   ]
  },
  {
   "cell_type": "code",
   "execution_count": 3,
   "id": "3a460427-28e1-47ea-9014-515a1417dd83",
   "metadata": {
    "tags": []
   },
   "outputs": [],
   "source": [
    "from langchain_core.documents import Document\n",
    "documents=[\n",
    "    Document(\n",
    "        page_content=\"Dogs are great companions\",\n",
    "        metadata={\"source\":\"mamal-pets-doc\"}),\n",
    "      Document(\n",
    "        page_content=\"Cats are great companions\",\n",
    "        metadata={\"source\":\"mamal-pets-cat-doc\"})\n",
    "    \n",
    "]"
   ]
  },
  {
   "cell_type": "code",
   "execution_count": 4,
   "id": "7d90aaaf-5029-4efe-b000-418685cb1406",
   "metadata": {
    "tags": []
   },
   "outputs": [
    {
     "data": {
      "text/plain": [
       "[Document(metadata={'source': 'mamal-pets-doc'}, page_content='Dogs are great companions'),\n",
       " Document(metadata={'source': 'mamal-pets-cat-doc'}, page_content='Cats are great companions')]"
      ]
     },
     "execution_count": 4,
     "metadata": {},
     "output_type": "execute_result"
    }
   ],
   "source": [
    "documents"
   ]
  },
  {
   "cell_type": "code",
   "execution_count": 6,
   "id": "ef6b16dc-e012-4b11-8fd8-d34a6c9d6acb",
   "metadata": {
    "tags": []
   },
   "outputs": [],
   "source": [
    "##vectorstores\n",
    "from langchain_chroma import Chroma\n",
    "import os\n",
    "from langchain_groq import ChatGroq\n",
    "from dotenv import load_dotenv\n",
    "load_dotenv()\n",
    "os.environ['HF_TOKEN']=os.getenv('HF_TOKEN')\n",
    "os.environ['GROQ_API_KEY']=os.getenv('GROQ_API_KEY')\n",
    "llm=ChatGroq(model=\"Llama3-8b-8192\")"
   ]
  },
  {
   "cell_type": "code",
   "execution_count": 7,
   "id": "f6c519be-51d1-4a43-b4af-e7db4363f626",
   "metadata": {
    "tags": []
   },
   "outputs": [
    {
     "name": "stdout",
     "output_type": "stream",
     "text": [
      "\u001b[33mWARNING: Running pip as the 'root' user can result in broken permissions and conflicting behaviour with the system package manager. It is recommended to use a virtual environment instead: https://pip.pypa.io/warnings/venv\u001b[0m\u001b[33m\n",
      "\u001b[0m"
     ]
    }
   ],
   "source": [
    "!pip -q install langchain_huggingface"
   ]
  },
  {
   "cell_type": "code",
   "execution_count": 9,
   "id": "d899659e-3c17-4530-a1b4-a3f9f1936302",
   "metadata": {
    "tags": []
   },
   "outputs": [
    {
     "data": {
      "application/vnd.jupyter.widget-view+json": {
       "model_id": "c040ff9bf3ca4c93bda4022a3e060dd6",
       "version_major": 2,
       "version_minor": 0
      },
      "text/plain": [
       "model.safetensors:   0%|          | 0.00/90.9M [00:00<?, ?B/s]"
      ]
     },
     "metadata": {},
     "output_type": "display_data"
    },
    {
     "data": {
      "application/vnd.jupyter.widget-view+json": {
       "model_id": "1aecc7abeda94f958a5e1135fb3c47d1",
       "version_major": 2,
       "version_minor": 0
      },
      "text/plain": [
       "tokenizer_config.json:   0%|          | 0.00/350 [00:00<?, ?B/s]"
      ]
     },
     "metadata": {},
     "output_type": "display_data"
    },
    {
     "data": {
      "application/vnd.jupyter.widget-view+json": {
       "model_id": "ef5ff35dbb2848c4915a570a56944880",
       "version_major": 2,
       "version_minor": 0
      },
      "text/plain": [
       "vocab.txt:   0%|          | 0.00/232k [00:00<?, ?B/s]"
      ]
     },
     "metadata": {},
     "output_type": "display_data"
    },
    {
     "data": {
      "application/vnd.jupyter.widget-view+json": {
       "model_id": "9e1ab0304d7145ff90600eb0d4e6d3c9",
       "version_major": 2,
       "version_minor": 0
      },
      "text/plain": [
       "tokenizer.json:   0%|          | 0.00/466k [00:00<?, ?B/s]"
      ]
     },
     "metadata": {},
     "output_type": "display_data"
    },
    {
     "data": {
      "application/vnd.jupyter.widget-view+json": {
       "model_id": "ebc447bdd0854b4c9d952ad638188495",
       "version_major": 2,
       "version_minor": 0
      },
      "text/plain": [
       "special_tokens_map.json:   0%|          | 0.00/112 [00:00<?, ?B/s]"
      ]
     },
     "metadata": {},
     "output_type": "display_data"
    },
    {
     "data": {
      "application/vnd.jupyter.widget-view+json": {
       "model_id": "b5a659b87cce4bd7a75a234a9412d0cb",
       "version_major": 2,
       "version_minor": 0
      },
      "text/plain": [
       "1_Pooling%2Fconfig.json:   0%|          | 0.00/190 [00:00<?, ?B/s]"
      ]
     },
     "metadata": {},
     "output_type": "display_data"
    }
   ],
   "source": [
    "from langchain_huggingface import HuggingFaceEmbeddings\n",
    "embeddings=HuggingFaceEmbeddings(model_name=\"all-MiniLM-L6-v2\")"
   ]
  },
  {
   "cell_type": "code",
   "execution_count": 10,
   "id": "7568d908-a045-4ad9-aa2f-b46f45bf8acf",
   "metadata": {
    "tags": []
   },
   "outputs": [],
   "source": [
    "vectorstore=Chroma.from_documents(documents, embeddings)"
   ]
  },
  {
   "cell_type": "code",
   "execution_count": 11,
   "id": "0b0cca57-59c9-4686-b879-ce323ebc3d67",
   "metadata": {
    "tags": []
   },
   "outputs": [
    {
     "data": {
      "text/plain": [
       "<langchain_chroma.vectorstores.Chroma at 0x7f6f7bde3b50>"
      ]
     },
     "execution_count": 11,
     "metadata": {},
     "output_type": "execute_result"
    }
   ],
   "source": [
    "vectorstore"
   ]
  },
  {
   "cell_type": "code",
   "execution_count": 12,
   "id": "e84c26d6-6431-4c5f-95be-c84bc0a08ba7",
   "metadata": {
    "tags": []
   },
   "outputs": [
    {
     "name": "stderr",
     "output_type": "stream",
     "text": [
      "Number of requested results 4 is greater than number of elements in index 2, updating n_results = 2\n"
     ]
    },
    {
     "data": {
      "text/plain": [
       "[Document(id='76b10324-33a8-4018-95ff-9f5afc37ef4d', metadata={'source': 'mamal-pets-cat-doc'}, page_content='Cats are great companions'),\n",
       " Document(id='5950f30c-62a2-4501-934f-d7a4bf1f04a0', metadata={'source': 'mamal-pets-doc'}, page_content='Dogs are great companions')]"
      ]
     },
     "execution_count": 12,
     "metadata": {},
     "output_type": "execute_result"
    }
   ],
   "source": [
    "vectorstore.similarity_search(\"cat\")"
   ]
  },
  {
   "cell_type": "code",
   "execution_count": 14,
   "id": "34acce58-aa94-4873-b54b-0a27de364f98",
   "metadata": {
    "tags": []
   },
   "outputs": [
    {
     "name": "stderr",
     "output_type": "stream",
     "text": [
      "Number of requested results 4 is greater than number of elements in index 2, updating n_results = 2\n"
     ]
    },
    {
     "data": {
      "text/plain": [
       "[Document(id='76b10324-33a8-4018-95ff-9f5afc37ef4d', metadata={'source': 'mamal-pets-cat-doc'}, page_content='Cats are great companions'),\n",
       " Document(id='5950f30c-62a2-4501-934f-d7a4bf1f04a0', metadata={'source': 'mamal-pets-doc'}, page_content='Dogs are great companions')]"
      ]
     },
     "execution_count": 14,
     "metadata": {},
     "output_type": "execute_result"
    }
   ],
   "source": [
    "#Async query\n",
    "await vectorstore.asimilarity_search(\"cat\")"
   ]
  },
  {
   "cell_type": "code",
   "execution_count": 16,
   "id": "a68a9909-f40c-4a22-b4e7-fdd35e2e78df",
   "metadata": {
    "tags": []
   },
   "outputs": [
    {
     "name": "stderr",
     "output_type": "stream",
     "text": [
      "Number of requested results 4 is greater than number of elements in index 2, updating n_results = 2\n"
     ]
    },
    {
     "data": {
      "text/plain": [
       "[(Document(id='5950f30c-62a2-4501-934f-d7a4bf1f04a0', metadata={'source': 'mamal-pets-doc'}, page_content='Dogs are great companions'),\n",
       "  0.9212460517883301),\n",
       " (Document(id='76b10324-33a8-4018-95ff-9f5afc37ef4d', metadata={'source': 'mamal-pets-cat-doc'}, page_content='Cats are great companions'),\n",
       "  1.3184987306594849)]"
      ]
     },
     "execution_count": 16,
     "metadata": {},
     "output_type": "execute_result"
    }
   ],
   "source": [
    "vectorstore.similarity_search_with_score(\"dog\")"
   ]
  },
  {
   "cell_type": "code",
   "execution_count": 27,
   "id": "81518590-ef8a-4b33-acb7-b096aaa602c1",
   "metadata": {
    "tags": []
   },
   "outputs": [
    {
     "data": {
      "text/plain": [
       "[[Document(id='76b10324-33a8-4018-95ff-9f5afc37ef4d', metadata={'source': 'mamal-pets-cat-doc'}, page_content='Cats are great companions')],\n",
       " [Document(id='5950f30c-62a2-4501-934f-d7a4bf1f04a0', metadata={'source': 'mamal-pets-doc'}, page_content='Dogs are great companions')]]"
      ]
     },
     "execution_count": 27,
     "metadata": {},
     "output_type": "execute_result"
    }
   ],
   "source": [
    "## Retrievers\n",
    "from typing import List\n",
    "from langchain_core.documents import Document\n",
    "from langchain_core.runnables import RunnableLambda\n",
    "retriever=RunnableLambda(vectorstore.similarity_search).bind(k=1)\n",
    "retriever.batch([\"cat\",\"dog\"])"
   ]
  },
  {
   "cell_type": "code",
   "execution_count": 29,
   "id": "1fd611af-f3cb-4a8c-b727-1e423fb742dc",
   "metadata": {
    "tags": []
   },
   "outputs": [],
   "source": [
    "retriever=vectorstore.as_retriever(\n",
    "search_type=\"similarity\",\n",
    "    search_kwargs={\"k\":1}\n",
    ")\n"
   ]
  },
  {
   "cell_type": "code",
   "execution_count": 30,
   "id": "ca579527-500e-4f3b-9bb4-3c51826b717b",
   "metadata": {
    "tags": []
   },
   "outputs": [
    {
     "data": {
      "text/plain": [
       "[[Document(id='76b10324-33a8-4018-95ff-9f5afc37ef4d', metadata={'source': 'mamal-pets-cat-doc'}, page_content='Cats are great companions')],\n",
       " [Document(id='5950f30c-62a2-4501-934f-d7a4bf1f04a0', metadata={'source': 'mamal-pets-doc'}, page_content='Dogs are great companions')]]"
      ]
     },
     "execution_count": 30,
     "metadata": {},
     "output_type": "execute_result"
    }
   ],
   "source": [
    "retriever.batch(['cat','dog'])"
   ]
  },
  {
   "cell_type": "code",
   "execution_count": 31,
   "id": "11ab4ea1-fa7b-40b4-9926-09c98c14cce3",
   "metadata": {
    "tags": []
   },
   "outputs": [],
   "source": [
    "from langchain_core.prompts import ChatPromptTemplate\n",
    "from langchain_core.runnables import RunnablePassthrough"
   ]
  },
  {
   "cell_type": "code",
   "execution_count": 35,
   "id": "526cbdf6-3128-4f75-9aed-aa8f4deb0397",
   "metadata": {
    "tags": []
   },
   "outputs": [],
   "source": [
    "message=\"\"\" Answer this question using provided context\n",
    "{question}\n",
    "Context:\n",
    "{context}\n",
    "\"\"\"\n",
    "prompt=ChatPromptTemplate.from_messages([('human',message)])\n",
    "\n",
    "rag_chain={'context':retriever,'question':RunnablePassthrough()} | prompt | llm"
   ]
  },
  {
   "cell_type": "code",
   "execution_count": null,
   "id": "d6ee1a1d-3014-49be-8796-dc6ee76a8a02",
   "metadata": {
    "tags": []
   },
   "outputs": [],
   "source": [
    "response=rag_chain.invoke(\"Hey tell me about dogs?\")"
   ]
  },
  {
   "cell_type": "code",
   "execution_count": null,
   "id": "019e1b99-f57e-49d6-aa11-b0084b52acb4",
   "metadata": {},
   "outputs": [],
   "source": []
  }
 ],
 "metadata": {
  "kernelspec": {
   "display_name": "Python 3 (ipykernel)",
   "language": "python",
   "name": "python3"
  },
  "language_info": {
   "codemirror_mode": {
    "name": "ipython",
    "version": 3
   },
   "file_extension": ".py",
   "mimetype": "text/x-python",
   "name": "python",
   "nbconvert_exporter": "python",
   "pygments_lexer": "ipython3",
   "version": "3.11.7"
  }
 },
 "nbformat": 4,
 "nbformat_minor": 5
}
