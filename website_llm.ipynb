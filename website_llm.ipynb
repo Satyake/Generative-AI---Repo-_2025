{
 "cells": [
  {
   "cell_type": "code",
   "execution_count": 1,
   "id": "dab43151-f75e-4c55-a82d-4e0bf7bf40df",
   "metadata": {
    "tags": []
   },
   "outputs": [],
   "source": [
    "link='https://borrowell.com/?msclkid=7db7376a9d6e1045e14650cc9356e94b'"
   ]
  },
  {
   "cell_type": "code",
   "execution_count": 42,
   "id": "9e252689-d4fc-41f3-9bda-197adfa8de2d",
   "metadata": {
    "tags": []
   },
   "outputs": [
    {
     "name": "stdout",
     "output_type": "stream",
     "text": [
      "\u001b[33mWARNING: Running pip as the 'root' user can result in broken permissions and conflicting behaviour with the system package manager. It is recommended to use a virtual environment instead: https://pip.pypa.io/warnings/venv\u001b[0m\u001b[33m\n",
      "\u001b[0m"
     ]
    }
   ],
   "source": [
    "!pip install -q langchain-openai chromadb langchain langchain_core beautifulsoup4 langchain_community faiss-cpu"
   ]
  },
  {
   "cell_type": "code",
   "execution_count": 3,
   "id": "cf2a27b7-72cb-457d-ab2b-6abe80ef88d5",
   "metadata": {
    "tags": []
   },
   "outputs": [
    {
     "data": {
      "text/plain": [
       "True"
      ]
     },
     "execution_count": 3,
     "metadata": {},
     "output_type": "execute_result"
    }
   ],
   "source": [
    "import os \n",
    "from dotenv import load_dotenv\n",
    "load_dotenv()"
   ]
  },
  {
   "cell_type": "code",
   "execution_count": 4,
   "id": "0a1a1cf9-08ed-4c49-918f-d3e395b75888",
   "metadata": {
    "tags": []
   },
   "outputs": [],
   "source": [
    "os.environ['OPENAI_API_KEY']=os.getenv(\"OPENAI_API_KEY\")\n",
    "os.environ[\"LANGCHAIN_API_KEY\"]=os.getenv(\"LANGCHAIN_API_KEY\")\n",
    "os.environ['LANGCHAIN_TRACING_V2']=\"true\"\n",
    "os.environ['LANGCHAIN_PROJECT']=os.getenv('LANGCHAIN_PROJECT')"
   ]
  },
  {
   "cell_type": "code",
   "execution_count": 1,
   "id": "46af2ebe-b015-434d-a4f2-82e52e82697c",
   "metadata": {
    "tags": []
   },
   "outputs": [
    {
     "name": "stderr",
     "output_type": "stream",
     "text": [
      "USER_AGENT environment variable not set, consider setting it to identify your requests.\n"
     ]
    }
   ],
   "source": [
    "#Data Ingestion \n",
    "from langchain_community.document_loaders import WebBaseLoader"
   ]
  },
  {
   "cell_type": "code",
   "execution_count": 11,
   "id": "42b7edf0-1699-476a-9312-593630e279d0",
   "metadata": {
    "tags": []
   },
   "outputs": [],
   "source": [
    "loader=WebBaseLoader(link)"
   ]
  },
  {
   "cell_type": "code",
   "execution_count": 12,
   "id": "a6d02682-9f56-4655-822f-670c18b58af3",
   "metadata": {
    "tags": []
   },
   "outputs": [
    {
     "data": {
      "text/plain": [
       "<langchain_community.document_loaders.web_base.WebBaseLoader at 0x7f5eaa8bd890>"
      ]
     },
     "execution_count": 12,
     "metadata": {},
     "output_type": "execute_result"
    }
   ],
   "source": [
    "loader"
   ]
  },
  {
   "cell_type": "code",
   "execution_count": 14,
   "id": "88d2dddd-35b3-4de2-b3e7-16b02d2e2a96",
   "metadata": {
    "tags": []
   },
   "outputs": [
    {
     "name": "stdout",
     "output_type": "stream",
     "text": [
      "[Document(metadata={'source': 'https://borrowell.com/?msclkid=7db7376a9d6e1045e14650cc9356e94b', 'title': 'Credit Report & Credit Score Canada | Borrowell™', 'description': \"1 in 10 Canadians use Borrowell to monitor their credit. No credit card or SIN needed. We're the only free credit score app made in Canada.\", 'language': 'en'}, page_content=\"Credit Report & Credit Score Canada | Borrowell™Log InMenuLog InSign UpFree Credit ScoreRent AdvantageCredit BuilderCredit CardsPersonal LoansMortgagesBankingInsuranceBlogStart With Your Free Credit ReportJoin 3 million members and access your free credit score. Get personalized tips, tools and offers that fit your profile and help you meet your financial goals.Sign Up for Free3 million happy Borrowell members.Borrowell is proudly Canadian and was first to offer free credit scores in Canada.Top 5 Reasons Why Canadians Love BorrowellAs Canada's leading credit education company we offer more than just free credit scores!Free weekly credit score and report monitoring.Bank level security with 256-bit encryption.Personalized financial product recommendations.Free credit improvement tips and education.Checking your score with Borrowell won't hurt it!3 Million Canadians Trust BorrowellCourtney M.FacebookLove this! I was a little skeptical at first but it tells you who you still owe and how much. Currently using this to view my credit and pay off what I owe.Andrea B.GoogleI have been using Borrowell for over a year now and I am a happy customer. I get the real deal on my credit and good advice also!Ashvin G.Facebook Excellent service. Recommend to understand your finance and banking accounts, debt control, loan utilization to build a good credit score for lending purpose.How Does Borrowell Work?Free Weekly Credit MonitoringSign up in just 3 minutes for free access to your Equifax credit score and report, which we update every single week.Credit EducationThe first in Canada, our AI-powered Credit Coach helps you understand your credit score and gives personalized tips that may help you improve it.Product RecommendationsCompare financial products from over 75+ partners and get personalized recommendations based on your credit profile.Get StartedYour Credit Score and Report - All in One Place!You can get your Equifax credit score and credit report for free with Borrowell! Check your credit score or download your credit report whenever you'd like. Receive weekly updates on how your score has changed, get personalized tips how to improve your score, and find the best financial products that match your profile. Checking your credit score with Borrowell doesn't hurt it.Get Your Credit ScoreIs All This Really Free?Yes, it's really free. \\n\\n   We make money by analyzing your credit profile to suggest the best financial products for you from over 50 different companies.\\n\\n   If you take one of our recommendations, that partner pays us a referral fee.   Not interested?   We're still happy to provide your free credit score!Sign Up for FreeBorrowell is Proud!#1 Credit Education CompanyBank level 256-bit encryption security50+ Financial Product PartnersFind The Best Product For YouLoansBorrowell helps thousands of Canadians easily access loans that suit their financial profile.Get a Loan NowCredit CardsExplore recommendations for the best credit card to meet your needs.Find My CardMortgagesCompare mortgage providers to find the best rates in Canada.Compare RatesMore Products AvailableBankingInsuranceInvestingOur Trusted PartnersHere are some of the top financial institutions that we partner with to offer customers the best product recommendations to achieve their financial goals. More Credit Score ResourcesAdd 2 Years of Past Rent Payments to Your Credit Report With BorrowellRenters can now add up to two years of past rent payments to their credit report with our new service.The Borrowell TeamJun 18, 2024Read More87% of Renters Think Rent Payments Should Count Towards Their Credit87% of renters want rent payments to count towards their credit scores — find out why.The Borrowell TeamJun 18, 2024Read MoreWhat Is A Credit Score And Why Does It Matter?If you’re wondering, “What is a credit score, anyway?” – don’t worry! We’ve got you covered.The Borrowell TeamJun 17, 2024Learn MoreThe Best Apps to Check Your Credit Score for Free in Canada Let's take a look at the best Canadian free credit score apps so you stay on top of your credit.Jessica MartelJun 17, 2024Read moreBest Low Interest Credit Cards in Canada for 2024Discover the best low interest credit cards in Canada for 2024 and reduce your interest costs.The Borrowell TeamJul 15, 2024Read MoreBest Credit Card Sign Up Bonuses in Canada in 2024Let's take a look at the biggest offers, the pros and cons of each card, and how you can go about applying.The Borrowell TeamJun 05, 2024Read MoreProductsFree Credit ScoreRent AdvantageCredit BuilderCredit CardsMortgagesBankingAboutAbout BorrowellCareersFAQ/Help CentreReviewsContact UsLegalPrivacyNotable LinksUltimate Credit Score GuideHow to Improve Your Credit ScoreTips From Our Credit CoachDownload Your Credit ReportHard vs. Soft Credit InquiriesInfo on My Credit ReportMortgage and Credit ScoresBorrowell® is a registered trademark of Borrowell Inc. All Rights Reserved. The Equifax credit score is based on Equifax’s proprietary model and may not be the same score used by third parties to determine your credit profile. The score provided to you for educational use is the Equifax Risk Score. 2014-2025 Borrowell® | The Credit Is All Yours!\")]\n"
     ]
    }
   ],
   "source": [
    "web_docs=loader.load()\n",
    "print(web_docs[:10])"
   ]
  },
  {
   "cell_type": "code",
   "execution_count": 18,
   "id": "42939dd8-5906-431a-8e0b-6e0f626e9b3d",
   "metadata": {
    "tags": []
   },
   "outputs": [],
   "source": [
    "#chunking -->\n",
    "#covert to vector with vector embedding\n",
    "#--> store in vectordb\n",
    "\n",
    "from langchain_text_splitters  import RecursiveCharacterTextSplitter\n",
    "splitter=RecursiveCharacterTextSplitter(chunk_size=500, chunk_overlap=100)\n",
    "doc_split=splitter.split_documents(web_docs)"
   ]
  },
  {
   "cell_type": "code",
   "execution_count": 33,
   "id": "71f43f5d-30ed-477e-aa0c-2b2cff2a5ce0",
   "metadata": {
    "tags": []
   },
   "outputs": [],
   "source": [
    "#doc_split\n",
    "from langchain_openai import OpenAIEmbeddings\n",
    "from langchain_community.vectorstores import FAISS\n",
    "embed=OpenAIEmbeddings()\n",
    "vecstorstoredb=FAISS.from_documents(doc_split, embed)\n",
    "vecstorstoredb.save_local('faiss_embed_website')"
   ]
  },
  {
   "cell_type": "code",
   "execution_count": 36,
   "id": "4586a30b-06d2-4285-a8ea-7c582630b342",
   "metadata": {
    "tags": []
   },
   "outputs": [],
   "source": [
    "query=\"what is a credit score? and how can i track it?\"\n",
    "result=vecstorstoredb.similarity_search(query)"
   ]
  },
  {
   "cell_type": "code",
   "execution_count": 38,
   "id": "26e5358d-3ee3-4a7d-b961-502df59c4504",
   "metadata": {
    "tags": []
   },
   "outputs": [
    {
     "data": {
      "text/plain": [
       "Document(id='4b15973b-ef46-4998-8ac4-f502c82b77a4', metadata={'source': 'https://borrowell.com/?msclkid=7db7376a9d6e1045e14650cc9356e94b', 'title': 'Credit Report & Credit Score Canada | Borrowell™', 'description': \"1 in 10 Canadians use Borrowell to monitor their credit. No credit card or SIN needed. We're the only free credit score app made in Canada.\", 'language': 'en'}, page_content=\"Coach helps you understand your credit score and gives personalized tips that may help you improve it.Product RecommendationsCompare financial products from over 75+ partners and get personalized recommendations based on your credit profile.Get StartedYour Credit Score and Report - All in One Place!You can get your Equifax credit score and credit report for free with Borrowell! Check your credit score or download your credit report whenever you'd like. Receive weekly updates on how your score\")"
      ]
     },
     "execution_count": 38,
     "metadata": {},
     "output_type": "execute_result"
    }
   ],
   "source": [
    "result[0]"
   ]
  },
  {
   "cell_type": "code",
   "execution_count": 53,
   "id": "e80a9694-c78d-41b4-a43a-b3c1a69a5a5b",
   "metadata": {
    "tags": []
   },
   "outputs": [],
   "source": [
    "#Retrieval chain ask a question that is more meaningful\n",
    "#Document Chain\n",
    "#RAG\n",
    "from langchain.chains.combine_documents import create_stuff_documents_chain\n",
    "from langchain_core.prompts import ChatPromptTemplate\n",
    "prompt=ChatPromptTemplate.from_template(\n",
    "    \"\"\"\n",
    "    Answer the following question based on the provided context:\n",
    "    {context}\n",
    "    \"\"\"\n",
    ") \n",
    "from langchain_openai import ChatOpenAI\n",
    "llm=ChatOpenAI(model='gpt-4o')\n",
    "\n"
   ]
  },
  {
   "cell_type": "code",
   "execution_count": 54,
   "id": "4955b21d-2c83-4529-aa6a-00023dce9114",
   "metadata": {
    "tags": []
   },
   "outputs": [],
   "source": [
    "document_chain=create_stuff_documents_chain(llm, prompt)"
   ]
  },
  {
   "cell_type": "code",
   "execution_count": 55,
   "id": "75fbef79-b03a-4cbf-af35-7e80a7af528b",
   "metadata": {
    "tags": []
   },
   "outputs": [
    {
     "data": {
      "text/plain": [
       "RunnableBinding(bound=RunnableBinding(bound=RunnableAssign(mapper={\n",
       "  context: RunnableLambda(format_docs)\n",
       "}), kwargs={}, config={'run_name': 'format_inputs'}, config_factories=[])\n",
       "| ChatPromptTemplate(input_variables=['context'], input_types={}, partial_variables={}, messages=[HumanMessagePromptTemplate(prompt=PromptTemplate(input_variables=['context'], input_types={}, partial_variables={}, template='\\n    Answer the following question based on the provided context:\\n    {context}\\n    '), additional_kwargs={})])\n",
       "| ChatOpenAI(client=<openai.resources.chat.completions.Completions object at 0x7f5e852dfe50>, async_client=<openai.resources.chat.completions.AsyncCompletions object at 0x7f5e881b2090>, root_client=<openai.OpenAI object at 0x7f5ea82b6050>, root_async_client=<openai.AsyncOpenAI object at 0x7f5e9b783ed0>, model_name='gpt-4o', model_kwargs={}, openai_api_key=SecretStr('**********'))\n",
       "| StrOutputParser(), kwargs={}, config={'run_name': 'stuff_documents_chain'}, config_factories=[])"
      ]
     },
     "execution_count": 55,
     "metadata": {},
     "output_type": "execute_result"
    }
   ],
   "source": [
    "document_chain"
   ]
  },
  {
   "cell_type": "code",
   "execution_count": 57,
   "id": "e2b129f1-d9f4-4072-ab9d-e80258d8fba7",
   "metadata": {
    "tags": []
   },
   "outputs": [
    {
     "data": {
      "text/plain": [
       "'What is Borrowell, and how does it benefit its users?\\n\\nBorrowell is a service that provides users with access to their credit score and credit report at no cost. It aims to help users understand, manage, and master their credit. The platform is used by over 3 million Canadians. Additionally, checking your credit score with Borrowell does not negatively impact your score, making it a convenient option for monitoring credit health.'"
      ]
     },
     "execution_count": 57,
     "metadata": {},
     "output_type": "execute_result"
    }
   ],
   "source": [
    "from langchain_core.documents import Document\n",
    "document_chain.invoke(\n",
    "    {\n",
    "        \"input\": \"How can i crease my credit score?\",\n",
    "        \"context\":[Document(page_content=\"Your credit score can have a big impact on your financial future. Sign up for Borrowell to get your credit score and credit report for free! Join over 3 million Canadians and get the tools you need to help understand, manage, and master your credit - in under 3 minutes. Checking your credit score with Borrowell won't hurt your score.\")]\n",
    "    }\n",
    ")"
   ]
  },
  {
   "cell_type": "code",
   "execution_count": 61,
   "id": "e031fdea-e480-4f14-aaa5-d36cb48b65a2",
   "metadata": {
    "tags": []
   },
   "outputs": [],
   "source": [
    "#however we want the document to first come from the retriever\n",
    "#Retriever --->\n",
    "#Input --> Retriever(just like an interface)--> Vectorestoredb\n",
    "\n",
    "retriever=vecstorstoredb.as_retriever()\n",
    "\n",
    "from langchain.chains import create_retrieval_chain\n",
    "\n",
    "retrieval_chain=create_retrieval_chain(retriever, document_chain)"
   ]
  },
  {
   "cell_type": "code",
   "execution_count": 62,
   "id": "462aa921-441c-4f2d-998a-c441ffb280e8",
   "metadata": {
    "tags": []
   },
   "outputs": [
    {
     "data": {
      "text/plain": [
       "RunnableBinding(bound=RunnableAssign(mapper={\n",
       "  context: RunnableBinding(bound=RunnableLambda(lambda x: x['input'])\n",
       "           | VectorStoreRetriever(tags=['FAISS', 'OpenAIEmbeddings'], vectorstore=<langchain_community.vectorstores.faiss.FAISS object at 0x7f5ea806e250>, search_kwargs={}), kwargs={}, config={'run_name': 'retrieve_documents'}, config_factories=[])\n",
       "})\n",
       "| RunnableAssign(mapper={\n",
       "    answer: RunnableBinding(bound=RunnableBinding(bound=RunnableAssign(mapper={\n",
       "              context: RunnableLambda(format_docs)\n",
       "            }), kwargs={}, config={'run_name': 'format_inputs'}, config_factories=[])\n",
       "            | ChatPromptTemplate(input_variables=['context'], input_types={}, partial_variables={}, messages=[HumanMessagePromptTemplate(prompt=PromptTemplate(input_variables=['context'], input_types={}, partial_variables={}, template='\\n    Answer the following question based on the provided context:\\n    {context}\\n    '), additional_kwargs={})])\n",
       "            | ChatOpenAI(client=<openai.resources.chat.completions.Completions object at 0x7f5e852dfe50>, async_client=<openai.resources.chat.completions.AsyncCompletions object at 0x7f5e881b2090>, root_client=<openai.OpenAI object at 0x7f5ea82b6050>, root_async_client=<openai.AsyncOpenAI object at 0x7f5e9b783ed0>, model_name='gpt-4o', model_kwargs={}, openai_api_key=SecretStr('**********'))\n",
       "            | StrOutputParser(), kwargs={}, config={'run_name': 'stuff_documents_chain'}, config_factories=[])\n",
       "  }), kwargs={}, config={'run_name': 'retrieval_chain'}, config_factories=[])"
      ]
     },
     "execution_count": 62,
     "metadata": {},
     "output_type": "execute_result"
    }
   ],
   "source": [
    "retrieval_chain"
   ]
  },
  {
   "cell_type": "code",
   "execution_count": 65,
   "id": "3102934f-942b-4437-a72a-4c83d77dde3a",
   "metadata": {
    "tags": []
   },
   "outputs": [],
   "source": [
    "## Get the response from the LLM\n",
    "response=retrieval_chain.invoke(\n",
    "    {\"input\": \"How can i sign up to see my credit score?\"})"
   ]
  },
  {
   "cell_type": "code",
   "execution_count": 66,
   "id": "48c35c42-7929-451a-9c13-5fdc00f28f7c",
   "metadata": {
    "tags": []
   },
   "outputs": [
    {
     "data": {
      "text/plain": [
       "'Based on the context provided, here are the main features and services offered by Borrowell:\\n\\n1. **Free Credit Score and Report**: Borrowell allows you to access your Equifax credit score and report for free. You can check and download your credit report whenever you like without affecting your credit score.\\n\\n2. **Weekly Updates**: You receive weekly updates on changes to your credit score.\\n\\n3. **Personalized Tips**: Borrowell provides personalized advice on improving your credit score through their AI-powered Credit Coach.\\n\\n4. **Product Recommendations**: You can compare financial products from over 75 partners. Borrowell offers personalized recommendations based on your credit profile for things like loans, credit cards, and insurance.\\n\\n5. **Free Weekly Credit Monitoring**: Borrowell updates your Equifax credit score and report weekly, and it’s all free after signing up.\\n\\n6. **Credit Education**: The platform includes educational content to help you understand and manage your credit score effectively.\\n\\n7. **Canadian Service**: Borrowell is a Canadian company and was the first to offer free credit scores in Canada.\\n\\nBorrowell appears to provide comprehensive tools and resources to help users manage their credit health effortlessly, in addition to recommending personalized financial products.'"
      ]
     },
     "execution_count": 66,
     "metadata": {},
     "output_type": "execute_result"
    }
   ],
   "source": [
    "response['answer']"
   ]
  },
  {
   "cell_type": "code",
   "execution_count": 69,
   "id": "b617c3d5-cdea-4c02-b4ed-433e568d2dce",
   "metadata": {
    "tags": []
   },
   "outputs": [
    {
     "data": {
      "text/plain": [
       "[Document(id='4accc813-4c84-4ae7-b368-6ec33baa8ee6', metadata={'source': 'https://borrowell.com/?msclkid=7db7376a9d6e1045e14650cc9356e94b', 'title': 'Credit Report & Credit Score Canada | Borrowell™', 'description': \"1 in 10 Canadians use Borrowell to monitor their credit. No credit card or SIN needed. We're the only free credit score app made in Canada.\", 'language': 'en'}, page_content=\"score or download your credit report whenever you'd like. Receive weekly updates on how your score has changed, get personalized tips how to improve your score, and find the best financial products that match your profile. Checking your credit score with Borrowell doesn't hurt it.Get Your Credit ScoreIs All This Really Free?Yes, it's really free.\"),\n",
       " Document(id='4b15973b-ef46-4998-8ac4-f502c82b77a4', metadata={'source': 'https://borrowell.com/?msclkid=7db7376a9d6e1045e14650cc9356e94b', 'title': 'Credit Report & Credit Score Canada | Borrowell™', 'description': \"1 in 10 Canadians use Borrowell to monitor their credit. No credit card or SIN needed. We're the only free credit score app made in Canada.\", 'language': 'en'}, page_content=\"Coach helps you understand your credit score and gives personalized tips that may help you improve it.Product RecommendationsCompare financial products from over 75+ partners and get personalized recommendations based on your credit profile.Get StartedYour Credit Score and Report - All in One Place!You can get your Equifax credit score and credit report for free with Borrowell! Check your credit score or download your credit report whenever you'd like. Receive weekly updates on how your score\"),\n",
       " Document(id='1b643833-115e-4e18-83f4-d222578fedbe', metadata={'source': 'https://borrowell.com/?msclkid=7db7376a9d6e1045e14650cc9356e94b', 'title': 'Credit Report & Credit Score Canada | Borrowell™', 'description': \"1 in 10 Canadians use Borrowell to monitor their credit. No credit card or SIN needed. We're the only free credit score app made in Canada.\", 'language': 'en'}, page_content='G.Facebook Excellent service. Recommend to understand your finance and banking accounts, debt control, loan utilization to build a good credit score for lending purpose.How Does Borrowell Work?Free Weekly Credit MonitoringSign up in just 3 minutes for free access to your Equifax credit score and report, which we update every single week.Credit EducationThe first in Canada, our AI-powered Credit Coach helps you understand your credit score and gives personalized tips that may help you improve'),\n",
       " Document(id='9c5a795c-62a6-489c-a299-f75250813c24', metadata={'source': 'https://borrowell.com/?msclkid=7db7376a9d6e1045e14650cc9356e94b', 'title': 'Credit Report & Credit Score Canada | Borrowell™', 'description': \"1 in 10 Canadians use Borrowell to monitor their credit. No credit card or SIN needed. We're the only free credit score app made in Canada.\", 'language': 'en'}, page_content='Credit Report & Credit Score Canada | Borrowell™Log InMenuLog InSign UpFree Credit ScoreRent AdvantageCredit BuilderCredit CardsPersonal LoansMortgagesBankingInsuranceBlogStart With Your Free Credit ReportJoin 3 million members and access your free credit score. Get personalized tips, tools and offers that fit your profile and help you meet your financial goals.Sign Up for Free3 million happy Borrowell members.Borrowell is proudly Canadian and was first to offer free credit scores in Canada.Top')]"
      ]
     },
     "execution_count": 69,
     "metadata": {},
     "output_type": "execute_result"
    }
   ],
   "source": [
    "response['context']"
   ]
  },
  {
   "cell_type": "code",
   "execution_count": 13,
   "id": "5a7cc9a5-b5d3-4263-ba73-3a9956416e75",
   "metadata": {
    "tags": []
   },
   "outputs": [],
   "source": []
  },
  {
   "cell_type": "code",
   "execution_count": 53,
   "id": "7c5840db-9992-4266-afb5-ba72f2cf04b6",
   "metadata": {
    "tags": []
   },
   "outputs": [],
   "source": [
    "from langchain_core.prompts import ChatPromptTemplate\n",
    "import os\n",
    "from dotenv import load_dotenv\n",
    "from langchain_openai import ChatOpenAI\n",
    "load_dotenv()\n",
    "os.environ['OPENAI_API_KEY']=os.getenv(\"OPENAI_API_KEY\")\n",
    "from langchain_core.output_parsers import StrOutputParser\n",
    "\n",
    "from langchain_openai import ChatOpenAI\n",
    "llm=ChatOpenAI(model='gpt-4o')\n",
    "parser=StrOutputParser()\n",
    "prompt=ChatPromptTemplate.from_messages(\n",
    "    [\n",
    "   ('system',\"\"\"\n",
    "   Your an expert in finding check numbers and check amounts, you excel in understanding the context of the comments,\n",
    "   Extract the check number and the ammount associated with the check based \n",
    "   on the provided user input return a dictionary with key value pair if no \n",
    "   amount exists you can have the check no and put null, but please be consistent and have grounded response, do not answer anything extra\"\"\"),\n",
    "    ('user','{input}')\n",
    "    ]\n",
    ")\n"
   ]
  },
  {
   "cell_type": "code",
   "execution_count": 54,
   "id": "fcb07d56-3436-491e-a40e-9157f24bfa7b",
   "metadata": {
    "tags": []
   },
   "outputs": [],
   "source": [
    "\n",
    "comment_test = \"\"\"\n",
    "Balabommala Srinivasa Rao (OFFICE\\bsrin05), Thu Dec 19 2024 07:46:23 GMT-0500 (Eastern Standard Time)Date of Narrative entry: 12/19/2024Claim Log :# 28033Claim total amount:$ 10342.66Account Number#: 168065175Claim (Accepted/Denied/In progress):- In progressCustomer Letter Sent Y/N:- NBanker/Internal Contact: ashley.reckers@bmo.comAccount Status: 09-Credits Only AllowedRestriction or Closure submitted: (Y/N):- Ni.e.) from (ashley.reckers@bmo.com) on behalf of (2012 PATRICK M MACAULAY REVOCABLE TRUST) in regard to check fraud that occurred on (12/04/2024) with check number (3600) originally payable to (US Bank) which was altered by (Shaquille Hilliard) transacted at (BMO Bank). The claim states that the check is (Check Alterations). Additional information was provided on how the check may have been compromised. Details are as follows: sent 1st letter to BOFD, it&rsquo;s a sec-2 claim.12/04       3600 15488 51516 0093         10342.66 CK OTC CHECKBUC : 0278912/19/2024: - Email sent to manager for approval to do\n",
    "\"\"\"\n"
   ]
  },
  {
   "cell_type": "code",
   "execution_count": 55,
   "id": "72975ae4-db01-43af-af65-e93927639814",
   "metadata": {
    "tags": []
   },
   "outputs": [],
   "source": [
    "chain=prompt|llm| parser\n",
    "response=chain.invoke({\"input\":comment_test})"
   ]
  },
  {
   "cell_type": "code",
   "execution_count": 56,
   "id": "09148ce1-4dad-47a2-b34f-05bfbd57759e",
   "metadata": {
    "tags": []
   },
   "outputs": [],
   "source": [
    "import json\n",
    "response=response.strip(\"```json\\n\").strip(\"\\n```\")\n",
    "check_amount_dict=json.loads(response)"
   ]
  },
  {
   "cell_type": "code",
   "execution_count": 57,
   "id": "c2365ceb-5242-4a87-a74d-b2206bb9242e",
   "metadata": {
    "tags": []
   },
   "outputs": [
    {
     "data": {
      "text/plain": [
       "{'3600': 10342.66}"
      ]
     },
     "execution_count": 57,
     "metadata": {},
     "output_type": "execute_result"
    }
   ],
   "source": [
    "check_amount_dict"
   ]
  },
  {
   "cell_type": "code",
   "execution_count": null,
   "id": "3452dc35-e596-44f2-a772-de3fd96733a5",
   "metadata": {},
   "outputs": [],
   "source": []
  }
 ],
 "metadata": {
  "kernelspec": {
   "display_name": "Python 3 (ipykernel)",
   "language": "python",
   "name": "python3"
  },
  "language_info": {
   "codemirror_mode": {
    "name": "ipython",
    "version": 3
   },
   "file_extension": ".py",
   "mimetype": "text/x-python",
   "name": "python",
   "nbconvert_exporter": "python",
   "pygments_lexer": "ipython3",
   "version": "3.11.7"
  }
 },
 "nbformat": 4,
 "nbformat_minor": 5
}
