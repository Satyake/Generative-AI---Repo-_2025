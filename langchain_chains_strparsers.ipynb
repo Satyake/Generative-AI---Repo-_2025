{
 "cells": [
  {
   "cell_type": "code",
   "execution_count": 12,
   "id": "ac0af94b-97d1-4b22-8cb0-e8a806e1f84f",
   "metadata": {
    "tags": []
   },
   "outputs": [
    {
     "data": {
      "text/plain": [
       "True"
      ]
     },
     "execution_count": 12,
     "metadata": {},
     "output_type": "execute_result"
    }
   ],
   "source": [
    "import os \n",
    "from dotenv import load_dotenv\n",
    "load_dotenv()"
   ]
  },
  {
   "cell_type": "code",
   "execution_count": 20,
   "id": "58f18944-2853-43e5-b0da-df2d139995e6",
   "metadata": {
    "tags": []
   },
   "outputs": [
    {
     "name": "stdout",
     "output_type": "stream",
     "text": [
      "\u001b[33mWARNING: Running pip as the 'root' user can result in broken permissions and conflicting behaviour with the system package manager. It is recommended to use a virtual environment instead: https://pip.pypa.io/warnings/venv\u001b[0m\u001b[33m\n",
      "\u001b[0m"
     ]
    }
   ],
   "source": [
    "!pip install -q langchain-openai chromadb langchain"
   ]
  },
  {
   "cell_type": "code",
   "execution_count": 17,
   "id": "e10c425e-6bae-4d32-afca-05950a2a23fd",
   "metadata": {
    "tags": []
   },
   "outputs": [],
   "source": [
    "os.environ['OPENAI_API_KEY']=os.getenv(\"OPENAI_API_KEY\")\n",
    "os.environ[\"LANGCHAIN_API_KEY\"]=os.getenv(\"LANGCHAIN_API_KEY\")\n",
    "os.environ['LANGCHAIN_TRACING_V2']=\"true\"\n",
    "os.environ['LANGCHAIN_PROJECT']=os.getenv('LANGCHAIN_PROJECT')"
   ]
  },
  {
   "cell_type": "code",
   "execution_count": 25,
   "id": "5204bd2b-7e82-4c50-bc8c-e055cb953d50",
   "metadata": {
    "tags": []
   },
   "outputs": [],
   "source": [
    "from langchain_openai import OpenAI, ChatOpenAI\n",
    "llm=ChatOpenAI(model=\"gpt-4o\")"
   ]
  },
  {
   "cell_type": "code",
   "execution_count": 26,
   "id": "5887313f-6c10-49bc-b0dc-2d59ae72d38a",
   "metadata": {
    "tags": []
   },
   "outputs": [
    {
     "name": "stdout",
     "output_type": "stream",
     "text": [
      "client=<openai.resources.chat.completions.Completions object at 0x7f331e28cfd0> async_client=<openai.resources.chat.completions.AsyncCompletions object at 0x7f331e2a8390> root_client=<openai.OpenAI object at 0x7f331ec23290> root_async_client=<openai.AsyncOpenAI object at 0x7f331e2a0810> model_name='gpt-4o' model_kwargs={} openai_api_key=SecretStr('**********')\n"
     ]
    }
   ],
   "source": [
    "print(llm)"
   ]
  },
  {
   "cell_type": "code",
   "execution_count": 29,
   "id": "a118e646-913c-4fe7-834e-1820603d00f4",
   "metadata": {
    "tags": []
   },
   "outputs": [],
   "source": [
    "#input and get response from LLM\n",
    "result=llm.invoke(\"What is Gen AI \")"
   ]
  },
  {
   "cell_type": "code",
   "execution_count": 33,
   "id": "a3883bb8-a80a-4822-a328-f702b6111ace",
   "metadata": {
    "tags": []
   },
   "outputs": [
    {
     "name": "stdout",
     "output_type": "stream",
     "text": [
      "Generative AI, often abbreviated as Gen AI, refers to a category of artificial intelligence models and technologies designed to create content. This can include text, images, music, video, and even complex data sets. These models learn patterns and structures from existing data and generate new, similar data by leveraging deep learning techniques such as neural networks, particularly transformers and generative adversarial networks (GANs).\n",
      "\n",
      "Some popular applications and examples of generative AI include:\n",
      "\n",
      "1. **Natural Language Processing (NLP)**: Language models like OpenAI's GPT (Generative Pre-trained Transformer) can generate coherent and contextually relevant text based on a given prompt. They are used in chatbots, automated content creation, and translation services.\n",
      "\n",
      "2. **Image Generation**: Models such as DALL-E and Stable Diffusion can create images from textual descriptions, generating unique visuals based on input cues.\n",
      "\n",
      "3. **Music and Audio Production**: AI systems can compose music or generate soundscapes, often by analyzing vast databases of existing music to produce new compositions or sound effects.\n",
      "\n",
      "4. **Video Generation**: Emerging technologies aim to create videos from text descriptions, animate static images, or even generate new video content based on learned styles.\n",
      "\n",
      "5. **Data Synthesis**: In scientific and research contexts, generative AI can create synthetic data sets that mimic real-world data for training models when actual data is scarce or sensitive.\n",
      "\n",
      "Generative AI holds significant potential for various industries, offering tools for creativity, automation, and innovation. However, it also raises ethical considerations, such as copyright issues, the potential for generating misleading or harmful content, and questions about the authenticity and originality of AI-created work.\n"
     ]
    }
   ],
   "source": [
    "print(result.content)"
   ]
  },
  {
   "cell_type": "code",
   "execution_count": 35,
   "id": "bb018270-b22c-49b9-8edb-3948f0c772a0",
   "metadata": {
    "tags": []
   },
   "outputs": [],
   "source": [
    "### Prompt Template\n",
    "#ChatPrompt Template\n",
    "from langchain_core.prompts import ChatPromptTemplate\n",
    "prompt=ChatPromptTemplate.from_messages(\n",
    " [\n",
    "  (\"system\",\"You are an expert AI Engineer, Provide me answers based on the questions\"),\n",
    "  (\"user\",\"{input}\")\n",
    "      \n",
    " ]\n",
    ")"
   ]
  },
  {
   "cell_type": "code",
   "execution_count": 37,
   "id": "0e9f17c0-c110-4912-b8a8-bc917936458a",
   "metadata": {
    "tags": []
   },
   "outputs": [],
   "source": [
    "#create a chain \n",
    "chain=prompt|llm\n",
    "\n",
    "response=chain.invoke({\"input\":\"Can you tell me about Langsmith?\"})"
   ]
  },
  {
   "cell_type": "code",
   "execution_count": 39,
   "id": "2073c6ea-f38e-4bd2-8e8e-5c155b5ae398",
   "metadata": {
    "tags": []
   },
   "outputs": [
    {
     "name": "stdout",
     "output_type": "stream",
     "text": [
      "Langsmith is a platform that has been developed to enhance the creation and management of applications that use language models, specifically built around LangChain. LangChain is a framework that facilitates the development of applications powered by language models, such as chatbots, virtual assistants, and other natural language processing tools.\n",
      "\n",
      "Langsmith offers a suite of tools and features designed to streamline several key aspects of building language model applications. These include:\n",
      "\n",
      "1. **Experimentation and Debugging**: Langsmith provides utilities to help developers experiment with different language models and fine-tune their applications' performance. This makes it easier to identify and fix issues during the development process.\n",
      "\n",
      "2. **Monitoring**: Once a language model application is deployed, Langsmith helps developers monitor its performance in real-time. This includes tracking various metrics to ensure the application operates as intended.\n",
      "\n",
      "3. **Tracing**: It offers capabilities for tracing the flow of operations, which can be crucial for understanding how data is processed within the application. This helps in identifying inefficiencies or bugs that may arise during the execution of tasks.\n",
      "\n",
      "The platform aims to make it easier for developers to build robust and scalable applications by providing insight into the internal workings of language models and assisting with the iterative development process. Additionally, Langsmith integrates seamlessly with the existing ecosystem of tools and resources available in the LangChain framework. \n",
      "\n",
      "Overall, Langsmith aims to accelerate the development lifecycle of language model-based applications, from experimentation and testing to deployment and ongoing maintenance.\n"
     ]
    }
   ],
   "source": [
    "print(response.content)"
   ]
  },
  {
   "cell_type": "code",
   "execution_count": 40,
   "id": "ed514a2c-2ab3-4d20-aa3f-127e8112f14e",
   "metadata": {
    "tags": []
   },
   "outputs": [
    {
     "data": {
      "text/plain": [
       "langchain_core.messages.ai.AIMessage"
      ]
     },
     "execution_count": 40,
     "metadata": {},
     "output_type": "execute_result"
    }
   ],
   "source": [
    "type(response)"
   ]
  },
  {
   "cell_type": "code",
   "execution_count": 42,
   "id": "49a3f837-2ba5-4420-a8b9-1d73483d1aed",
   "metadata": {
    "tags": []
   },
   "outputs": [],
   "source": [
    "##stroutput Parser\n",
    "from langchain_core.output_parsers import StrOutputParser\n",
    "output_parser=StrOutputParser()\n",
    "chain=prompt | llm | output_parser\n"
   ]
  },
  {
   "cell_type": "code",
   "execution_count": 43,
   "id": "683feccb-3db7-4dec-ab2e-e6d918b1e968",
   "metadata": {
    "tags": []
   },
   "outputs": [],
   "source": [
    "response=chain.invoke({\"input\": \"Can you tell me about langsmith\"})"
   ]
  },
  {
   "cell_type": "code",
   "execution_count": 44,
   "id": "88a9ddbc-a0b8-4231-9ae8-7793ad8eba7c",
   "metadata": {
    "tags": []
   },
   "outputs": [
    {
     "name": "stdout",
     "output_type": "stream",
     "text": [
      "LangSmith is a product developed by the team behind LangChain, aimed at enhancing the development and debugging process of applications that use large language models (LLMs). It provides a suite of tools to facilitate the testing, monitoring, and evaluation of prompts and chains within such applications.\n",
      "\n",
      "Key features include:\n",
      "\n",
      "1. **Prompt Evaluation**: LangSmith allows developers to evaluate and refine prompts to improve performance and output consistency.\n",
      "\n",
      "2. **Debugging Tools**: It provides debugging capabilities to identify and rectify issues within the chain logic or prompt design effectively.\n",
      "\n",
      "3. **Execution Tracing**: Developers can trace the steps of a chain execution, understand decision points, and the flow of data across the chain nodes.\n",
      "\n",
      "4. **Performance Monitoring**: LangSmith offers tools to monitor performance metrics and gain insights into application behavior during runtime.\n",
      "\n",
      "The tool is designed to integrate seamlessly with LangChain applications, providing an integrated environment for iterative development and optimization of LLM-powered applications.\n"
     ]
    }
   ],
   "source": [
    "print(response)"
   ]
  },
  {
   "cell_type": "code",
   "execution_count": null,
   "id": "2a51733a-1417-436f-b967-13ce770aa9a8",
   "metadata": {},
   "outputs": [],
   "source": []
  }
 ],
 "metadata": {
  "kernelspec": {
   "display_name": "Python 3 (ipykernel)",
   "language": "python",
   "name": "python3"
  },
  "language_info": {
   "codemirror_mode": {
    "name": "ipython",
    "version": 3
   },
   "file_extension": ".py",
   "mimetype": "text/x-python",
   "name": "python",
   "nbconvert_exporter": "python",
   "pygments_lexer": "ipython3",
   "version": "3.11.7"
  }
 },
 "nbformat": 4,
 "nbformat_minor": 5
}
